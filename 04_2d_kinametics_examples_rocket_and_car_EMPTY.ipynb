{
 "cells": [
  {
   "cell_type": "markdown",
   "metadata": {},
   "source": [
    "# Summary on available functions"
   ]
  },
  {
   "cell_type": "markdown",
   "metadata": {},
   "source": [
    "(Just for help)\n",
    "\n",
    "Mathematical functions:\n",
    "* deriv(xx_tab, ff_tab)\n",
    "* integral(xx_tab, ff_tab, F0=0.0)\n",
    "\n",
    "Useful Python functions\n",
    "* fill_list_series(value_0, value_max, delta_value)\n",
    "* calc_func_list(value_list, func)\n",
    "* find_ind(tab, value)\n",
    "* find_max_ind(tab)\n",
    "* find_min_ind(tab)\n",
    "\n",
    "1D:\n",
    "Displacement and distance covered:\n",
    "* calc_displacement_1D(x_tab)\n",
    "* calc_distance_covered_1D(x_tab)\n",
    "\n",
    "2D:\n",
    "* calc_abs_2D(xc_tab, yc_tab)\n",
    "* calc_displacement_2D(x_tab, y_tab)\n",
    "* calc_distance_covered_2D(x_tab, y_tab)"
   ]
  },
  {
   "cell_type": "code",
   "execution_count": null,
   "metadata": {},
   "outputs": [],
   "source": [
    "!wget https://github.com/zoldbirka/colab-eng-phys/raw/refs/heads/main/twodkinematics.py\n",
    "# Make sure twodkinematics.py is downloaded and copied next to this file!\n",
    "# Or copy all functions from template-kinem-2d.ipynb at the start!"
   ]
  },
  {
   "cell_type": "code",
   "execution_count": 5,
   "metadata": {},
   "outputs": [],
   "source": [
    "# importing modules\n",
    "import math   # math functions\n",
    "import matplotlib.pyplot as plt  # graph plot\n",
    "%matplotlib inline\n",
    "\n",
    "## Solution with pre written 'kinematics.py'\n",
    "from twodkinematics import*"
   ]
  },
  {
   "cell_type": "markdown",
   "metadata": {},
   "source": [
    "# 2D Examples - Rotating rocket problem"
   ]
  },
  {
   "cell_type": "markdown",
   "metadata": {},
   "source": [
    "We start a small rocket in space, far from everything, with 0 initial velocity. The rocket has fuel for 100 s long, $a=0.3\\operatorname{m/s^2}$ magnitude acceleration. Something went wrong, and the rocket started to spin with a constant $\\beta=0.05\\operatorname{1/s^2}$ angular acceleration. \n",
    "\n",
    "Due to the spin, the direction of the acceleration vector will change according to the $\\alpha(t)=\\beta/2\\cdot t^2$ function.\n",
    "\n",
    "1) Plot the position, velocity and acceleration coordinates as a function of time.\n",
    "\n",
    "2) Plot the path of the rocket.\n",
    "\n",
    "3) What is the maximum speed and when it is reached?\n",
    "\n",
    "4) When will the rocket be 100 m distance from the original position?\n",
    "\n",
    "5) What is the total distance covered at the previous time?"
   ]
  },
  {
   "cell_type": "markdown",
   "metadata": {},
   "source": [
    "## Zeroth step: set the coordinate system\n",
    "\n",
    "Origin at the start point.\n",
    "\n",
    "x points horizontally in the direction of initial direction.\n",
    "\n",
    "y point upwards."
   ]
  },
  {
   "cell_type": "markdown",
   "metadata": {},
   "source": [
    "## First step: calculate kinematics"
   ]
  },
  {
   "cell_type": "code",
   "execution_count": 54,
   "metadata": {},
   "outputs": [],
   "source": [
    "#input data as variables\n",
    "\n",
    "\n",
    "#initial velocity (We start from rest)\n",
    "\n",
    "\n",
    "#initial position (We start from origin)\n",
    "\n",
    "\n"
   ]
  },
  {
   "cell_type": "markdown",
   "metadata": {},
   "source": [
    "## Plot the position, velocity and acceleration coordinates as a function of time"
   ]
  },
  {
   "cell_type": "code",
   "execution_count": null,
   "metadata": {},
   "outputs": [],
   "source": []
  },
  {
   "cell_type": "markdown",
   "metadata": {},
   "source": [
    "## Plot the path of the rocket"
   ]
  },
  {
   "cell_type": "code",
   "execution_count": null,
   "metadata": {},
   "outputs": [],
   "source": []
  },
  {
   "cell_type": "markdown",
   "metadata": {},
   "source": [
    "## What is the maxmimum speed and when it is reached?"
   ]
  },
  {
   "cell_type": "code",
   "execution_count": null,
   "metadata": {},
   "outputs": [],
   "source": []
  },
  {
   "cell_type": "markdown",
   "metadata": {},
   "source": [
    "## When will be the rocket at 100 m distance from the original position?"
   ]
  },
  {
   "cell_type": "code",
   "execution_count": 73,
   "metadata": {},
   "outputs": [],
   "source": []
  },
  {
   "cell_type": "markdown",
   "metadata": {},
   "source": [
    "# 2D Examples - Weaving car problem"
   ]
  },
  {
   "cell_type": "markdown",
   "metadata": {},
   "source": [
    "A car is moving on a test road in the following way: \n",
    "* Initially, it moves on the centre line at 5 m/s speed.\n",
    "* It starts to increase its speed with 0.5 m/s^2 acceleration continuously\n",
    "* It starts to \"weave\" left-right by oscillating its velocity direction with alpha=15°*sin(1.1*t)\n",
    "  \n",
    "In other words: the speed increases linearly during the motion, but the direction of the velocity vector oscillates between -15° and +15° values with 1.1 Hz angular frequency.\n",
    "\n",
    "Questions:\n",
    "1) Plot the position, velocity and acceleration coordinates as a function of time\n",
    "2) Plot the path of the car\n",
    "3) Plot the magnitude of the acceleration as a function of time!\n",
    "4) When and where will the magnitude of the acceleration reach 8 m/s^2 at first? \n",
    "5) What is the total distance covered at the previous time?\n",
    "6) How wide a road is required for this test? (until the previous time)"
   ]
  },
  {
   "cell_type": "markdown",
   "metadata": {},
   "source": [
    "## Zeroth step: set the coordinate system\n",
    "\n",
    "Origin is the point where it starts to accelerate.\n",
    "\n",
    "x points in the direction of the initial direction.\n"
   ]
  },
  {
   "cell_type": "markdown",
   "metadata": {},
   "source": [
    "## First step: calculate kinematics"
   ]
  },
  {
   "cell_type": "code",
   "execution_count": null,
   "metadata": {},
   "outputs": [],
   "source": []
  },
  {
   "cell_type": "markdown",
   "metadata": {},
   "source": [
    "## 1) Plot the position, velocity and acceleration coordinates as a function of time"
   ]
  },
  {
   "cell_type": "code",
   "execution_count": null,
   "metadata": {},
   "outputs": [],
   "source": []
  },
  {
   "cell_type": "markdown",
   "metadata": {},
   "source": [
    "## 2) Plot the path of the car"
   ]
  },
  {
   "cell_type": "code",
   "execution_count": null,
   "metadata": {},
   "outputs": [],
   "source": []
  },
  {
   "cell_type": "markdown",
   "metadata": {},
   "source": [
    "## 3) Plot the magnitude of the acceleration as a function of time!"
   ]
  },
  {
   "cell_type": "code",
   "execution_count": null,
   "metadata": {},
   "outputs": [],
   "source": []
  },
  {
   "cell_type": "markdown",
   "metadata": {},
   "source": [
    "## 4) When and where will the magnitude of the acceleration reach 8 m/s^2 at first? "
   ]
  },
  {
   "cell_type": "code",
   "execution_count": null,
   "metadata": {},
   "outputs": [],
   "source": []
  },
  {
   "cell_type": "markdown",
   "metadata": {},
   "source": [
    "## 5) What is the total distance covered at the previous time?"
   ]
  },
  {
   "cell_type": "code",
   "execution_count": null,
   "metadata": {},
   "outputs": [],
   "source": []
  },
  {
   "cell_type": "markdown",
   "metadata": {},
   "source": [
    "## 6) How wide a road is required for this test? (until the previous time)"
   ]
  },
  {
   "cell_type": "code",
   "execution_count": null,
   "metadata": {},
   "outputs": [],
   "source": []
  }
 ],
 "metadata": {
  "kernelspec": {
   "display_name": "pylatest",
   "language": "python",
   "name": "python3"
  },
  "language_info": {
   "codemirror_mode": {
    "name": "ipython",
    "version": 3
   },
   "file_extension": ".py",
   "mimetype": "text/x-python",
   "name": "python",
   "nbconvert_exporter": "python",
   "pygments_lexer": "ipython3",
   "version": "3.9.15"
  }
 },
 "nbformat": 4,
 "nbformat_minor": 2
}
