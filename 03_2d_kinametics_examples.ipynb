{
 "cells": [
  {
   "cell_type": "markdown",
   "metadata": {},
   "source": [
    "# Summary on available functions"
   ]
  },
  {
   "cell_type": "markdown",
   "metadata": {},
   "source": [
    "(Just for help)\n",
    "\n",
    "Mathematical functions:\n",
    "* deriv(xx_tab, ff_tab)\n",
    "* integral(xx_tab, ff_tab, F0=0.0)\n",
    "\n",
    "Useful Python functions\n",
    "* fill_list_series(value_0, value_max, delta_value)\n",
    "* calc_func_list(value_list, func)\n",
    "* find_ind(tab, value)\n",
    "* find_max_ind(tab)\n",
    "* find_min_ind(tab)\n",
    "\n",
    "1D:\n",
    "Displacement and distance covered:\n",
    "* calc_displacement_1D(x_tab)\n",
    "* calc_distance_covered_1D(x_tab)\n",
    "\n",
    "2D:\n",
    "* calc_abs_2D(xc_tab, yc_tab)\n",
    "* calc_displacement_2D(x_tab, y_tab)\n",
    "* calc_distance_covered_2D(x_tab, y_tab)"
   ]
  },
  {
   "cell_type": "code",
   "execution_count": 2,
   "metadata": {},
   "outputs": [
    {
     "name": "stdout",
     "output_type": "stream",
     "text": [
      "--2024-11-06 13:45:10--  https://github.com/zoldbirka/colab-eng-phys/raw/refs/heads/main/twodkinematics.py\n",
      "github.com (github.com) feloldása… 140.82.121.3\n",
      "Csatlakozás a következőhöz: github.com (github.com)[140.82.121.3]:443… kapcsolódva.\n",
      "HTTP kérés elküldve, várakozás válaszra… 302 Found\n",
      "Hely: https://raw.githubusercontent.com/zoldbirka/colab-eng-phys/refs/heads/main/twodkinematics.py [következik]\n",
      "--2024-11-06 13:45:12--  https://raw.githubusercontent.com/zoldbirka/colab-eng-phys/refs/heads/main/twodkinematics.py\n",
      "raw.githubusercontent.com (raw.githubusercontent.com) feloldása… 185.199.109.133, 185.199.110.133, 185.199.111.133, ...\n",
      "Csatlakozás a következőhöz: raw.githubusercontent.com (raw.githubusercontent.com)[185.199.109.133]:443… kapcsolódva.\n",
      "HTTP kérés elküldve, várakozás válaszra… 200 OK\n",
      "Hossz: 9149 (8,9K) [text/plain]\n",
      "Mentés ide: „twodkinematics.py.2”\n",
      "\n",
      "twodkinematics.py.2 100%[===================>]   8,93K  --.-KB/s    idő 0s     \n",
      "\n",
      "2024-11-06 13:45:13 (30,1 MB/s) -- „twodkinematics.py.2” mentve [9149/9149]\n",
      "\n"
     ]
    }
   ],
   "source": [
    "!wget https://github.com/zoldbirka/colab-eng-phys/raw/refs/heads/main/twodkinematics.py\n",
    "# Make sure twodkinematics.py is downloaded and copied next to this file!\n",
    "# Or copy all functions from template-kinem-2d.ipynb at the start!"
   ]
  },
  {
   "cell_type": "code",
   "execution_count": 3,
   "metadata": {},
   "outputs": [],
   "source": [
    "# importing modules\n",
    "import math   # math functions\n",
    "import matplotlib.pyplot as plt  # graph plot\n",
    "%matplotlib inline\n",
    "\n",
    "## Solution with pre written 'kinematics.py'\n",
    "from twodkinematics import*"
   ]
  },
  {
   "cell_type": "markdown",
   "metadata": {},
   "source": [
    "# 2D Examples"
   ]
  },
  {
   "cell_type": "markdown",
   "metadata": {},
   "source": [
    "## Ball motion with no air resistance"
   ]
  },
  {
   "cell_type": "markdown",
   "metadata": {},
   "source": [
    "Problem:\n",
    "\n",
    "We throw a ball from a $h=20$ m height building with initial speed of $v_0=18$ m/s and inital angle (form the horizontal direction) of $\\alpha=16$° .\n",
    "\n",
    "* Where will the ball hit the ground?\n",
    "* What will be the impact speed?\n",
    "* How long did it take to reach the ground?\n",
    "* What was the maximum height of this ball during the motion?\n",
    "* What is the path length from the start to the impact?\n",
    "* If there is another building at 25 m distance, where will the ball hit it?"
   ]
  },
  {
   "cell_type": "markdown",
   "metadata": {},
   "source": [
    "## Zeroth step: set the coordinate system\n",
    "\n",
    "Origin on the ground below the start point.\n",
    "\n",
    "x points horizontally in the direction of initial velocity.\n",
    "\n",
    "y point upwards."
   ]
  },
  {
   "cell_type": "markdown",
   "metadata": {},
   "source": [
    "## First step: calculate $x(t)$ and $y(t)$"
   ]
  },
  {
   "cell_type": "code",
   "execution_count": 64,
   "metadata": {},
   "outputs": [],
   "source": [
    "# input data as variables\n",
    "v0 = 18.0    #m/s\n",
    "alpha = 16.0 #degree\n",
    "h = 25.0     #m\n",
    "\n",
    "g = 9.81     #m/s^2"
   ]
  },
  {
   "cell_type": "code",
   "execution_count": 65,
   "metadata": {},
   "outputs": [
    {
     "name": "stdout",
     "output_type": "stream",
     "text": [
      "testing function from math module:  3.141592653589793\n"
     ]
    }
   ],
   "source": [
    "# angle should be converted to radians!\n",
    "print(\"testing function from math module: \", math.radians(180))"
   ]
  },
  {
   "cell_type": "code",
   "execution_count": 66,
   "metadata": {},
   "outputs": [],
   "source": [
    "# calculating initial velocity components\n",
    "vx0 = v0 * math.cos( math.radians(alpha) )\n",
    "vy0 = v0 * math.sin( math.radians(alpha) )\n",
    "\n",
    "# initial position components\n",
    "x0 = 0.0\n",
    "y0 = h"
   ]
  },
  {
   "cell_type": "code",
   "execution_count": 67,
   "metadata": {},
   "outputs": [],
   "source": [
    "# defining position functions in both directions\n",
    "def xt(t):\n",
    "    return vx0 * t + x0\n",
    "\n",
    "def yt(t):\n",
    "    return -g/2 *t**2 + vy0 * t + y0"
   ]
  },
  {
   "cell_type": "code",
   "execution_count": 68,
   "metadata": {},
   "outputs": [],
   "source": [
    "# Let's define the time values:\n",
    "t_tab = fill_list_series(0.0, 5.0, 0.001) \n",
    "# We use fill_list_series() see in 'twodkinematics.py'\n",
    "\n",
    "N = len(t_tab) # Number of time values\n",
    "\n",
    "# t_max = 5.0 is a guess. Maybe, we have to increase it, if the body did not touch the ground."
   ]
  },
  {
   "cell_type": "code",
   "execution_count": 69,
   "metadata": {},
   "outputs": [],
   "source": [
    "# Let's calculate the x,y values (position components)\n",
    "x_tab = calc_func_list(t_tab, xt)\n",
    "y_tab = calc_func_list(t_tab, yt) "
   ]
  },
  {
   "cell_type": "code",
   "execution_count": 70,
   "metadata": {},
   "outputs": [],
   "source": [
    "# Let's calculate the vx, vy values (velocity components)\n",
    "vx_tab = deriv(t_tab, x_tab)\n",
    "vy_tab = deriv(t_tab, y_tab)"
   ]
  },
  {
   "cell_type": "code",
   "execution_count": 71,
   "metadata": {},
   "outputs": [],
   "source": [
    "# Let's calculate ax, ay values \n",
    "ax_tab = deriv(t_tab, vx_tab)\n",
    "ay_tab = deriv(t_tab, vy_tab)\n",
    "\n",
    "#Note in this case we know ax = 0, and ay = -g !!!\n",
    "# But usefull for plotting"
   ]
  },
  {
   "cell_type": "code",
   "execution_count": 72,
   "metadata": {},
   "outputs": [
    {
     "name": "stdout",
     "output_type": "stream",
     "text": [
      "x: [0.0, 0.01730271052688974, 0.03460542105377948, 0.051908131580669224, 0.06921084210755896]\n",
      "y: [25.0, 25.004956567404705, 25.00990332480941, 25.01484027221412, 25.019767409618822]\n",
      "vx: [17.30271052688974, 17.30271052688974, 17.302710526889744, 17.30271052688974, 17.302710526889737]\n",
      "vy: [4.961472404703571, 4.951662404705459, 4.9418524047073475, 4.932042404705683, 4.922232404705795]\n"
     ]
    }
   ],
   "source": [
    "# print some values to check\n",
    "# Use the copy and change it intelligently\n",
    "\n",
    "print(\"x:\", x_tab[0:5])\n",
    "print(\"y:\", y_tab[0:5])\n",
    "print(\"vx:\", vx_tab[0:5])\n",
    "print(\"vy:\", vy_tab[0:5])"
   ]
  },
  {
   "cell_type": "code",
   "execution_count": 73,
   "metadata": {},
   "outputs": [
    {
     "data": {
      "text/plain": [
       "[<matplotlib.lines.Line2D at 0x7f8408e6c8b0>]"
      ]
     },
     "execution_count": 73,
     "metadata": {},
     "output_type": "execute_result"
    },
    {
     "data": {
      "image/png": "[encoded data removed]",
      "text/plain": [
       "<Figure size 1440x1080 with 3 Axes>"
      ]
     },
     "metadata": {
      "needs_background": "light"
     },
     "output_type": "display_data"
    }
   ],
   "source": [
    "# It is a simple example of plotting. \n",
    "# Use the copy of it and change intelligently to plot what you want. \n",
    "# Sometimes just putting and deleting '#' character for deactivating or activating sepcific parts is enough\n",
    "\n",
    "t_range=[0.0, 5.0]    # for a specific range. PLAY WITH END TIME!\n",
    "\n",
    "# initialize plot routine\n",
    "fig=plt.figure(figsize=(20,15))  # plot size\n",
    "\n",
    "# position of three sub-graphs\n",
    "ax1=fig.add_subplot(311) \n",
    "ax2=fig.add_subplot(312)\n",
    "ax3=fig.add_subplot(313)\n",
    "\n",
    "# setting of horizontal axes\n",
    "for ax in [ax1, ax2, ax3]:\n",
    "    ax.set_xlabel(\"t\") # set the label\n",
    "    ax.set_xlim(t_range) # set the min and max values; comment it out if neccessary\n",
    "    ax.grid()    # draw a grey grid \n",
    "\n",
    "# content of graphs\n",
    "ax1.set_ylabel(\"postion\")\n",
    "ax1.plot(t_tab, x_tab, color=\"red\") # x(t) with red\n",
    "ax1.plot(t_tab, y_tab, color=\"orange\") # y(t) with orange\n",
    "ax2.set_ylabel(\"velocity\")\n",
    "ax2.plot(t_tab, vx_tab, color=\"green\") # vx(t) with green\n",
    "ax2.plot(t_tab, vy_tab, color=\"cyan\") # vy(t) with cyan\n",
    "ax3.set_ylabel(\"acceleration\")\n",
    "ax3.plot(t_tab, ax_tab, color=\"blue\") # ax(t) with blue\n",
    "ax3.plot(t_tab, ay_tab, color=\"magenta\") # ay(t) with magenta\n",
    "\n",
    "# plt.savefig(....)"
   ]
  },
  {
   "cell_type": "markdown",
   "metadata": {},
   "source": [
    "Find the time, when the body touched the ground on the graph!"
   ]
  },
  {
   "cell_type": "code",
   "execution_count": 74,
   "metadata": {},
   "outputs": [
    {
     "data": {
      "text/plain": [
       "[<matplotlib.lines.Line2D at 0x7f8408da3fd0>]"
      ]
     },
     "execution_count": 74,
     "metadata": {},
     "output_type": "execute_result"
    },
    {
     "data": {
      "image/png": "[encoded data removed]",
      "text/plain": [
       "<Figure size 720x504 with 1 Axes>"
      ]
     },
     "metadata": {
      "needs_background": "light"
     },
     "output_type": "display_data"
    }
   ],
   "source": [
    "# Plot the path in x-y plane\n",
    "\n",
    "fig = plt.figure(figsize=(10,7))  # plot size\n",
    "\n",
    "# position of three sub-graphs\n",
    "ax1 = fig.add_subplot(111) \n",
    "\n",
    "ax1.set_xlabel(\"x\") # set the label\n",
    "ax1.set_ylabel(\"y\") # set the label\n",
    "ax1.grid()    # draw a grey grid \n",
    "\n",
    "# content of graphs\n",
    "\n",
    "ax1.plot(x_tab, y_tab, color=\"red\")   # plot y over x\n"
   ]
  },
  {
   "cell_type": "markdown",
   "metadata": {},
   "source": [
    "## Where will the ball hit the ground?\n",
    "## What will be the impact speed?\n",
    "## How long did it take to reach the ground?"
   ]
  },
  {
   "cell_type": "code",
   "execution_count": 75,
   "metadata": {},
   "outputs": [],
   "source": [
    "# find the meaning of \"hit the ground:\"\n",
    "# y = 0 (in this coordinate system)\n",
    "\n",
    "# We expect and get a single solution\n",
    "# So take 0th element from the reulted list\n",
    "\n",
    "ground_ind = find_ind(y_tab, 0.0)[0]"
   ]
  },
  {
   "cell_type": "code",
   "execution_count": 76,
   "metadata": {},
   "outputs": [
    {
     "name": "stdout",
     "output_type": "stream",
     "text": [
      "x piosition at ground 48.78 m\n",
      "time at impact to ground 2.82 s\n",
      "speed at impact to ground 28.54 m/s\n"
     ]
    }
   ],
   "source": [
    "# printig answers\n",
    "print('x piosition at ground %.2f m'%x_tab[ground_ind] )\n",
    "print('time at impact to ground %.2f s'%t_tab[ground_ind] )\n",
    "\n",
    "# We can calculate speed \"by hand\" from velocity data for ground_ind element\n",
    "speed_ground = (vx_tab[ground_ind]**2 + vy_tab[ground_ind]**2) **0.5\n",
    "print('speed at impact to ground %.2f m/s'%speed_ground )"
   ]
  },
  {
   "cell_type": "code",
   "execution_count": 77,
   "metadata": {},
   "outputs": [
    {
     "name": "stdout",
     "output_type": "stream",
     "text": [
      "speed at impact to ground 28.54 m/s\n"
     ]
    }
   ],
   "source": [
    "# calculating speed ie 2D absolute value of velocities for all elements \n",
    "speed_tab = calc_abs_2D(vx_tab, vy_tab)\n",
    "print('speed at impact to ground %.2f m/s'%speed_tab[ground_ind] )"
   ]
  },
  {
   "cell_type": "markdown",
   "metadata": {},
   "source": [
    "### Note on number of solutions:\n",
    "Genereally more than one element in the resulting list is possible!"
   ]
  },
  {
   "cell_type": "code",
   "execution_count": 78,
   "metadata": {},
   "outputs": [
    {
     "name": "stdout",
     "output_type": "stream",
     "text": [
      "Number of solutions: 1\n"
     ]
    }
   ],
   "source": [
    "# Generally there can be more solutions!!!\n",
    "\n",
    "impact_ind = find_ind(y_tab, 0.0)\n",
    "print(\"Number of solutions: %d\"%len(impact_ind))"
   ]
  },
  {
   "cell_type": "code",
   "execution_count": 79,
   "metadata": {},
   "outputs": [
    {
     "name": "stdout",
     "output_type": "stream",
     "text": [
      "Solution #: 0\n",
      "   x postion of the impact: 48.78 m\n",
      "   speed     of the impact: 28.54 m/s\n",
      "   time      of the impact:  2.82 s\n"
     ]
    }
   ],
   "source": [
    "# print results\n",
    "for i in range(len(impact_ind)):\n",
    "    print(\"Solution #: %d\"%i)\n",
    "    # impact position: x at impact (y = 0)\n",
    "    print(\"   x postion of the impact: %5.2f m\"%x_tab[impact_ind[i]])\n",
    "    # impact speed: vabs at impact \n",
    "    print(\"   speed     of the impact: %5.2f m/s\"%speed_tab[impact_ind[i]])\n",
    "    # impact time: t at impact\n",
    "    print(\"   time      of the impact: %5.2f s\"%t_tab[impact_ind[i]])\n"
   ]
  },
  {
   "cell_type": "markdown",
   "metadata": {},
   "source": [
    "## What was the maximum height of this ball during the motion?"
   ]
  },
  {
   "cell_type": "code",
   "execution_count": 80,
   "metadata": {},
   "outputs": [
    {
     "name": "stdout",
     "output_type": "stream",
     "text": [
      "Maximum height: 26.25 m\n"
     ]
    }
   ],
   "source": [
    "# maximum height = y has a maximum\n",
    "# if only the height is question use built in method\n",
    "hmax = max(y_tab)\n",
    "print(\"Maximum height: %5.2f m\"%hmax)"
   ]
  },
  {
   "cell_type": "markdown",
   "metadata": {},
   "source": [
    "### Note on solution\n",
    "finding element index is necessary if other information is needed ie time, or x position"
   ]
  },
  {
   "cell_type": "code",
   "execution_count": 81,
   "metadata": {},
   "outputs": [],
   "source": [
    "# maximum height = y has a maximum\n",
    "# find index - if other information is needed ie time, or x position\n",
    "\n",
    "maxheight_ind = find_max_ind(y_tab)"
   ]
  },
  {
   "cell_type": "code",
   "execution_count": 82,
   "metadata": {},
   "outputs": [
    {
     "name": "stdout",
     "output_type": "stream",
     "text": [
      "Maximum height: 26.25 m\n"
     ]
    }
   ],
   "source": [
    "print(\"Maximum height: %5.2f m\"%y_tab[maxheight_ind])"
   ]
  },
  {
   "cell_type": "code",
   "execution_count": 83,
   "metadata": {},
   "outputs": [
    {
     "name": "stdout",
     "output_type": "stream",
     "text": [
      "Time    at maximum height:  0.51 s\n",
      "X-coord at maximum height:  8.76 m\n",
      "Speed   at maximum height: 17.30 m/s\n"
     ]
    }
   ],
   "source": [
    "# additional information:\n",
    "\n",
    "print(\"Time    at maximum height: %5.2f s\"%t_tab[maxheight_ind])\n",
    "print(\"X-coord at maximum height: %5.2f m\"%x_tab[maxheight_ind])\n",
    "print(\"Speed   at maximum height: %5.2f m/s\"%speed_tab[maxheight_ind])"
   ]
  },
  {
   "cell_type": "markdown",
   "metadata": {},
   "source": [
    "## What is the path length from the start to the impact?"
   ]
  },
  {
   "cell_type": "code",
   "execution_count": 84,
   "metadata": {},
   "outputs": [],
   "source": [
    "# calculate distance covered - for 2D case!!\n",
    "\n",
    "dist_tab = calc_distance_covered_2D(x_tab, y_tab)"
   ]
  },
  {
   "cell_type": "code",
   "execution_count": 85,
   "metadata": {},
   "outputs": [
    {
     "name": "stdout",
     "output_type": "stream",
     "text": [
      "Path length to the impact: 58.44 m\n"
     ]
    }
   ],
   "source": [
    "print(\"Path length to the impact: %5.2f m\"%(dist_tab[ground_ind]))"
   ]
  },
  {
   "cell_type": "markdown",
   "metadata": {},
   "source": [
    "## If there is another building at 25 m distance, where will the ball hit it?"
   ]
  },
  {
   "cell_type": "code",
   "execution_count": 86,
   "metadata": {},
   "outputs": [],
   "source": [
    "# other building: x = 25\n",
    "\n",
    "# Again there is only one solution \n",
    "# take 0th element of list!\n",
    "building_ind = find_ind(x_tab, 25.0)[0]"
   ]
  },
  {
   "cell_type": "code",
   "execution_count": 87,
   "metadata": {},
   "outputs": [
    {
     "name": "stdout",
     "output_type": "stream",
     "text": [
      "The ball will hit the other buildng at 21.94 m height.\n"
     ]
    }
   ],
   "source": [
    "print(\"The ball will hit the other buildng at %5.2f m height.\"%(y_tab[building_ind]))"
   ]
  },
  {
   "cell_type": "code",
   "execution_count": 88,
   "metadata": {},
   "outputs": [
    {
     "name": "stdout",
     "output_type": "stream",
     "text": [
      "The ball will hit the other buildng with 19.60 m/s speed.\n"
     ]
    }
   ],
   "source": [
    "# knowing the element index, we can look up speed table for example\n",
    "print(\"The ball will hit the other buildng with %5.2f m/s speed.\"%(speed_tab[building_ind]))"
   ]
  },
  {
   "cell_type": "markdown",
   "metadata": {},
   "source": [
    "# Other approach: start from acceleration"
   ]
  },
  {
   "cell_type": "code",
   "execution_count": 89,
   "metadata": {},
   "outputs": [],
   "source": [
    "# input data as variables\n",
    "h = 25 #m\n",
    "v0 = 18 #m/s\n",
    "alfa = 16   # degree\n",
    "\n",
    "g = 9.81    # m/s^2 "
   ]
  },
  {
   "cell_type": "code",
   "execution_count": 90,
   "metadata": {},
   "outputs": [],
   "source": [
    "# calculating initial velocity components\n",
    "vx0 = v0 * math.cos( math.radians(alfa) )\n",
    "vy0 = v0 * math.sin( math.radians(alfa) )\n",
    "\n",
    "# initial position components\n",
    "x0 = 0.0\n",
    "y0 = h"
   ]
  },
  {
   "cell_type": "code",
   "execution_count": 91,
   "metadata": {},
   "outputs": [],
   "source": [
    "# my ax(t) and ay(t) acceleration functions\n",
    "def my_axt(t):\n",
    "    return 0.0\n",
    "\n",
    "def my_ayt(t):\n",
    "    return -g"
   ]
  },
  {
   "cell_type": "code",
   "execution_count": 92,
   "metadata": {},
   "outputs": [],
   "source": [
    "# Let's define the time values:\n",
    "# Use t2, a2, ... to not overwirite the prevoius results\n",
    "\n",
    "t2_tab = fill_list_series(0.0, 5.0, 0.001)  # fill_list_series : see in 'twodkinematics.py'\n",
    "N = len(t2_tab) # Number of time values\n",
    "\n",
    "# calculate accelerations\n",
    "ax2_tab = calc_func_list(t_tab, my_axt)   # calc_func_list : see in \"twodkinematics.py'\n",
    "ay2_tab = calc_func_list(t_tab, my_ayt) "
   ]
  },
  {
   "cell_type": "code",
   "execution_count": 93,
   "metadata": {},
   "outputs": [],
   "source": [
    "# a --> v --> x calculation\n",
    "\n",
    "# velocity with integral \n",
    "vx2_tab = integral(t2_tab, ax2_tab, vx0)  # don't forget initial velocity!\n",
    "vy2_tab = integral(t2_tab, ay2_tab, vy0)\n",
    "\n",
    "# position with integral \n",
    "x2_tab = integral(t2_tab, vx2_tab, x0)     # don't forget initial position!\n",
    "y2_tab = integral(t2_tab, vy2_tab, y0)"
   ]
  },
  {
   "cell_type": "code",
   "execution_count": 94,
   "metadata": {},
   "outputs": [
    {
     "name": "stdout",
     "output_type": "stream",
     "text": [
      "[-72.46524367570773, -72.50925862830303, -72.55328339089832, -72.59731796349361, -72.64136234608893, -72.6854165386842, -72.7294805412795, -72.77355435387477, -72.81763797647008, -72.86173140906538]\n",
      "[-72.46524367570339, -72.5092586282987, -72.55328339089397, -72.59731796348927, -72.64136234608458, -72.68541653867985, -72.72948054127515, -72.77355435387042, -72.81763797646573, -72.86173140906104]\n"
     ]
    }
   ],
   "source": [
    "# Theoretically x_tab = x2_tab, etc.\n",
    "print(y_tab[-10:])\n",
    "print(y2_tab[-10:])"
   ]
  },
  {
   "cell_type": "code",
   "execution_count": 95,
   "metadata": {},
   "outputs": [
    {
     "data": {
      "text/plain": [
       "[<matplotlib.lines.Line2D at 0x7f8408d0cd60>]"
      ]
     },
     "execution_count": 95,
     "metadata": {},
     "output_type": "execute_result"
    },
    {
     "data": {
      "image/png": "[encoded data removed]",
      "text/plain": [
       "<Figure size 1440x1080 with 1 Axes>"
      ]
     },
     "metadata": {
      "needs_background": "light"
     },
     "output_type": "display_data"
    }
   ],
   "source": [
    "# Plot the two paths in x-y plane\n",
    "\n",
    "fig=plt.figure(figsize=(20,15))  # plot size\n",
    "\n",
    "# position of three sub-graphs\n",
    "ax1=fig.add_subplot(111) \n",
    "\n",
    "ax1.set_xlabel(\"x\") # set the label\n",
    "ax1.set_ylabel(\"y\") # set the label\n",
    "ax1.grid()    # draw a grey grid \n",
    "\n",
    "# content of graphs\n",
    "\n",
    "ax1.plot(x_tab, y_tab, color=\"red\")   # plot y over x\n",
    "ax1.plot(x2_tab, y2_tab, color=\"blue\")   # plot y over x"
   ]
  }
 ],
 "metadata": {
  "kernelspec": {
   "display_name": "pylatest",
   "language": "python",
   "name": "python3"
  },
  "language_info": {
   "codemirror_mode": {
    "name": "ipython",
    "version": 3
   },
   "file_extension": ".py",
   "mimetype": "text/x-python",
   "name": "python",
   "nbconvert_exporter": "python",
   "pygments_lexer": "ipython3",
   "version": "3.9.15"
  }
 },
 "nbformat": 4,
 "nbformat_minor": 2
}
