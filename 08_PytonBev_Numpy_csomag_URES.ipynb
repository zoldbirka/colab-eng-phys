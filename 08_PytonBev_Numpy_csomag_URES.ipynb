{
  "nbformat": 4,
  "nbformat_minor": 0,
  "metadata": {
    "colab": {
      "provenance": [],
      "authorship_tag": "ABX9TyNHwvK2lb6X66u3m2IjRLwF",
      "include_colab_link": true
    },
    "kernelspec": {
      "name": "python3",
      "display_name": "Python 3"
    },
    "language_info": {
      "name": "python"
    }
  },
  "cells": [
    {
      "cell_type": "markdown",
      "metadata": {
        "id": "view-in-github",
        "colab_type": "text"
      },
      "source": [
        "<a href=\"https://colab.research.google.com/github/zoldbirka/colab-test-publ/blob/main/08_PytonBev_Numpy_csomag_URES.ipynb\" target=\"_parent\"><img src=\"https://colab.research.google.com/assets/colab-badge.svg\" alt=\"Open In Colab\"/></a>"
      ]
    },
    {
      "cell_type": "markdown",
      "metadata": {
        "id": "8gyeI0oWW__r"
      },
      "source": [
        "# 8. alkalom: Modulok és csomagok. Ismerkedés a numpy és a matplotlib csomag lehetőségeivel"
      ]
    },
    {
      "cell_type": "markdown",
      "metadata": {
        "id": "nc4D3QzZW__s"
      },
      "source": [
        "## Modulok és Csomagok néhány példával\n",
        "**Modul**: Python nyelvű fájl. [Modulok a dokumentációban](https://docs.python.org/3/tutorial/modules.html)\n",
        "- Definíciókat és utasításokat tartalmaz.\n",
        "- Ha a modulhoz az `xyz.py` fájl tartozik, akkor a modulra `xyz` néven lehet hivatkozni.\n",
        "- A modulok más Python programokból importálhatók.\n",
        "\n",
        "**Csomag**: Modulok gyűjteménye.  [Csomagok a dokumentációban](https://docs.python.org/3/tutorial/modules.html#packages)\n",
        "- Egy csomag alcsomagokat/almodulokat is tartalmazhat. A hierarchiát a csomagon belüli könyvtárszerkezet határozza meg.\n",
        "- A standard csomagok és modulok a standard könyvtárban találhatók, és nem igényelnek telepítést.\n",
        "- A külső csomagok gyűjtőhelye a PyPI (https://pypi.python.org/pypi)."
      ]
    },
    {
      "cell_type": "markdown",
      "metadata": {
        "id": "5JLjksRHW__s"
      },
      "source": [
        "### Modul vagy csomag importálása, majd abból a szükséges függvény meghívása"
      ]
    },
    {
      "cell_type": "code",
      "execution_count": null,
      "metadata": {
        "id": "m1lw0teVW__s"
      },
      "outputs": [],
      "source": [
        "# Modul/csomag importálása.\n",
        "import random"
      ]
    },
    {
      "cell_type": "code",
      "execution_count": null,
      "metadata": {
        "id": "ppZXPdzPW__t"
      },
      "outputs": [],
      "source": [
        "# A random egészet sorsoló függvény meghívása\n"
      ]
    },
    {
      "cell_type": "code",
      "execution_count": null,
      "metadata": {
        "id": "4SGzhBPsW__t"
      },
      "outputs": [],
      "source": [
        "# de egy listából is vehetünk ki véletlenszerűen elemet\n",
        "l = [\"alma\", \"körte\",\"szilva\",\"málna\"]\n"
      ]
    },
    {
      "cell_type": "markdown",
      "metadata": {
        "id": "RyPkh6RfW__t"
      },
      "source": [
        "### Csak a szükséges függvények importálása egy modulból/csomagból."
      ]
    },
    {
      "cell_type": "code",
      "execution_count": null,
      "metadata": {
        "id": "P_zBt6IuW__u"
      },
      "outputs": [],
      "source": [
        "# Egyetlen függvény importálása egy modulból/csomagból.\n"
      ]
    },
    {
      "cell_type": "code",
      "execution_count": null,
      "metadata": {
        "id": "h1bSfxIEW__u"
      },
      "outputs": [],
      "source": []
    },
    {
      "cell_type": "code",
      "execution_count": null,
      "metadata": {
        "id": "Il5CyfWzW__u"
      },
      "outputs": [],
      "source": [
        "# Függvény importálása almodulból/alcsomagból.\n",
        "from os.path import dirname"
      ]
    },
    {
      "cell_type": "code",
      "execution_count": null,
      "metadata": {
        "id": "EU9DHaVYW__u"
      },
      "outputs": [],
      "source": [
        "dirname('/tmp/pistike/a.txt')"
      ]
    },
    {
      "cell_type": "markdown",
      "metadata": {
        "id": "QIU7e3BbW__v"
      },
      "source": [
        "### Modul/csomag teljes tartalmának importálása\n",
        "**Megjegyzés:** Ez a megoldás általában kerülendő. Keveredhetnek a függvény nevek."
      ]
    },
    {
      "cell_type": "code",
      "execution_count": null,
      "metadata": {
        "id": "Yy6CRxmbW__v"
      },
      "outputs": [],
      "source": [
        "# from random import *"
      ]
    },
    {
      "cell_type": "markdown",
      "metadata": {
        "id": "RjiVq_R0W__v"
      },
      "source": [
        "### Modul vagy csomag importálása rövid néven"
      ]
    },
    {
      "cell_type": "code",
      "execution_count": null,
      "metadata": {
        "id": "3IxeRC2nW__v"
      },
      "outputs": [],
      "source": [
        "# rövidítve\n"
      ]
    },
    {
      "cell_type": "code",
      "execution_count": null,
      "metadata": {
        "id": "YM-TPQ10W__v"
      },
      "outputs": [],
      "source": []
    },
    {
      "cell_type": "markdown",
      "metadata": {
        "id": "q00lYTnJW__v"
      },
      "source": [
        "## Megjegyzés: listák másolásáról\n",
        " - [Másolás - copy csomag a dokumentációban ](https://docs.python.org/3/library/copy.html)\n",
        "- Sekély (shallow) és mély (deep) másoló függvényt tartalmaz."
      ]
    },
    {
      "cell_type": "code",
      "execution_count": null,
      "metadata": {
        "id": "hkkgPFLBW__w"
      },
      "outputs": [],
      "source": [
        "import copy as cp"
      ]
    },
    {
      "cell_type": "markdown",
      "metadata": {
        "id": "0KblB9S4W__w"
      },
      "source": [
        "a = b értékadás számokkal"
      ]
    },
    {
      "cell_type": "code",
      "execution_count": null,
      "metadata": {
        "id": "wtQe7J1UW__w"
      },
      "outputs": [],
      "source": [
        "a = 2\n",
        "b = a\n",
        "print(\"a = \", a, \";\\tb = \", b)\n",
        "a = 3\n",
        "print(\"a = \", a, \";\\tb = \", b)"
      ]
    },
    {
      "cell_type": "markdown",
      "metadata": {
        "id": "IsAr2ToPW__w"
      },
      "source": [
        "a = b értékadás listákkal\n",
        "- NEM végez másolást\n",
        "- csak hívatkozást hoz létre"
      ]
    },
    {
      "cell_type": "code",
      "execution_count": null,
      "metadata": {
        "id": "rc0B4sPqW__w"
      },
      "outputs": [],
      "source": [
        "# Pythonban az értékadás NEM végez másolást, csak hivatkozást hoz létre.\n"
      ]
    },
    {
      "cell_type": "markdown",
      "metadata": {
        "id": "EMrg230iW__x"
      },
      "source": [
        "Ha független másolatot szeretnénk ahhoz kell a copy csomag"
      ]
    },
    {
      "cell_type": "code",
      "execution_count": null,
      "metadata": {
        "id": "tCXRn4LoW__x"
      },
      "outputs": [],
      "source": [
        "# Sekély másolat készítése.\n"
      ]
    },
    {
      "cell_type": "code",
      "execution_count": null,
      "metadata": {
        "id": "9RdzSB4bW__x"
      },
      "outputs": [],
      "source": [
        "# Sekély másolat készítése egy listák listája objektumról.\n",
        "a = [[1], [2], [2]]\n",
        "b = cp.copy(a)\n",
        "print(\"a = \", a, \";\\tb = \", b)"
      ]
    },
    {
      "cell_type": "code",
      "execution_count": null,
      "metadata": {
        "id": "WrjGCWKtW__x"
      },
      "outputs": [],
      "source": [
        "# A cp.copy() csak az adatszerkezet legfelső szintjén végez másolást.\n"
      ]
    },
    {
      "cell_type": "code",
      "execution_count": null,
      "metadata": {
        "id": "Zhj2B0KCW__y"
      },
      "outputs": [],
      "source": [
        "# Mély másolat készítése egy listák listája objektumról.\n"
      ]
    },
    {
      "cell_type": "markdown",
      "metadata": {
        "id": "4WxdMaYgW__y"
      },
      "source": [
        "## NumPy csomag\n",
        "\n",
        "A [NumPy](http://www.numpy.org/) egy alacsony szintű matematikai csomag, numerikus számításokhoz.\n",
        "\n",
        "- Alapvető adatszerkezete az [n dimenziós tömb](https://docs.scipy.org/doc/numpy/reference/arrays.ndarray.html).  Így praktikus vektorokkal való számolásoknál.\n",
        "- C nyelven íródott. A szokásos tömbműveletek hatékonyan vannak benne megvalósítva.\n",
        "- Többek között tartalmaz lineáris algebrai és véletlenszám generáló almodult.\n",
        "- Számos magasabb szintű csomag (pl. scipy, matplotlib, pandas, scikit-learn) épül rá.\n",
        "\n",
        "A NumPy külső csomag. A Colab felületén ez is elérhető.\n",
        "\n",
        "De a saját gépünkön szükség van telepítésére. Többféle lehetőség van, például:\n",
        "- `pip install numpy --user`\n",
        "- `sudo apt-get install python3-numpy`\n",
        "- `conda install numpy`"
      ]
    },
    {
      "cell_type": "code",
      "execution_count": null,
      "metadata": {
        "id": "PcnXO9jZW__y"
      },
      "outputs": [],
      "source": [
        "# A NumPy modul importálása np néven.\n",
        "import numpy as np"
      ]
    },
    {
      "cell_type": "code",
      "execution_count": null,
      "metadata": {
        "id": "jpqFI2RBW__y"
      },
      "outputs": [],
      "source": [
        "# Verzió lekérdezése.\n",
        "np.__version__"
      ]
    },
    {
      "cell_type": "markdown",
      "metadata": {
        "id": "APXm-DM3W__z"
      },
      "source": [
        "### Állandók és függvények"
      ]
    },
    {
      "cell_type": "code",
      "execution_count": null,
      "metadata": {
        "id": "JvPL5cfuW__z"
      },
      "outputs": [],
      "source": [
        "# Megvan a pi és az e állandó sok tizedes jegyre:\n"
      ]
    },
    {
      "cell_type": "code",
      "execution_count": null,
      "metadata": {
        "id": "H_APixYsW__z"
      },
      "outputs": [],
      "source": [
        "# cos(x) sin(x) trigonometrikus függvények\n"
      ]
    },
    {
      "cell_type": "code",
      "execution_count": null,
      "metadata": {
        "id": "W4tPznAtW__z"
      },
      "outputs": [],
      "source": [
        "# sqrt(x) gyökvonás\n"
      ]
    },
    {
      "cell_type": "code",
      "execution_count": null,
      "metadata": {
        "id": "k--PAqOmW__z"
      },
      "outputs": [],
      "source": [
        "# Van beépített függvény legnagyobb közös osztóra\n",
        "# greatest common divisor --> gcd()"
      ]
    },
    {
      "cell_type": "markdown",
      "metadata": {
        "id": "NhvKZVbrW__0"
      },
      "source": [
        "### Tömbök létrehozása"
      ]
    },
    {
      "cell_type": "markdown",
      "metadata": {
        "id": "zh8X7mS-W__0"
      },
      "source": [
        "#### Példa: egész számokból álló tömb létrehozása"
      ]
    },
    {
      "cell_type": "code",
      "execution_count": null,
      "metadata": {
        "id": "XOQiAU58W__0"
      },
      "outputs": [],
      "source": [
        "# egész számokból álló 1x3 tömb - SORVEKTOR\n",
        "a = np.array([2, 3, 4])"
      ]
    },
    {
      "cell_type": "code",
      "execution_count": null,
      "metadata": {
        "id": "QyDReNCJW__0"
      },
      "outputs": [],
      "source": [
        "print(a)"
      ]
    },
    {
      "cell_type": "code",
      "execution_count": null,
      "metadata": {
        "id": "BEDwStu4W__0"
      },
      "outputs": [],
      "source": [
        "# A tömb objektum típusa.\n"
      ]
    },
    {
      "cell_type": "code",
      "execution_count": null,
      "metadata": {
        "id": "5LMBamuoW__1"
      },
      "outputs": [],
      "source": [
        "# a tömb elemei módosíthatóak\n"
      ]
    },
    {
      "cell_type": "markdown",
      "metadata": {
        "id": "6ejqUAowW__1"
      },
      "source": [
        "#### Tömb jellemzők lekérdezése"
      ]
    },
    {
      "cell_type": "code",
      "execution_count": null,
      "metadata": {
        "id": "7WVrIbYSW__1"
      },
      "outputs": [],
      "source": [
        "# Hány dimenziós a tömb?\n",
        "a.ndim"
      ]
    },
    {
      "cell_type": "code",
      "execution_count": null,
      "metadata": {
        "id": "8jc7TZzfW__1"
      },
      "outputs": [],
      "source": [
        "# A tömb alakja/mérete.\n",
        "a.shape"
      ]
    },
    {
      "cell_type": "code",
      "execution_count": null,
      "metadata": {
        "id": "q60b6XY7W__2"
      },
      "outputs": [],
      "source": [
        "len(a)"
      ]
    },
    {
      "cell_type": "code",
      "execution_count": null,
      "metadata": {
        "id": "JWWeYrDwW__2"
      },
      "outputs": [],
      "source": [
        "# összes elem\n",
        "a.size"
      ]
    },
    {
      "cell_type": "code",
      "execution_count": null,
      "metadata": {
        "id": "NBrn-mI0W__2"
      },
      "outputs": [],
      "source": [
        "# Az elemek típusának lekérdezése.\n",
        "# A NumPy tömbök homogének, azaz egyféle adatok vannak benne\n",
        "a.dtype"
      ]
    },
    {
      "cell_type": "markdown",
      "metadata": {
        "id": "ADh7pu-XW__2"
      },
      "source": [
        "**Feladat**: Hozzunk létre egy 2 x 3-as tömböt, valós számokkal\n",
        "\n",
        "Kérdezzük le a dimenziók számát, a tömb méretét, az elemek számát, az elemek típusát!\n"
      ]
    },
    {
      "cell_type": "code",
      "execution_count": null,
      "metadata": {
        "id": "vTjBi6kzW__3"
      },
      "outputs": [],
      "source": [
        "# Hozzunk létre egy 2 x 3-as tömböt, valós számokkal\n"
      ]
    },
    {
      "cell_type": "code",
      "execution_count": null,
      "metadata": {
        "id": "OG-7YEDxW__3"
      },
      "outputs": [],
      "source": [
        "# Dimenziók száma, mérete, az elemek típusa.\n"
      ]
    },
    {
      "cell_type": "markdown",
      "metadata": {
        "id": "DMB06wX3W__3"
      },
      "source": [
        "#### További módszerek tömb létrehozásra\n",
        "`genfromtxt()`; `zeros()`; `ones()`; `arange()`; `concatenate()`"
      ]
    },
    {
      "cell_type": "code",
      "execution_count": null,
      "metadata": {
        "id": "Y3SRrlZlW__3"
      },
      "outputs": [],
      "source": [
        "# készítsünk  egy \"matrix.txt\" nevű fájlt 2 sorban 3 egész szám szóközzel elválasztva\n",
        "# majd olvassuk be a txt fájlt tömbként\n"
      ]
    },
    {
      "cell_type": "code",
      "execution_count": null,
      "metadata": {
        "id": "fWGP0NxxW__4"
      },
      "outputs": [],
      "source": [
        "# Nullákból álló tömb létrehozása 1dimenziós\n"
      ]
    },
    {
      "cell_type": "code",
      "execution_count": null,
      "metadata": {
        "id": "1aqwXYtdW__4"
      },
      "outputs": [],
      "source": [
        "# Nullákból álló tömb létrehozása többdimenziós\n"
      ]
    },
    {
      "cell_type": "code",
      "execution_count": null,
      "metadata": {
        "id": "E5KvZLgPW__4"
      },
      "outputs": [],
      "source": [
        "# Egyesekből álló tömb létrehozása\n"
      ]
    },
    {
      "cell_type": "code",
      "execution_count": null,
      "metadata": {
        "id": "IvhcieflW__4"
      },
      "outputs": [],
      "source": [
        "# Értéktartomány létrehozása a lépésköz megadásával.\n"
      ]
    },
    {
      "cell_type": "code",
      "execution_count": null,
      "metadata": {
        "id": "Cdg5AZ6JW__5"
      },
      "outputs": [],
      "source": [
        "# Vektorok összefűzése.\n",
        "a = np.array([2, 3])\n",
        "b = np.array([44, 55, 66])\n"
      ]
    },
    {
      "cell_type": "markdown",
      "metadata": {
        "id": "Qn0uhwosW__5"
      },
      "source": [
        "### Másolás beépítve"
      ]
    },
    {
      "cell_type": "code",
      "execution_count": null,
      "metadata": {
        "id": "yT4kJzfvW__5"
      },
      "outputs": [],
      "source": [
        "a = np.array([1,2,3])\n",
        "b = a.copy()\n",
        "print(\"a = \", a, \";\\tb = \", b)\n",
        "b [0] = 10\n",
        "print(\"a = \", a, \";\\tb = \", b)"
      ]
    },
    {
      "cell_type": "markdown",
      "metadata": {
        "id": "xazfMK2KW__5"
      },
      "source": [
        "### Elemek és résztömbök"
      ]
    },
    {
      "cell_type": "code",
      "execution_count": null,
      "metadata": {
        "id": "Y4YQxQLvW__6"
      },
      "outputs": [],
      "source": [
        "# Hozzunk létre egy példamátrixot!\n",
        "a = np.array([[3, 4, 5],\n",
        "              [6, 7, 8]])"
      ]
    },
    {
      "cell_type": "code",
      "execution_count": null,
      "metadata": {
        "id": "cbLiegOZW__6"
      },
      "outputs": [],
      "source": [
        "# Elem kiválasztása (az indexelés 0-tól indul).\n",
        "print(\"2. sor 3. eleme: \", None)    # 1 a sorindex, 2 az oszlopindex"
      ]
    },
    {
      "cell_type": "code",
      "execution_count": null,
      "metadata": {
        "id": "UfGRvIDdW__6"
      },
      "outputs": [],
      "source": [
        "print(\"1. sor 2. eleme: \", None)"
      ]
    },
    {
      "cell_type": "code",
      "execution_count": null,
      "metadata": {
        "id": "Vz02qP8BW__6"
      },
      "outputs": [],
      "source": [
        "# Teljes sor kiválasztása.\n"
      ]
    },
    {
      "cell_type": "code",
      "execution_count": null,
      "metadata": {
        "id": "8Agv2AfnW__6"
      },
      "outputs": [],
      "source": [
        "# Oszlop kiválasztása."
      ]
    },
    {
      "cell_type": "code",
      "execution_count": null,
      "metadata": {
        "id": "nF4afWj6W__7"
      },
      "outputs": [],
      "source": [
        "# Adott indexű oszlopok kiválasztása.\n",
        "a[:, [0, 2]]"
      ]
    },
    {
      "cell_type": "code",
      "execution_count": null,
      "metadata": {
        "id": "brkOHnt5W__7"
      },
      "outputs": [],
      "source": [
        "# Elemek kiválasztása logikai feltétel alapján.\n",
        "# páros elemek kiválasztása"
      ]
    },
    {
      "cell_type": "code",
      "execution_count": null,
      "metadata": {
        "id": "kd-2qfv5W__7"
      },
      "outputs": [],
      "source": [
        "# 5-nél nagyobb elemek kiválasztása\n",
        "a[a > 5]"
      ]
    },
    {
      "cell_type": "code",
      "execution_count": null,
      "metadata": {
        "id": "EP26cllMW__8"
      },
      "outputs": [],
      "source": [
        "# Oszlop módosítása.\n"
      ]
    },
    {
      "cell_type": "markdown",
      "metadata": {
        "id": "kDELtT41W__8"
      },
      "source": [
        "### Vektor műveletek (Tömbműveletek) Koordinátánként"
      ]
    },
    {
      "cell_type": "code",
      "execution_count": null,
      "metadata": {
        "id": "ugE7s8kFW__8"
      },
      "outputs": [],
      "source": [
        "# Hozzunk létre 2 példatömböt!\n",
        "a = np.array([1, 7 ,3])\n",
        "b = np.array([1, 1, 1])"
      ]
    },
    {
      "cell_type": "code",
      "execution_count": null,
      "metadata": {
        "id": "bFEkw8euW__8"
      },
      "outputs": [],
      "source": [
        "# Elemenkénti összeadás.\n"
      ]
    },
    {
      "cell_type": "code",
      "execution_count": null,
      "metadata": {
        "id": "0vfFZOxGW__8"
      },
      "outputs": [],
      "source": [
        "# Elemenkénti kivonás.\n"
      ]
    },
    {
      "cell_type": "code",
      "execution_count": null,
      "metadata": {
        "id": "UVpSTxO1W__9"
      },
      "outputs": [],
      "source": [
        "# számmal szorzás\n"
      ]
    },
    {
      "cell_type": "code",
      "execution_count": null,
      "metadata": {
        "id": "j2T2pXPxW__9"
      },
      "outputs": [],
      "source": [
        "# Elemenkénti szorzás.\n"
      ]
    },
    {
      "cell_type": "code",
      "execution_count": null,
      "metadata": {
        "id": "GXWVcMTdW__9"
      },
      "outputs": [],
      "source": [
        "# Elemenkénti osztás.\n"
      ]
    },
    {
      "cell_type": "code",
      "execution_count": null,
      "metadata": {
        "id": "YSFCkCNTW__9"
      },
      "outputs": [],
      "source": [
        "# Elemenkénti egészosztás.\n"
      ]
    },
    {
      "cell_type": "code",
      "execution_count": null,
      "metadata": {
        "id": "xTmNtFVlW__9"
      },
      "outputs": [],
      "source": [
        "# Elemenkénti hatványozás.\n"
      ]
    },
    {
      "cell_type": "code",
      "execution_count": null,
      "metadata": {
        "id": "8UbdXRyGW__-"
      },
      "outputs": [],
      "source": [
        "# A művelet nem feltétlenül végezhető el.\n",
        "c = np.array([2, 3, 4]) # 3 hosszú tömb\n",
        "d = np.array([10, 20])  # 2 hosszú tömb\n",
        "c + d"
      ]
    },
    {
      "cell_type": "code",
      "execution_count": null,
      "metadata": {
        "id": "DS93GIOFW__-"
      },
      "outputs": [],
      "source": [
        "# Két vektor skaláris szorzata.\n",
        "a = np.array([3, 4, 5])\n",
        "b = np.array([2, 2, 2])\n",
        "a @ b"
      ]
    },
    {
      "cell_type": "markdown",
      "metadata": {
        "id": "tGvVnPAGW__-"
      },
      "source": [
        "### Függvények és tömbök"
      ]
    },
    {
      "cell_type": "code",
      "execution_count": null,
      "metadata": {
        "id": "JXKMB6d3W__-"
      },
      "outputs": [],
      "source": [
        "# Hozzunk létre egy példamátrixot!\n",
        "a = np.array([[3, 4, 5],\n",
        "              [6, 7, 8]])"
      ]
    },
    {
      "cell_type": "code",
      "execution_count": null,
      "metadata": {
        "id": "SfFWyb-IW__-"
      },
      "outputs": [],
      "source": [
        "# Elemenkénti függvények (exp, log, sin, cos, ...).\n"
      ]
    },
    {
      "cell_type": "code",
      "execution_count": null,
      "metadata": {
        "id": "K25WCIXEW___"
      },
      "outputs": [],
      "source": []
    },
    {
      "cell_type": "code",
      "execution_count": null,
      "metadata": {
        "id": "gFut8bYdW___"
      },
      "outputs": [],
      "source": [
        "# álltalunk megadott függvény is alkalmazható tömbre:\n"
      ]
    },
    {
      "cell_type": "markdown",
      "metadata": {
        "id": "wnF1emMlW___"
      },
      "source": [
        "### Statisztikai műveletek (min, max, sum, mean, std).\n"
      ]
    },
    {
      "cell_type": "code",
      "execution_count": null,
      "metadata": {
        "id": "O8tHyQaYW___"
      },
      "outputs": [],
      "source": [
        "# Hozzunk létre egy példamátrixot!\n",
        "a = np.array([[3, 4, 5],\n",
        "              [6, 7, 8]])"
      ]
    },
    {
      "cell_type": "code",
      "execution_count": null,
      "metadata": {
        "id": "A6XVbPSYXAAA"
      },
      "outputs": [],
      "source": [
        "a.sum()"
      ]
    },
    {
      "cell_type": "code",
      "execution_count": null,
      "metadata": {
        "id": "4kAkRlhgXAAA"
      },
      "outputs": [],
      "source": [
        "a.min(), a.max()"
      ]
    },
    {
      "cell_type": "code",
      "execution_count": null,
      "metadata": {
        "id": "i0qufqJBXAAA"
      },
      "outputs": [],
      "source": [
        "a.mean()"
      ]
    },
    {
      "cell_type": "code",
      "execution_count": null,
      "metadata": {
        "id": "l2bAoMapXAAA"
      },
      "outputs": [],
      "source": [
        "# minimum és maximum hely (argmin,argmax)\n",
        "a.argmax()"
      ]
    },
    {
      "cell_type": "markdown",
      "metadata": {
        "id": "S57k-p31XAAA"
      },
      "source": [
        "### Keresés - np.where()"
      ]
    },
    {
      "cell_type": "code",
      "execution_count": null,
      "metadata": {
        "id": "r2FUGXNRXAAB"
      },
      "outputs": [],
      "source": [
        "# Példa: Mely indexeknél találhatók az 5-nél kisebb elemek?\n",
        "a = np.array([3, 10, 11, 4, 7, 8])\n",
        "\n",
        "print(a[a<5])\n",
        "np.where(a<5)"
      ]
    },
    {
      "cell_type": "markdown",
      "metadata": {
        "id": "v_3_UZJxXAAB"
      },
      "source": [
        "### Rendezés"
      ]
    },
    {
      "cell_type": "code",
      "execution_count": null,
      "metadata": {
        "id": "WHYLit6gXAAB"
      },
      "outputs": [],
      "source": [
        "# Rendezés helyben.\n",
        "a = np.array([3, 10, 11, 4, 7, 8])\n",
        "a.sort()"
      ]
    },
    {
      "cell_type": "code",
      "execution_count": null,
      "metadata": {
        "id": "t4CIfJC9XAAB"
      },
      "outputs": [],
      "source": [
        "print(a)"
      ]
    },
    {
      "cell_type": "code",
      "execution_count": null,
      "metadata": {
        "id": "2IBIWwdMXAAC"
      },
      "outputs": [],
      "source": [
        "# Rendezés új tömbbe.\n",
        "a = np.array([3, 10, 11, 4, 7, 8])\n",
        "np.sort(a)"
      ]
    },
    {
      "cell_type": "code",
      "execution_count": null,
      "metadata": {
        "id": "8d6ZbxSzXAAC"
      },
      "outputs": [],
      "source": [
        "# Rendezés csökkenő sorrendbe.\n",
        "np.sort(a)[::-1]"
      ]
    },
    {
      "cell_type": "markdown",
      "metadata": {
        "id": "HVD7CGJvXAAC"
      },
      "source": [
        "## [Matplotlib](https://matplotlib.org/)\n",
        "\n",
        "A Matplotlib adatok ábrázolásához hasznos csomag.\n",
        "\n",
        "- Nyomdai minőségben testreszabható grafikon rajzolás\n",
        "- Sokféle képfájlként kimenthető eredmény\n",
        "- De animációt is lehet vele készíteni\n",
        "\n",
        "A Matplotlib is külső csomag. A Colab felületén ez is elérhető.\n",
        "\n",
        "De a saját gépünkön szükség van telepítésére. Többféle lehetőség van, például:\n",
        "- `pip install matplotlib --user`\n",
        "- `conda install -c conda-forge matplotlib`"
      ]
    },
    {
      "cell_type": "code",
      "execution_count": null,
      "metadata": {
        "id": "1bU5qbRpXAAC"
      },
      "outputs": [],
      "source": [
        "import matplotlib.pyplot as plt\n",
        "\n",
        "# Colab /Jupyter notebook speciális beállítás\n",
        "%matplotlib inline"
      ]
    },
    {
      "cell_type": "code",
      "execution_count": null,
      "metadata": {
        "id": "Q_PmiD3gXAAD"
      },
      "outputs": [],
      "source": [
        "# kreáljunk egy adatsort és plt.plot() függvénnyel rajzoljuk ki\n",
        "data = np.array([2,4,1,6,2,7,8,9] )\n",
        "# data.size\n",
        "\n",
        "plt.plot(data , \"x-\")\n",
        "plt.title(\"Eza  cím\")\n",
        "plt.show()"
      ]
    },
    {
      "cell_type": "markdown",
      "metadata": {
        "id": "jdQ9IU0yXBDh"
      },
      "source": [
        "# 8. alkalom: Modulok és csomagok. Ismerkedés a numpy és a matplotlib csomag lehetőségeivel"
      ]
    },
    {
      "cell_type": "markdown",
      "metadata": {
        "id": "5ozcRFTQXBDi"
      },
      "source": [
        "## Modulok és Csomagok néhány példával\n",
        "**Modul**: Python nyelvű fájl. [Modulok a dokumentációban](https://docs.python.org/3/tutorial/modules.html)\n",
        "- Definíciókat és utasításokat tartalmaz.\n",
        "- Ha a modulhoz az `xyz.py` fájl tartozik, akkor a modulra `xyz` néven lehet hivatkozni.\n",
        "- A modulok más Python programokból importálhatók.\n",
        "\n",
        "**Csomag**: Modulok gyűjteménye.  [Csomagok a dokumentációban](https://docs.python.org/3/tutorial/modules.html#packages)\n",
        "- Egy csomag alcsomagokat/almodulokat is tartalmazhat. A hierarchiát a csomagon belüli könyvtárszerkezet határozza meg.\n",
        "- A standard csomagok és modulok a standard könyvtárban találhatók, és nem igényelnek telepítést.\n",
        "- A külső csomagok gyűjtőhelye a PyPI (https://pypi.python.org/pypi)."
      ]
    },
    {
      "cell_type": "markdown",
      "metadata": {
        "id": "ycS9aPfRXBDj"
      },
      "source": [
        "### Modul vagy csomag importálása, majd abból a szükséges függvény meghívása"
      ]
    },
    {
      "cell_type": "code",
      "execution_count": null,
      "metadata": {
        "id": "vHCn9fk-XBDj"
      },
      "outputs": [],
      "source": [
        "# Modul/csomag importálása.\n",
        "import random"
      ]
    },
    {
      "cell_type": "code",
      "execution_count": null,
      "metadata": {
        "id": "7v0KAwtdXBDk"
      },
      "outputs": [],
      "source": [
        "# A random egészet sorsoló függvény meghívása\n"
      ]
    },
    {
      "cell_type": "code",
      "execution_count": null,
      "metadata": {
        "id": "TOAy-CYlXBDl"
      },
      "outputs": [],
      "source": [
        "# de egy listából is vehetünk ki véletlenszerűen elemet\n",
        "l = [\"alma\", \"körte\",\"szilva\",\"málna\"]\n"
      ]
    },
    {
      "cell_type": "markdown",
      "metadata": {
        "id": "AemWVsUwXBDl"
      },
      "source": [
        "### Csak a szükséges függvények importálása egy modulból/csomagból."
      ]
    },
    {
      "cell_type": "code",
      "execution_count": null,
      "metadata": {
        "id": "21FKtbvAXBDl"
      },
      "outputs": [],
      "source": [
        "# Egyetlen függvény importálása egy modulból/csomagból.\n"
      ]
    },
    {
      "cell_type": "code",
      "execution_count": null,
      "metadata": {
        "id": "1BLDZ9xzXBDm"
      },
      "outputs": [],
      "source": []
    },
    {
      "cell_type": "code",
      "execution_count": null,
      "metadata": {
        "id": "66q3weMsXBDm"
      },
      "outputs": [],
      "source": [
        "# Függvény importálása almodulból/alcsomagból.\n",
        "from os.path import dirname"
      ]
    },
    {
      "cell_type": "code",
      "execution_count": null,
      "metadata": {
        "id": "P5otUer-XBDm"
      },
      "outputs": [],
      "source": [
        "dirname('/tmp/pistike/a.txt')"
      ]
    },
    {
      "cell_type": "markdown",
      "metadata": {
        "id": "56PoIiD6XBDm"
      },
      "source": [
        "### Modul/csomag teljes tartalmának importálása\n",
        "**Megjegyzés:** Ez a megoldás általában kerülendő. Keveredhetnek a függvény nevek."
      ]
    },
    {
      "cell_type": "code",
      "execution_count": null,
      "metadata": {
        "id": "lkxdA-T7XBDm"
      },
      "outputs": [],
      "source": [
        "# from random import *"
      ]
    },
    {
      "cell_type": "markdown",
      "metadata": {
        "id": "VOWMxxJxXBDn"
      },
      "source": [
        "### Modul vagy csomag importálása rövid néven"
      ]
    },
    {
      "cell_type": "code",
      "execution_count": null,
      "metadata": {
        "id": "KT-jysC_XBDn"
      },
      "outputs": [],
      "source": [
        "# rövidítve\n"
      ]
    },
    {
      "cell_type": "code",
      "execution_count": null,
      "metadata": {
        "id": "cTThhmQHXBDn"
      },
      "outputs": [],
      "source": []
    },
    {
      "cell_type": "markdown",
      "metadata": {
        "id": "hMc-KYLOXBDn"
      },
      "source": [
        "## Megjegyzés: listák másolásáról\n",
        " - [Másolás - copy csomag a dokumentációban ](https://docs.python.org/3/library/copy.html)\n",
        "- Sekély (shallow) és mély (deep) másoló függvényt tartalmaz."
      ]
    },
    {
      "cell_type": "code",
      "execution_count": null,
      "metadata": {
        "id": "tT2pfX4mXBDn"
      },
      "outputs": [],
      "source": [
        "import copy as cp"
      ]
    },
    {
      "cell_type": "markdown",
      "metadata": {
        "id": "gUVxxgnCXBDo"
      },
      "source": [
        "a = b értékadás számokkal"
      ]
    },
    {
      "cell_type": "code",
      "execution_count": null,
      "metadata": {
        "id": "0OBDMNDCXBDo"
      },
      "outputs": [],
      "source": [
        "a = 2\n",
        "b = a\n",
        "print(\"a = \", a, \";\\tb = \", b)\n",
        "a = 3\n",
        "print(\"a = \", a, \";\\tb = \", b)"
      ]
    },
    {
      "cell_type": "markdown",
      "metadata": {
        "id": "EmvCtDDtXBDo"
      },
      "source": [
        "a = b értékadás listákkal\n",
        "- NEM végez másolást\n",
        "- csak hívatkozást hoz létre"
      ]
    },
    {
      "cell_type": "code",
      "execution_count": null,
      "metadata": {
        "id": "4uuYlivMXBDo"
      },
      "outputs": [],
      "source": [
        "# Pythonban az értékadás NEM végez másolást, csak hivatkozást hoz létre.\n"
      ]
    },
    {
      "cell_type": "markdown",
      "metadata": {
        "id": "yNlfQsTSXBDo"
      },
      "source": [
        "Ha független másolatot szeretnénk ahhoz kell a copy csomag"
      ]
    },
    {
      "cell_type": "code",
      "execution_count": null,
      "metadata": {
        "id": "hNdsa7J8XBDo"
      },
      "outputs": [],
      "source": [
        "# Sekély másolat készítése.\n"
      ]
    },
    {
      "cell_type": "code",
      "execution_count": null,
      "metadata": {
        "id": "BGyJBzS-XBDp"
      },
      "outputs": [],
      "source": [
        "# Sekély másolat készítése egy listák listája objektumról.\n",
        "a = [[1], [2], [2]]\n",
        "b = cp.copy(a)\n",
        "print(\"a = \", a, \";\\tb = \", b)"
      ]
    },
    {
      "cell_type": "code",
      "execution_count": null,
      "metadata": {
        "id": "6fdeNa9sXBDp"
      },
      "outputs": [],
      "source": [
        "# A cp.copy() csak az adatszerkezet legfelső szintjén végez másolást.\n"
      ]
    },
    {
      "cell_type": "code",
      "execution_count": null,
      "metadata": {
        "id": "fMMtSQBTXBDp"
      },
      "outputs": [],
      "source": [
        "# Mély másolat készítése egy listák listája objektumról.\n"
      ]
    },
    {
      "cell_type": "markdown",
      "metadata": {
        "id": "fqsxWR1tXBDp"
      },
      "source": [
        "## NumPy csomag\n",
        "\n",
        "A [NumPy](http://www.numpy.org/) egy alacsony szintű matematikai csomag, numerikus számításokhoz.\n",
        "\n",
        "- Alapvető adatszerkezete az [n dimenziós tömb](https://docs.scipy.org/doc/numpy/reference/arrays.ndarray.html).  Így praktikus vektorokkal való számolásoknál.\n",
        "- C nyelven íródott. A szokásos tömbműveletek hatékonyan vannak benne megvalósítva.\n",
        "- Többek között tartalmaz lineáris algebrai és véletlenszám generáló almodult.\n",
        "- Számos magasabb szintű csomag (pl. scipy, matplotlib, pandas, scikit-learn) épül rá.\n",
        "\n",
        "A NumPy külső csomag. A Colab felületén ez is elérhető.\n",
        "\n",
        "De a saját gépünkön szükség van telepítésére. Többféle lehetőség van, például:\n",
        "- `pip install numpy --user`\n",
        "- `sudo apt-get install python3-numpy`\n",
        "- `conda install numpy`"
      ]
    },
    {
      "cell_type": "code",
      "execution_count": null,
      "metadata": {
        "id": "mCdc4kWxXBDp"
      },
      "outputs": [],
      "source": [
        "# A NumPy modul importálása np néven.\n",
        "import numpy as np"
      ]
    },
    {
      "cell_type": "code",
      "execution_count": null,
      "metadata": {
        "id": "kQZMlgDyXBDq"
      },
      "outputs": [],
      "source": [
        "# Verzió lekérdezése.\n",
        "np.__version__"
      ]
    },
    {
      "cell_type": "markdown",
      "metadata": {
        "id": "MBM3vY4jXBDq"
      },
      "source": [
        "### Állandók és függvények"
      ]
    },
    {
      "cell_type": "code",
      "execution_count": null,
      "metadata": {
        "id": "igqPAgIZXBDq"
      },
      "outputs": [],
      "source": [
        "# Megvan a pi és az e állandó sok tizedes jegyre:\n"
      ]
    },
    {
      "cell_type": "code",
      "execution_count": null,
      "metadata": {
        "id": "rNwcLRcjXBDq"
      },
      "outputs": [],
      "source": [
        "# cos(x) sin(x) trigonometrikus függvények\n"
      ]
    },
    {
      "cell_type": "code",
      "execution_count": null,
      "metadata": {
        "id": "GW5k-r-mXBDq"
      },
      "outputs": [],
      "source": [
        "# sqrt(x) gyökvonás\n"
      ]
    },
    {
      "cell_type": "code",
      "execution_count": null,
      "metadata": {
        "id": "KwMp8E0CXBDq"
      },
      "outputs": [],
      "source": [
        "# Van beépített függvény legnagyobb közös osztóra\n",
        "# greatest common divisor --> gcd()"
      ]
    },
    {
      "cell_type": "markdown",
      "metadata": {
        "id": "5U6w5H7_XBDr"
      },
      "source": [
        "### Tömbök létrehozása"
      ]
    },
    {
      "cell_type": "markdown",
      "metadata": {
        "id": "ZC3hYDgdXBDr"
      },
      "source": [
        "#### Példa: egész számokból álló tömb létrehozása"
      ]
    },
    {
      "cell_type": "code",
      "execution_count": null,
      "metadata": {
        "id": "1e6Hta6IXBDr"
      },
      "outputs": [],
      "source": [
        "# egész számokból álló 1x3 tömb - SORVEKTOR\n",
        "a = np.array([2, 3, 4])"
      ]
    },
    {
      "cell_type": "code",
      "execution_count": null,
      "metadata": {
        "id": "zq_WIQXMXBDr"
      },
      "outputs": [],
      "source": [
        "print(a)"
      ]
    },
    {
      "cell_type": "code",
      "execution_count": null,
      "metadata": {
        "id": "krlWIogMXBDr"
      },
      "outputs": [],
      "source": [
        "# A tömb objektum típusa.\n"
      ]
    },
    {
      "cell_type": "code",
      "execution_count": null,
      "metadata": {
        "id": "_NaQzhBXXBDs"
      },
      "outputs": [],
      "source": [
        "# a tömb elemei módosíthatóak\n"
      ]
    },
    {
      "cell_type": "markdown",
      "metadata": {
        "id": "LcApndx9XBDs"
      },
      "source": [
        "#### Tömb jellemzők lekérdezése"
      ]
    },
    {
      "cell_type": "code",
      "execution_count": null,
      "metadata": {
        "id": "DfhOPrn3XBDs"
      },
      "outputs": [],
      "source": [
        "# Hány dimenziós a tömb?\n",
        "a.ndim"
      ]
    },
    {
      "cell_type": "code",
      "execution_count": null,
      "metadata": {
        "id": "lNDjbkBqXBDs"
      },
      "outputs": [],
      "source": [
        "# A tömb alakja/mérete.\n",
        "a.shape"
      ]
    },
    {
      "cell_type": "code",
      "execution_count": null,
      "metadata": {
        "id": "VaW171-PXBDt"
      },
      "outputs": [],
      "source": [
        "len(a)"
      ]
    },
    {
      "cell_type": "code",
      "execution_count": null,
      "metadata": {
        "id": "JRrGuhvnXBDt"
      },
      "outputs": [],
      "source": [
        "# összes elem\n",
        "a.size"
      ]
    },
    {
      "cell_type": "code",
      "execution_count": null,
      "metadata": {
        "id": "FfK85vVzXBDt"
      },
      "outputs": [],
      "source": [
        "# Az elemek típusának lekérdezése.\n",
        "# A NumPy tömbök homogének, azaz egyféle adatok vannak benne\n",
        "a.dtype"
      ]
    },
    {
      "cell_type": "markdown",
      "metadata": {
        "id": "gmF-aDAIXBDt"
      },
      "source": [
        "**Feladat**: Hozzunk létre egy 2 x 3-as tömböt, valós számokkal\n",
        "\n",
        "Kérdezzük le a dimenziók számát, a tömb méretét, az elemek számát, az elemek típusát!\n"
      ]
    },
    {
      "cell_type": "code",
      "execution_count": null,
      "metadata": {
        "id": "dXl9DM2OXBDu"
      },
      "outputs": [],
      "source": [
        "# Hozzunk létre egy 2 x 3-as tömböt, valós számokkal\n"
      ]
    },
    {
      "cell_type": "code",
      "execution_count": null,
      "metadata": {
        "id": "h2Qx0yhHXBDu"
      },
      "outputs": [],
      "source": [
        "# Dimenziók száma, mérete, az elemek típusa.\n"
      ]
    },
    {
      "cell_type": "markdown",
      "metadata": {
        "id": "IqEEqiwGXBDu"
      },
      "source": [
        "#### További módszerek tömb létrehozásra\n",
        "`genfromtxt()`; `zeros()`; `ones()`; `arange()`; `concatenate()`"
      ]
    },
    {
      "cell_type": "code",
      "execution_count": null,
      "metadata": {
        "id": "aADsu_FdXBDu"
      },
      "outputs": [],
      "source": [
        "# készítsünk  egy \"matrix.txt\" nevű fájlt 2 sorban 3 egész szám szóközzel elválasztva\n",
        "# majd olvassuk be a txt fájlt tömbként\n"
      ]
    },
    {
      "cell_type": "code",
      "execution_count": null,
      "metadata": {
        "id": "PKIg2VrmXBDv"
      },
      "outputs": [],
      "source": [
        "# Nullákból álló tömb létrehozása 1dimenziós\n"
      ]
    },
    {
      "cell_type": "code",
      "execution_count": null,
      "metadata": {
        "id": "KzPYL_q6XBDv"
      },
      "outputs": [],
      "source": [
        "# Nullákból álló tömb létrehozása többdimenziós\n"
      ]
    },
    {
      "cell_type": "code",
      "execution_count": null,
      "metadata": {
        "id": "kevPzKEpXBDv"
      },
      "outputs": [],
      "source": [
        "# Egyesekből álló tömb létrehozása\n"
      ]
    },
    {
      "cell_type": "code",
      "execution_count": null,
      "metadata": {
        "id": "ysii2z99XBDv"
      },
      "outputs": [],
      "source": [
        "# Értéktartomány létrehozása a lépésköz megadásával.\n"
      ]
    },
    {
      "cell_type": "code",
      "execution_count": null,
      "metadata": {
        "id": "JsUlaDUGXBDv"
      },
      "outputs": [],
      "source": [
        "# Vektorok összefűzése.\n",
        "a = np.array([2, 3])\n",
        "b = np.array([44, 55, 66])\n"
      ]
    },
    {
      "cell_type": "markdown",
      "metadata": {
        "id": "YOnanqx4XBDw"
      },
      "source": [
        "### Másolás beépítve"
      ]
    },
    {
      "cell_type": "code",
      "execution_count": null,
      "metadata": {
        "id": "dAOVh2KeXBDw"
      },
      "outputs": [],
      "source": [
        "a = np.array([1,2,3])\n",
        "b = a.copy()\n",
        "print(\"a = \", a, \";\\tb = \", b)\n",
        "b [0] = 10\n",
        "print(\"a = \", a, \";\\tb = \", b)"
      ]
    },
    {
      "cell_type": "markdown",
      "metadata": {
        "id": "aGltZJFvXBDw"
      },
      "source": [
        "### Elemek és résztömbök"
      ]
    },
    {
      "cell_type": "code",
      "execution_count": null,
      "metadata": {
        "id": "PiWiJMIkXBDw"
      },
      "outputs": [],
      "source": [
        "# Hozzunk létre egy példamátrixot!\n",
        "a = np.array([[3, 4, 5],\n",
        "              [6, 7, 8]])"
      ]
    },
    {
      "cell_type": "code",
      "execution_count": null,
      "metadata": {
        "id": "m4ZW5JudXBDx"
      },
      "outputs": [],
      "source": [
        "# Elem kiválasztása (az indexelés 0-tól indul).\n",
        "print(\"2. sor 3. eleme: \", None)    # 1 a sorindex, 2 az oszlopindex"
      ]
    },
    {
      "cell_type": "code",
      "execution_count": null,
      "metadata": {
        "id": "-SXOD7s6XBDx"
      },
      "outputs": [],
      "source": [
        "print(\"1. sor 2. eleme: \", None)"
      ]
    },
    {
      "cell_type": "code",
      "execution_count": null,
      "metadata": {
        "id": "2gzRW7INXBDx"
      },
      "outputs": [],
      "source": [
        "# Teljes sor kiválasztása.\n"
      ]
    },
    {
      "cell_type": "code",
      "execution_count": null,
      "metadata": {
        "id": "G5O-uGzMXBDx"
      },
      "outputs": [],
      "source": [
        "# Oszlop kiválasztása."
      ]
    },
    {
      "cell_type": "code",
      "execution_count": null,
      "metadata": {
        "id": "qIGhhQ-pXBDy"
      },
      "outputs": [],
      "source": [
        "# Adott indexű oszlopok kiválasztása.\n",
        "a[:, [0, 2]]"
      ]
    },
    {
      "cell_type": "code",
      "execution_count": null,
      "metadata": {
        "id": "r991dr4jXBDy"
      },
      "outputs": [],
      "source": [
        "# Elemek kiválasztása logikai feltétel alapján.\n",
        "# páros elemek kiválasztása"
      ]
    },
    {
      "cell_type": "code",
      "execution_count": null,
      "metadata": {
        "id": "gWAenAzyXBDy"
      },
      "outputs": [],
      "source": [
        "# 5-nél nagyobb elemek kiválasztása\n",
        "a[a > 5]"
      ]
    },
    {
      "cell_type": "code",
      "execution_count": null,
      "metadata": {
        "id": "lJZaLw-AXBDy"
      },
      "outputs": [],
      "source": [
        "# Oszlop módosítása.\n"
      ]
    },
    {
      "cell_type": "markdown",
      "metadata": {
        "id": "H5wr5Z7kXBDz"
      },
      "source": [
        "### Vektor műveletek (Tömbműveletek) Koordinátánként"
      ]
    },
    {
      "cell_type": "code",
      "execution_count": null,
      "metadata": {
        "id": "EtakMnuZXBDz"
      },
      "outputs": [],
      "source": [
        "# Hozzunk létre 2 példatömböt!\n",
        "a = np.array([1, 7 ,3])\n",
        "b = np.array([1, 1, 1])"
      ]
    },
    {
      "cell_type": "code",
      "execution_count": null,
      "metadata": {
        "id": "7j4VyaypXBDz"
      },
      "outputs": [],
      "source": [
        "# Elemenkénti összeadás.\n"
      ]
    },
    {
      "cell_type": "code",
      "execution_count": null,
      "metadata": {
        "id": "4TV7CtWhXBDz"
      },
      "outputs": [],
      "source": [
        "# Elemenkénti kivonás.\n"
      ]
    },
    {
      "cell_type": "code",
      "execution_count": null,
      "metadata": {
        "id": "Iba3lJBuXBDz"
      },
      "outputs": [],
      "source": [
        "# számmal szorzás\n"
      ]
    },
    {
      "cell_type": "code",
      "execution_count": null,
      "metadata": {
        "id": "wQXLTZjsXBD0"
      },
      "outputs": [],
      "source": [
        "# Elemenkénti szorzás.\n"
      ]
    },
    {
      "cell_type": "code",
      "execution_count": null,
      "metadata": {
        "id": "30t0QvzCXBD0"
      },
      "outputs": [],
      "source": [
        "# Elemenkénti osztás.\n"
      ]
    },
    {
      "cell_type": "code",
      "execution_count": null,
      "metadata": {
        "id": "BPAeqvFrXBD0"
      },
      "outputs": [],
      "source": [
        "# Elemenkénti egészosztás.\n"
      ]
    },
    {
      "cell_type": "code",
      "execution_count": null,
      "metadata": {
        "id": "OmO1XXdLXBD0"
      },
      "outputs": [],
      "source": [
        "# Elemenkénti hatványozás.\n"
      ]
    },
    {
      "cell_type": "code",
      "execution_count": null,
      "metadata": {
        "id": "PrMQLY8nXBD0"
      },
      "outputs": [],
      "source": [
        "# A művelet nem feltétlenül végezhető el.\n",
        "c = np.array([2, 3, 4]) # 3 hosszú tömb\n",
        "d = np.array([10, 20])  # 2 hosszú tömb\n",
        "c + d"
      ]
    },
    {
      "cell_type": "code",
      "execution_count": null,
      "metadata": {
        "id": "ArbulGzxXBD0"
      },
      "outputs": [],
      "source": [
        "# Két vektor skaláris szorzata.\n",
        "a = np.array([3, 4, 5])\n",
        "b = np.array([2, 2, 2])\n",
        "a @ b"
      ]
    },
    {
      "cell_type": "markdown",
      "metadata": {
        "id": "KAn2CNQJXBD1"
      },
      "source": [
        "### Függvények és tömbök"
      ]
    },
    {
      "cell_type": "code",
      "execution_count": null,
      "metadata": {
        "id": "t6m82mFXXBD1"
      },
      "outputs": [],
      "source": [
        "# Hozzunk létre egy példamátrixot!\n",
        "a = np.array([[3, 4, 5],\n",
        "              [6, 7, 8]])"
      ]
    },
    {
      "cell_type": "code",
      "execution_count": null,
      "metadata": {
        "id": "6GipqE0BXBD1"
      },
      "outputs": [],
      "source": [
        "# Elemenkénti függvények (exp, log, sin, cos, ...).\n"
      ]
    },
    {
      "cell_type": "code",
      "execution_count": null,
      "metadata": {
        "id": "RkZ9YZQ5XBD1"
      },
      "outputs": [],
      "source": []
    },
    {
      "cell_type": "code",
      "execution_count": null,
      "metadata": {
        "id": "ktcd4SdQXBD1"
      },
      "outputs": [],
      "source": [
        "# álltalunk megadott függvény is alkalmazható tömbre:\n"
      ]
    },
    {
      "cell_type": "markdown",
      "metadata": {
        "id": "_t3dVt0cXBD2"
      },
      "source": [
        "### Statisztikai műveletek (min, max, sum, mean, std).\n"
      ]
    },
    {
      "cell_type": "code",
      "execution_count": null,
      "metadata": {
        "id": "obGKTuqBXBD2"
      },
      "outputs": [],
      "source": [
        "# Hozzunk létre egy példamátrixot!\n",
        "a = np.array([[3, 4, 5],\n",
        "              [6, 7, 8]])"
      ]
    },
    {
      "cell_type": "code",
      "execution_count": null,
      "metadata": {
        "id": "a_L4_-yRXBD2"
      },
      "outputs": [],
      "source": [
        "a.sum()"
      ]
    },
    {
      "cell_type": "code",
      "execution_count": null,
      "metadata": {
        "id": "i57Z7xW5XBD2"
      },
      "outputs": [],
      "source": [
        "a.min(), a.max()"
      ]
    },
    {
      "cell_type": "code",
      "execution_count": null,
      "metadata": {
        "id": "PXGnjxZWXBD2"
      },
      "outputs": [],
      "source": [
        "a.mean()"
      ]
    },
    {
      "cell_type": "code",
      "execution_count": null,
      "metadata": {
        "id": "9Gg2fwRfXBD3"
      },
      "outputs": [],
      "source": [
        "# minimum és maximum hely (argmin,argmax)\n",
        "a.argmax()"
      ]
    },
    {
      "cell_type": "markdown",
      "metadata": {
        "id": "2TVwMLidXBD3"
      },
      "source": [
        "### Keresés - np.where()"
      ]
    },
    {
      "cell_type": "code",
      "execution_count": null,
      "metadata": {
        "id": "LSVeEf22XBD3"
      },
      "outputs": [],
      "source": [
        "# Példa: Mely indexeknél találhatók az 5-nél kisebb elemek?\n",
        "a = np.array([3, 10, 11, 4, 7, 8])\n",
        "\n",
        "print(a[a<5])\n",
        "np.where(a<5)"
      ]
    },
    {
      "cell_type": "markdown",
      "metadata": {
        "id": "rUr7bPqUXBD3"
      },
      "source": [
        "### Rendezés"
      ]
    },
    {
      "cell_type": "code",
      "execution_count": null,
      "metadata": {
        "id": "JfKexqSwXBD3"
      },
      "outputs": [],
      "source": [
        "# Rendezés helyben.\n",
        "a = np.array([3, 10, 11, 4, 7, 8])\n",
        "a.sort()"
      ]
    },
    {
      "cell_type": "code",
      "execution_count": null,
      "metadata": {
        "id": "_JCGgrUfXBD7"
      },
      "outputs": [],
      "source": [
        "print(a)"
      ]
    },
    {
      "cell_type": "code",
      "execution_count": null,
      "metadata": {
        "id": "5Ch-3dTkXBD8"
      },
      "outputs": [],
      "source": [
        "# Rendezés új tömbbe.\n",
        "a = np.array([3, 10, 11, 4, 7, 8])\n",
        "np.sort(a)"
      ]
    },
    {
      "cell_type": "code",
      "execution_count": null,
      "metadata": {
        "id": "H2otIC_CXBD8"
      },
      "outputs": [],
      "source": [
        "# Rendezés csökkenő sorrendbe.\n",
        "np.sort(a)[::-1]"
      ]
    },
    {
      "cell_type": "markdown",
      "metadata": {
        "id": "HC2JZCn8XBD8"
      },
      "source": [
        "## [Matplotlib](https://matplotlib.org/)\n",
        "\n",
        "A Matplotlib adatok ábrázolásához hasznos csomag.\n",
        "\n",
        "- Nyomdai minőségben testreszabható grafikon rajzolás\n",
        "- Sokféle képfájlként kimenthető eredmény\n",
        "- De animációt is lehet vele készíteni\n",
        "\n",
        "A Matplotlib is külső csomag. A Colab felületén ez is elérhető.\n",
        "\n",
        "De a saját gépünkön szükség van telepítésére. Többféle lehetőség van, például:\n",
        "- `pip install matplotlib --user`\n",
        "- `conda install -c conda-forge matplotlib`"
      ]
    },
    {
      "cell_type": "code",
      "execution_count": null,
      "metadata": {
        "id": "_G0yBYKkXBD8"
      },
      "outputs": [],
      "source": [
        "import matplotlib.pyplot as plt\n",
        "\n",
        "# Colab /Jupyter notebook speciális beállítás\n",
        "%matplotlib inline"
      ]
    },
    {
      "cell_type": "code",
      "execution_count": null,
      "metadata": {
        "id": "mamDAZnSXBD8"
      },
      "outputs": [],
      "source": [
        "# kreáljunk egy adatsort és plt.plot() függvénnyel rajzoljuk ki\n",
        "data = np.array([2,4,1,6,2,7,8,9] )\n",
        "# data.size\n",
        "\n",
        "plt.plot(data , \"x-\")\n",
        "plt.title(\"Eza  cím\")\n",
        "plt.show()"
      ]
    },
    {
      "cell_type": "markdown",
      "metadata": {
        "id": "5r8IWopMoUEU"
      },
      "source": [
        "## Modulok és Csomagok néhány példával\n",
        "**Modul**: Python nyelvű fájl. [Modulok a dokumentációban](https://docs.python.org/3/tutorial/modules.html)\n",
        "- Definíciókat és utasításokat tartalmaz.\n",
        "- Ha a modulhoz az `xyz.py` fájl tartozik, akkor a modulra `xyz` néven lehet hivatkozni.\n",
        "- A modulok más Python programokból importálhatók.\n",
        "\n",
        "**Csomag**: Modulok gyűjteménye.  [Csomagok a dokumentációban](https://docs.python.org/3/tutorial/modules.html#packages)\n",
        "- Egy csomag alcsomagokat/almodulokat is tartalmazhat. A hierarchiát a csomagon belüli könyvtárszerkezet határozza meg.\n",
        "- A standard csomagok és modulok a standard könyvtárban találhatók, és nem igényelnek telepítést.\n",
        "- A külső csomagok gyűjtőhelye a PyPI (https://pypi.python.org/pypi)."
      ]
    },
    {
      "cell_type": "markdown",
      "metadata": {
        "id": "a5C3FmGHW4Xq"
      },
      "source": [
        "### Modul vagy csomag importálása, majd abból a szükséges függvény meghívása"
      ]
    },
    {
      "cell_type": "code",
      "execution_count": null,
      "metadata": {
        "id": "c99hHVrYoUEf"
      },
      "outputs": [],
      "source": [
        "# Modul/csomag importálása.\n",
        "import random"
      ]
    },
    {
      "cell_type": "code",
      "execution_count": null,
      "metadata": {
        "id": "-pMb_KR8oUEk"
      },
      "outputs": [],
      "source": [
        "# A random egészet sorsoló függvény meghívása\n"
      ]
    },
    {
      "cell_type": "code",
      "execution_count": null,
      "metadata": {
        "id": "aN24EQy2W4Xt"
      },
      "outputs": [],
      "source": [
        "# de egy listából is vehetünk ki véletlenszerűen elemet\n",
        "l = [\"alma\", \"körte\",\"szilva\",\"málna\"]\n"
      ]
    },
    {
      "cell_type": "markdown",
      "metadata": {
        "id": "ZksSaF88W4Xu"
      },
      "source": [
        "### Csak a szükséges függvények importálása egy modulból/csomagból."
      ]
    },
    {
      "cell_type": "code",
      "execution_count": null,
      "metadata": {
        "id": "kzyrEPmNoUEn"
      },
      "outputs": [],
      "source": [
        "# Egyetlen függvény importálása egy modulból/csomagból.\n"
      ]
    },
    {
      "cell_type": "code",
      "execution_count": null,
      "metadata": {
        "id": "EFkrSDNfoUEp"
      },
      "outputs": [],
      "source": []
    },
    {
      "cell_type": "code",
      "execution_count": null,
      "metadata": {
        "id": "gIJgepsaW4Xv"
      },
      "outputs": [],
      "source": [
        "# Függvény importálása almodulból/alcsomagból.\n",
        "from os.path import dirname"
      ]
    },
    {
      "cell_type": "code",
      "execution_count": null,
      "metadata": {
        "id": "87bEloYpW4Xv"
      },
      "outputs": [],
      "source": [
        "dirname('/tmp/pistike/a.txt')"
      ]
    },
    {
      "cell_type": "markdown",
      "metadata": {
        "id": "360A6AaAW4Xw"
      },
      "source": [
        "### Modul/csomag teljes tartalmának importálása\n",
        "**Megjegyzés:** Ez a megoldás általában kerülendő. Keveredhetnek a függvény nevek."
      ]
    },
    {
      "cell_type": "code",
      "execution_count": null,
      "metadata": {
        "id": "sMkjvsOqoUEq"
      },
      "outputs": [],
      "source": [
        "# from random import *"
      ]
    },
    {
      "cell_type": "markdown",
      "metadata": {
        "id": "GRfXMRABW4Xw"
      },
      "source": [
        "### Modul vagy csomag importálása rövid néven"
      ]
    },
    {
      "cell_type": "code",
      "execution_count": null,
      "metadata": {
        "id": "6y9hRvUV9SDv"
      },
      "outputs": [],
      "source": [
        "# rövidítve\n"
      ]
    },
    {
      "cell_type": "code",
      "execution_count": null,
      "metadata": {
        "id": "CqvwpBsD9aE7"
      },
      "outputs": [],
      "source": []
    },
    {
      "cell_type": "markdown",
      "metadata": {
        "id": "3sRiEYDgofcu"
      },
      "source": [
        "## Megjegyzés: listák másolásáról\n",
        " - [Másolás - copy csomag a dokumentációban ](https://docs.python.org/3/library/copy.html)\n",
        "- Sekély (shallow) és mély (deep) másoló függvényt tartalmaz."
      ]
    },
    {
      "cell_type": "code",
      "execution_count": null,
      "metadata": {
        "id": "Agz9qisTp1UW"
      },
      "outputs": [],
      "source": [
        "import copy as cp"
      ]
    },
    {
      "cell_type": "markdown",
      "metadata": {
        "id": "F9QWCCIyW4Xx"
      },
      "source": [
        "a = b értékadás számokkal"
      ]
    },
    {
      "cell_type": "code",
      "execution_count": null,
      "metadata": {
        "id": "EOt6exH6W4Xy"
      },
      "outputs": [],
      "source": [
        "a = 2\n",
        "b = a\n",
        "print(\"a = \", a, \";\\tb = \", b)\n",
        "a = 3\n",
        "print(\"a = \", a, \";\\tb = \", b)"
      ]
    },
    {
      "cell_type": "markdown",
      "metadata": {
        "id": "XzrnN5unW4Xy"
      },
      "source": [
        "a = b értékadás listákkal\n",
        "- NEM végez másolást\n",
        "- csak hívatkozást hoz létre"
      ]
    },
    {
      "cell_type": "code",
      "execution_count": null,
      "metadata": {
        "id": "sRcjUzxjqGlB"
      },
      "outputs": [],
      "source": [
        "# Pythonban az értékadás NEM végez másolást, csak hivatkozást hoz létre.\n"
      ]
    },
    {
      "cell_type": "markdown",
      "metadata": {
        "id": "PbXQMEZQW4Xy"
      },
      "source": [
        "Ha független másolatot szeretnénk ahhoz kell a copy csomag"
      ]
    },
    {
      "cell_type": "code",
      "execution_count": null,
      "metadata": {
        "id": "uWygkp_zqPJz"
      },
      "outputs": [],
      "source": [
        "# Sekély másolat készítése.\n"
      ]
    },
    {
      "cell_type": "code",
      "execution_count": null,
      "metadata": {
        "id": "vG66T6oUqUVX"
      },
      "outputs": [],
      "source": [
        "# Sekély másolat készítése egy listák listája objektumról.\n",
        "a = [[1], [2], [2]]\n",
        "b = cp.copy(a)\n",
        "print(\"a = \", a, \";\\tb = \", b)"
      ]
    },
    {
      "cell_type": "code",
      "execution_count": null,
      "metadata": {
        "id": "I8Tef0QIqVvd"
      },
      "outputs": [],
      "source": [
        "# A cp.copy() csak az adatszerkezet legfelső szintjén végez másolást.\n"
      ]
    },
    {
      "cell_type": "code",
      "execution_count": null,
      "metadata": {
        "id": "6B1bOeSwqW27"
      },
      "outputs": [],
      "source": [
        "# Mély másolat készítése egy listák listája objektumról.\n"
      ]
    },
    {
      "cell_type": "markdown",
      "metadata": {
        "id": "A6QmgPGXbftA"
      },
      "source": [
        "## NumPy csomag\n",
        "\n",
        "A [NumPy](http://www.numpy.org/) egy alacsony szintű matematikai csomag, numerikus számításokhoz.\n",
        "\n",
        "- Alapvető adatszerkezete az [n dimenziós tömb](https://docs.scipy.org/doc/numpy/reference/arrays.ndarray.html).  Így praktikus vektorokkal való számolásoknál.\n",
        "- C nyelven íródott. A szokásos tömbműveletek hatékonyan vannak benne megvalósítva.\n",
        "- Többek között tartalmaz lineáris algebrai és véletlenszám generáló almodult.\n",
        "- Számos magasabb szintű csomag (pl. scipy, matplotlib, pandas, scikit-learn) épül rá.\n",
        "\n",
        "A NumPy külső csomag. A Colab felületén ez is elérhető.\n",
        "\n",
        "De a saját gépünkön szükség van telepítésére. Többféle lehetőség van, például:\n",
        "- `pip install numpy --user`\n",
        "- `sudo apt-get install python3-numpy`\n",
        "- `conda install numpy`"
      ]
    },
    {
      "cell_type": "code",
      "execution_count": null,
      "metadata": {
        "id": "67QTtTvcbftI"
      },
      "outputs": [],
      "source": [
        "# A NumPy modul importálása np néven.\n",
        "import numpy as np"
      ]
    },
    {
      "cell_type": "code",
      "execution_count": null,
      "metadata": {
        "id": "Td8fceMBbftM"
      },
      "outputs": [],
      "source": [
        "# Verzió lekérdezése.\n",
        "np.__version__"
      ]
    },
    {
      "cell_type": "markdown",
      "metadata": {
        "id": "Cdv1V9EGgFYH"
      },
      "source": [
        "### Állandók és függvények"
      ]
    },
    {
      "cell_type": "code",
      "execution_count": null,
      "metadata": {
        "id": "aJ5_H-fxhfLr"
      },
      "outputs": [],
      "source": [
        "# Megvan a pi és az e állandó sok tizedes jegyre:\n"
      ]
    },
    {
      "cell_type": "code",
      "execution_count": null,
      "metadata": {
        "id": "WADluXAMh6_M"
      },
      "outputs": [],
      "source": [
        "# cos(x) sin(x) trigonometrikus függvények\n"
      ]
    },
    {
      "cell_type": "code",
      "execution_count": null,
      "metadata": {
        "id": "nqfAahPMiD4R"
      },
      "outputs": [],
      "source": [
        "# sqrt(x) gyökvonás\n"
      ]
    },
    {
      "cell_type": "code",
      "execution_count": null,
      "metadata": {
        "id": "zrtLKUlzhHsa"
      },
      "outputs": [],
      "source": [
        "# Van beépített függvény legnagyobb közös osztóra\n",
        "# greatest common divisor --> gcd()"
      ]
    },
    {
      "cell_type": "markdown",
      "metadata": {
        "id": "biV8W8EXbftO"
      },
      "source": [
        "### Tömbök létrehozása"
      ]
    },
    {
      "cell_type": "markdown",
      "metadata": {
        "id": "riiq-GBJW4X5"
      },
      "source": [
        "#### Példa: egész számokból álló tömb létrehozása"
      ]
    },
    {
      "cell_type": "code",
      "execution_count": null,
      "metadata": {
        "id": "9o6_9rz_bftP"
      },
      "outputs": [],
      "source": [
        "# egész számokból álló 1x3 tömb - SORVEKTOR\n",
        "a = np.array([2, 3, 4])"
      ]
    },
    {
      "cell_type": "code",
      "execution_count": null,
      "metadata": {
        "id": "IWu-5cvtCZqX"
      },
      "outputs": [],
      "source": [
        "print(a)"
      ]
    },
    {
      "cell_type": "code",
      "execution_count": null,
      "metadata": {
        "id": "DtqBpL_tbftQ"
      },
      "outputs": [],
      "source": [
        "# A tömb objektum típusa.\n"
      ]
    },
    {
      "cell_type": "code",
      "execution_count": null,
      "metadata": {
        "id": "09huYDFzW4YA"
      },
      "outputs": [],
      "source": [
        "# a tömb elemei módosíthatóak\n"
      ]
    },
    {
      "cell_type": "markdown",
      "metadata": {
        "id": "kyLpvM-CW4YA"
      },
      "source": [
        "#### Tömb jellemzők lekérdezése"
      ]
    },
    {
      "cell_type": "code",
      "execution_count": null,
      "metadata": {
        "id": "D9XRqxmnbftR"
      },
      "outputs": [],
      "source": [
        "# Hány dimenziós a tömb?\n",
        "a.ndim"
      ]
    },
    {
      "cell_type": "code",
      "execution_count": null,
      "metadata": {
        "id": "Yxefq_EUbftR"
      },
      "outputs": [],
      "source": [
        "# A tömb alakja/mérete.\n",
        "a.shape"
      ]
    },
    {
      "cell_type": "code",
      "execution_count": null,
      "metadata": {
        "id": "FT9CaoE_CwIL"
      },
      "outputs": [],
      "source": [
        "len(a)"
      ]
    },
    {
      "cell_type": "code",
      "execution_count": null,
      "metadata": {
        "id": "491Bt2G2W4YB"
      },
      "outputs": [],
      "source": [
        "# összes elem\n",
        "a.size"
      ]
    },
    {
      "cell_type": "code",
      "execution_count": null,
      "metadata": {
        "id": "l9zKXhQqbftS"
      },
      "outputs": [],
      "source": [
        "# Az elemek típusának lekérdezése.\n",
        "# A NumPy tömbök homogének, azaz egyféle adatok vannak benne\n",
        "a.dtype"
      ]
    },
    {
      "cell_type": "markdown",
      "metadata": {
        "id": "xP5RHdmHW4YC"
      },
      "source": [
        "**Feladat**: Hozzunk létre egy 2 x 3-as tömböt, valós számokkal\n",
        "\n",
        "Kérdezzük le a dimenziók számát, a tömb méretét, az elemek számát, az elemek típusát!\n"
      ]
    },
    {
      "cell_type": "code",
      "execution_count": null,
      "metadata": {
        "id": "Szwn9H0ybftS"
      },
      "outputs": [],
      "source": [
        "# Hozzunk létre egy 2 x 3-as tömböt, valós számokkal\n"
      ]
    },
    {
      "cell_type": "code",
      "execution_count": null,
      "metadata": {
        "id": "6ti6HUpFbftT"
      },
      "outputs": [],
      "source": [
        "# Dimenziók száma, mérete, az elemek típusa.\n"
      ]
    },
    {
      "cell_type": "markdown",
      "metadata": {
        "id": "FhbddUeiW4YC"
      },
      "source": [
        "#### További módszerek tömb létrehozásra\n",
        "`genfromtxt()`; `zeros()`; `ones()`; `arange()`; `concatenate()`"
      ]
    },
    {
      "cell_type": "code",
      "execution_count": null,
      "metadata": {
        "id": "-mCLg7BXbftV"
      },
      "outputs": [],
      "source": [
        "# készítsünk  egy \"matrix.txt\" nevű fájlt 2 sorban 3 egész szám szóközzel elválasztva\n",
        "# majd olvassuk be a txt fájlt tömbként\n"
      ]
    },
    {
      "cell_type": "code",
      "execution_count": null,
      "metadata": {
        "id": "zuZh4mghbftW"
      },
      "outputs": [],
      "source": [
        "# Nullákból álló tömb létrehozása 1dimenziós\n"
      ]
    },
    {
      "cell_type": "code",
      "execution_count": null,
      "metadata": {
        "id": "DQF4z8JQFRY1"
      },
      "outputs": [],
      "source": [
        "# Nullákból álló tömb létrehozása többdimenziós\n"
      ]
    },
    {
      "cell_type": "code",
      "execution_count": null,
      "metadata": {
        "id": "deug0RfEbftW"
      },
      "outputs": [],
      "source": [
        "# Egyesekből álló tömb létrehozása\n"
      ]
    },
    {
      "cell_type": "code",
      "execution_count": null,
      "metadata": {
        "id": "0jDxn_jXbftY"
      },
      "outputs": [],
      "source": [
        "# Értéktartomány létrehozása a lépésköz megadásával.\n"
      ]
    },
    {
      "cell_type": "code",
      "execution_count": null,
      "metadata": {
        "id": "hjxKfMbWbftY"
      },
      "outputs": [],
      "source": [
        "# Vektorok összefűzése.\n",
        "a = np.array([2, 3])\n",
        "b = np.array([44, 55, 66])\n"
      ]
    },
    {
      "cell_type": "markdown",
      "metadata": {
        "id": "mi2f9mnEmzTU"
      },
      "source": [
        "### Másolás beépítve"
      ]
    },
    {
      "cell_type": "code",
      "execution_count": null,
      "metadata": {
        "id": "PKpNrXzWm1Ck"
      },
      "outputs": [],
      "source": [
        "a = np.array([1,2,3])\n",
        "b = a.copy()\n",
        "print(\"a = \", a, \";\\tb = \", b)\n",
        "b [0] = 10\n",
        "print(\"a = \", a, \";\\tb = \", b)"
      ]
    },
    {
      "cell_type": "markdown",
      "metadata": {
        "id": "fVLo1jmzbftZ"
      },
      "source": [
        "### Elemek és résztömbök"
      ]
    },
    {
      "cell_type": "code",
      "execution_count": null,
      "metadata": {
        "id": "ZpQD-bOlbfta"
      },
      "outputs": [],
      "source": [
        "# Hozzunk létre egy példamátrixot!\n",
        "a = np.array([[3, 4, 5],\n",
        "              [6, 7, 8]])"
      ]
    },
    {
      "cell_type": "code",
      "execution_count": null,
      "metadata": {
        "id": "BtoVG_BXbfta"
      },
      "outputs": [],
      "source": [
        "# Elem kiválasztása (az indexelés 0-tól indul).\n",
        "print(\"2. sor 3. eleme: \", None)    # 1 a sorindex, 2 az oszlopindex"
      ]
    },
    {
      "cell_type": "code",
      "execution_count": null,
      "metadata": {
        "id": "Dcvm2-YVGj-I"
      },
      "outputs": [],
      "source": [
        "print(\"1. sor 2. eleme: \", None)"
      ]
    },
    {
      "cell_type": "code",
      "execution_count": null,
      "metadata": {
        "id": "JnZ0SyK7bftb"
      },
      "outputs": [],
      "source": [
        "# Teljes sor kiválasztása.\n"
      ]
    },
    {
      "cell_type": "code",
      "execution_count": null,
      "metadata": {
        "id": "x_PQ2e_7bftc"
      },
      "outputs": [],
      "source": [
        "# Oszlop kiválasztása."
      ]
    },
    {
      "cell_type": "code",
      "execution_count": null,
      "metadata": {
        "id": "NipSVw4ubftc"
      },
      "outputs": [],
      "source": [
        "# Adott indexű oszlopok kiválasztása.\n",
        "a[:, [0, 2]]"
      ]
    },
    {
      "cell_type": "code",
      "execution_count": null,
      "metadata": {
        "id": "AzWWwlN6bftd"
      },
      "outputs": [],
      "source": [
        "# Elemek kiválasztása logikai feltétel alapján.\n",
        "# páros elemek kiválasztása"
      ]
    },
    {
      "cell_type": "code",
      "execution_count": null,
      "metadata": {
        "id": "Wfa0kRyUHyRH"
      },
      "outputs": [],
      "source": [
        "# 5-nél nagyobb elemek kiválasztása\n",
        "a[a > 5]"
      ]
    },
    {
      "cell_type": "code",
      "execution_count": null,
      "metadata": {
        "id": "uWv0mV6wbfte"
      },
      "outputs": [],
      "source": [
        "# Oszlop módosítása.\n"
      ]
    },
    {
      "cell_type": "markdown",
      "metadata": {
        "id": "uKDcBH6Tbfte"
      },
      "source": [
        "### Vektor műveletek (Tömbműveletek) Koordinátánként"
      ]
    },
    {
      "cell_type": "code",
      "execution_count": null,
      "metadata": {
        "id": "o9AwI3XLbftf"
      },
      "outputs": [],
      "source": [
        "# Hozzunk létre 2 példatömböt!\n",
        "a = np.array([1, 7 ,3])\n",
        "b = np.array([1, 1, 1])"
      ]
    },
    {
      "cell_type": "code",
      "execution_count": null,
      "metadata": {
        "id": "2pTKUN05bftf"
      },
      "outputs": [],
      "source": [
        "# Elemenkénti összeadás.\n"
      ]
    },
    {
      "cell_type": "code",
      "execution_count": null,
      "metadata": {
        "id": "3yu11Pmlbftf"
      },
      "outputs": [],
      "source": [
        "# Elemenkénti kivonás.\n"
      ]
    },
    {
      "cell_type": "code",
      "execution_count": null,
      "metadata": {
        "id": "idTJakJvdOOy"
      },
      "outputs": [],
      "source": [
        "# számmal szorzás\n"
      ]
    },
    {
      "cell_type": "code",
      "execution_count": null,
      "metadata": {
        "id": "IGY8e_wxbftf"
      },
      "outputs": [],
      "source": [
        "# Elemenkénti szorzás.\n"
      ]
    },
    {
      "cell_type": "code",
      "execution_count": null,
      "metadata": {
        "id": "EEvYHfAWbftg"
      },
      "outputs": [],
      "source": [
        "# Elemenkénti osztás.\n"
      ]
    },
    {
      "cell_type": "code",
      "execution_count": null,
      "metadata": {
        "id": "YRnPTQ8lbftg"
      },
      "outputs": [],
      "source": [
        "# Elemenkénti egészosztás.\n"
      ]
    },
    {
      "cell_type": "code",
      "execution_count": null,
      "metadata": {
        "id": "DtBkR8_Ibftg"
      },
      "outputs": [],
      "source": [
        "# Elemenkénti hatványozás.\n"
      ]
    },
    {
      "cell_type": "code",
      "execution_count": null,
      "metadata": {
        "id": "_3Wg6LZ_bfth"
      },
      "outputs": [],
      "source": [
        "# A művelet nem feltétlenül végezhető el.\n",
        "c = np.array([2, 3, 4]) # 3 hosszú tömb\n",
        "d = np.array([10, 20])  # 2 hosszú tömb\n",
        "c + d"
      ]
    },
    {
      "cell_type": "code",
      "execution_count": null,
      "metadata": {
        "id": "KjpUB1KFbftr"
      },
      "outputs": [],
      "source": [
        "# Két vektor skaláris szorzata.\n",
        "a = np.array([3, 4, 5])\n",
        "b = np.array([2, 2, 2])\n",
        "a @ b"
      ]
    },
    {
      "cell_type": "markdown",
      "metadata": {
        "id": "YBtxeXwtW4YJ"
      },
      "source": [
        "### Függvények és tömbök"
      ]
    },
    {
      "cell_type": "code",
      "execution_count": null,
      "metadata": {
        "id": "bLl_3qeWW4YJ"
      },
      "outputs": [],
      "source": [
        "# Hozzunk létre egy példamátrixot!\n",
        "a = np.array([[3, 4, 5],\n",
        "              [6, 7, 8]])"
      ]
    },
    {
      "cell_type": "code",
      "execution_count": null,
      "metadata": {
        "id": "KLoGVjlQbfth"
      },
      "outputs": [],
      "source": [
        "# Elemenkénti függvények (exp, log, sin, cos, ...).\n"
      ]
    },
    {
      "cell_type": "code",
      "execution_count": null,
      "metadata": {
        "id": "0Mb71C8tbfth"
      },
      "outputs": [],
      "source": []
    },
    {
      "cell_type": "code",
      "execution_count": null,
      "metadata": {
        "id": "jDQSb757jbrA"
      },
      "outputs": [],
      "source": [
        "# álltalunk megadott függvény is alkalmazható tömbre:\n"
      ]
    },
    {
      "cell_type": "markdown",
      "metadata": {
        "id": "YIQfeVZSW4YK"
      },
      "source": [
        "### Statisztikai műveletek (min, max, sum, mean, std).\n"
      ]
    },
    {
      "cell_type": "code",
      "execution_count": null,
      "metadata": {
        "id": "kFKnDV70W4YK"
      },
      "outputs": [],
      "source": [
        "# Hozzunk létre egy példamátrixot!\n",
        "a = np.array([[3, 4, 5],\n",
        "              [6, 7, 8]])"
      ]
    },
    {
      "cell_type": "code",
      "execution_count": null,
      "metadata": {
        "id": "vsOpJKqgbfti"
      },
      "outputs": [],
      "source": [
        "a.sum()"
      ]
    },
    {
      "cell_type": "code",
      "execution_count": null,
      "metadata": {
        "id": "FvBjny9TMTTk"
      },
      "outputs": [],
      "source": [
        "a.min(), a.max()"
      ]
    },
    {
      "cell_type": "code",
      "execution_count": null,
      "metadata": {
        "id": "0EePnbFIMX1-"
      },
      "outputs": [],
      "source": [
        "a.mean()"
      ]
    },
    {
      "cell_type": "code",
      "execution_count": null,
      "metadata": {
        "id": "5dVjkQXKwPu5"
      },
      "outputs": [],
      "source": [
        "# minimum és maximum hely (argmin,argmax)\n",
        "a.argmax()"
      ]
    },
    {
      "cell_type": "markdown",
      "metadata": {
        "id": "z1wJmoxzW4YL"
      },
      "source": [
        "### Keresés - np.where()"
      ]
    },
    {
      "cell_type": "code",
      "execution_count": null,
      "metadata": {
        "id": "7KheWdZRbftn"
      },
      "outputs": [],
      "source": [
        "# Példa: Mely indexeknél találhatók az 5-nél kisebb elemek?\n",
        "a = np.array([3, 10, 11, 4, 7, 8])\n",
        "\n",
        "print(a[a<5])\n",
        "np.where(a<5)"
      ]
    },
    {
      "cell_type": "markdown",
      "metadata": {
        "id": "uvjK2L0rW4YL"
      },
      "source": [
        "### Rendezés"
      ]
    },
    {
      "cell_type": "code",
      "execution_count": null,
      "metadata": {
        "id": "1g-Kd0acbfto"
      },
      "outputs": [],
      "source": [
        "# Rendezés helyben.\n",
        "a = np.array([3, 10, 11, 4, 7, 8])\n",
        "a.sort()"
      ]
    },
    {
      "cell_type": "code",
      "execution_count": null,
      "metadata": {
        "id": "TvylBWfHW4YM"
      },
      "outputs": [],
      "source": [
        "print(a)"
      ]
    },
    {
      "cell_type": "code",
      "execution_count": null,
      "metadata": {
        "id": "CTEdTsHabfto"
      },
      "outputs": [],
      "source": [
        "# Rendezés új tömbbe.\n",
        "a = np.array([3, 10, 11, 4, 7, 8])\n",
        "np.sort(a)"
      ]
    },
    {
      "cell_type": "code",
      "execution_count": null,
      "metadata": {
        "id": "k5vh9ApYbftp"
      },
      "outputs": [],
      "source": [
        "# Rendezés csökkenő sorrendbe.\n",
        "np.sort(a)[::-1]"
      ]
    },
    {
      "cell_type": "markdown",
      "metadata": {
        "id": "cLwnBVpbrFJc"
      },
      "source": [
        "## [Matplotlib](https://matplotlib.org/)\n",
        "\n",
        "A Matplotlib adatok ábrázolásához hasznos csomag.\n",
        "\n",
        "- Nyomdai minőségben testreszabható grafikon rajzolás\n",
        "- Sokféle képfájlként kimenthető eredmény\n",
        "- De animációt is lehet vele készíteni\n",
        "\n",
        "A Matplotlib is külső csomag. A Colab felületén ez is elérhető.\n",
        "\n",
        "De a saját gépünkön szükség van telepítésére. Többféle lehetőség van, például:\n",
        "- `pip install matplotlib --user`\n",
        "- `conda install -c conda-forge matplotlib`"
      ]
    },
    {
      "cell_type": "code",
      "execution_count": null,
      "metadata": {
        "id": "pkED4aPfsYWH"
      },
      "outputs": [],
      "source": [
        "import matplotlib.pyplot as plt\n",
        "\n",
        "# Colab /Jupyter notebook speciális beállítás\n",
        "%matplotlib inline"
      ]
    },
    {
      "cell_type": "code",
      "execution_count": null,
      "metadata": {
        "id": "s8A2JdmNsjKQ"
      },
      "outputs": [],
      "source": [
        "# kreáljunk egy adatsort és plt.plot() függvénnyel rajzoljuk ki\n",
        "data = np.array([2,4,1,6,2,7,8,9] )\n",
        "# data.size\n",
        "\n",
        "plt.plot(data , \"x-\")\n",
        "plt.title(\"Eza  cím\")\n",
        "plt.show()"
      ]
    }
  ]
}