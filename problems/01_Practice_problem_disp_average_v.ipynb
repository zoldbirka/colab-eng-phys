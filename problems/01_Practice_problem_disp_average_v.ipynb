{
  "nbformat": 4,
  "nbformat_minor": 0,
  "metadata": {
    "colab": {
      "provenance": [],
      "authorship_tag": "ABX9TyMNESoPAW1adjcalKRi4ChY",
      "include_colab_link": true
    },
    "kernelspec": {
      "name": "python3",
      "display_name": "Python 3"
    },
    "language_info": {
      "name": "python"
    }
  },
  "cells": [
    {
      "cell_type": "markdown",
      "metadata": {
        "id": "view-in-github",
        "colab_type": "text"
      },
      "source": [
        "<a href=\"https://colab.research.google.com/github/zoldbirka/colab-eng-phys/blob/main/problems/01_Practice_problem_disp_average_v.ipynb\" target=\"_parent\"><img src=\"https://colab.research.google.com/assets/colab-badge.svg\" alt=\"Open In Colab\"/></a>"
      ]
    },
    {
      "cell_type": "markdown",
      "source": [
        "# 01-Practice problems"
      ],
      "metadata": {
        "id": "RKBjsCRFXRVn"
      }
    },
    {
      "cell_type": "markdown",
      "source": [
        "## Problem 3/25 extended\n",
        "A car is 2.0 km west of a traffic light at t = 0 and 5.0 km east of the light at t = 6.0 min. Assume the origin of the coordinate system is the light and the positive x direction is eastward. At t = 10.0 min the car stopps in front of the Pharmacy, which is 8.5 km east from the traffic light.\n",
        "\n",
        "- Collect the position time data in a table!\n",
        "- Calculate the total displacement!\n",
        "- What is the average velocity during the entire trip?\n",
        "- What is the total distance traveled?\n",
        "- Calculate the average velocities for the separate sections of the car's motion!\n",
        "- Make a graph of position versus time."
      ],
      "metadata": {
        "id": "Qzge5VwdXwE-"
      }
    },
    {
      "cell_type": "code",
      "source": [],
      "metadata": {
        "id": "goE1pIkWYUOJ"
      },
      "execution_count": null,
      "outputs": []
    },
    {
      "cell_type": "markdown",
      "source": [
        "## Problem 3/28 extended\n",
        "Two cyclist ride 8.0 km east for 20 minutes, then they turn and head west for 8 minutes and 3.2 km. Finally, they ride east for 16 km, which takes 40 minutes.\n",
        "\n",
        "- Collect the position time data in a table! (Choose a coordinate system!) \n",
        "- Calculate the total displacement!\n",
        "- What is the average velocity during the entire trip?\n",
        "- What is the total distance traveled?\n",
        "- Calculate the average velocities for the separate sections of the cyclers motion!\n",
        "- Make a graph of position versus time."
      ],
      "metadata": {
        "id": "teJYtr3jagdU"
      }
    },
    {
      "cell_type": "code",
      "source": [],
      "metadata": {
        "id": "NisXd5PDahdV"
      },
      "execution_count": null,
      "outputs": []
    }
  ]
}
