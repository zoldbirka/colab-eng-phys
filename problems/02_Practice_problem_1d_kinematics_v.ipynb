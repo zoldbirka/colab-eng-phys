{
 "cells": [
  {
   "cell_type": "markdown",
   "metadata": {
    "vscode": {
     "languageId": "plaintext"
    }
   },
   "source": [
    "# 02-Practice problem"
   ]
  },
  {
   "cell_type": "markdown",
   "metadata": {
    "vscode": {
     "languageId": "plaintext"
    }
   },
   "source": [
    "A 1D motion has the following velocity-time function:\n",
    "\n",
    "$$ v(t) = \\begin{cases} 3 \\cdot t, \\quad \\text{if}\\quad  0<=t<3\\\\\n",
    "9, \\quad \\text{if}\\quad  3<=t<10\\\\\n",
    "9 - (t-10)^3, \\quad \\text{if}\\quad  10<=t\\\\\n",
    " \\end{cases}$$\n",
    "\n",
    "The body starts to move from the origin so $x(0) = 0$.\n",
    "\n",
    "- Plot x(t), v(t) and a(t) functions!\n",
    "- Find t_end >0 time when the body stops moving ie. where v(t) = 0.\n",
    "- Where is the body at t_end time ie. calculate x(t_end).\n",
    "- Find maximum of the acceleration magnitude between 0 and t_end."
   ]
  },
  {
   "cell_type": "code",
   "execution_count": 1,
   "metadata": {},
   "outputs": [],
   "source": [
    "# definition of velocity time function\n",
    "def my_vt(t):\n",
    "    if 0 <= t < 3:\n",
    "        return 3*t\n",
    "    elif 3 <= t < 10:\n",
    "        return 9\n",
    "    else:\n",
    "        return 9 - (t-10)**3"
   ]
  },
  {
   "cell_type": "code",
   "execution_count": null,
   "metadata": {},
   "outputs": [],
   "source": []
  },
  {
   "cell_type": "code",
   "execution_count": null,
   "metadata": {},
   "outputs": [],
   "source": []
  },
  {
   "cell_type": "code",
   "execution_count": null,
   "metadata": {},
   "outputs": [],
   "source": [
    "# definition of "
   ]
  }
 ],
 "metadata": {
  "kernelspec": {
   "display_name": "pylatest",
   "language": "python",
   "name": "python3"
  },
  "language_info": {
   "codemirror_mode": {
    "name": "ipython",
    "version": 3
   },
   "file_extension": ".py",
   "mimetype": "text/x-python",
   "name": "python",
   "nbconvert_exporter": "python",
   "pygments_lexer": "ipython3",
   "version": "3.9.15"
  }
 },
 "nbformat": 4,
 "nbformat_minor": 2
}
