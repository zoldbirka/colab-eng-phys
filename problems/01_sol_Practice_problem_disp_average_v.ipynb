{
  "nbformat": 4,
  "nbformat_minor": 0,
  "metadata": {
    "colab": {
      "provenance": [],
      "authorship_tag": "ABX9TyO5XEiyGftr+IgxJdb+q1zN",
      "include_colab_link": true
    },
    "kernelspec": {
      "name": "python3",
      "display_name": "Python 3"
    },
    "language_info": {
      "name": "python"
    }
  },
  "cells": [
    {
      "cell_type": "markdown",
      "metadata": {
        "id": "view-in-github",
        "colab_type": "text"
      },
      "source": [
        "<a href=\"https://colab.research.google.com/github/zoldbirka/colab-eng-phys/blob/main/problems/01_sol_Practice_problem_disp_average_v.ipynb\" target=\"_parent\"><img src=\"https://colab.research.google.com/assets/colab-badge.svg\" alt=\"Open In Colab\"/></a>"
      ]
    },
    {
      "cell_type": "markdown",
      "source": [
        "# 01-Practice problems with SOLUTIONS"
      ],
      "metadata": {
        "id": "RKBjsCRFXRVn"
      }
    },
    {
      "cell_type": "markdown",
      "source": [
        "## Problem 3/25 extended\n",
        "A car is 2.0 km west of a traffic light at t = 0 and 5.0 km east of the light at t = 6.0 min. Assume the origin of the coordinate system is the light and the positive x direction is eastward. At t = 10.0 min the car stopps in front of the Pharmacy, which is 8.5 km east from the traffic light.\n",
        "\n",
        "- Collect the position time data in a table!\n",
        "- Calculate the total displacement!\n",
        "- What is the average velocity during the entire trip?\n",
        "- What is the total distance traveled?\n",
        "- Calculate the average velocities for the separate sections of the car's motion!\n",
        "- Make a graph of position versus time."
      ],
      "metadata": {
        "id": "Qzge5VwdXwE-"
      }
    },
    {
      "cell_type": "markdown",
      "source": [
        "### Collect the position time data in a table!"
      ],
      "metadata": {
        "id": "CJSLEefnVvT4"
      }
    },
    {
      "cell_type": "code",
      "source": [
        "## Using lists - collection of input data\n",
        "x_tab = [-2.0, 5.0 , 8.5]     # position data (km)\n",
        "t_tab = [0.0, 6.0,  10.0]     # time data (minute)"
      ],
      "metadata": {
        "id": "goE1pIkWYUOJ"
      },
      "execution_count": 12,
      "outputs": []
    },
    {
      "cell_type": "markdown",
      "source": [
        "Note that first position data is negative, while it is to the west from the origin, and coordinate system points to the east."
      ],
      "metadata": {
        "id": "wABDFXdYOPby"
      }
    },
    {
      "cell_type": "markdown",
      "source": [
        "### Calculate the total displacement!"
      ],
      "metadata": {
        "id": "TaLMT8UBRxj2"
      }
    },
    {
      "cell_type": "code",
      "source": [
        "# Total displacement: final position - initial position\n",
        "delta_x_total = x_tab[-1] - x_tab[0]       # km\n",
        "print(\"Total displacement (km) by definition:\", delta_x_total)"
      ],
      "metadata": {
        "colab": {
          "base_uri": "https://localhost:8080/"
        },
        "id": "CtvPUa99OcCk",
        "outputId": "fdda5432-8d23-4f92-fa55-9a325e4e8750"
      },
      "execution_count": 13,
      "outputs": [
        {
          "output_type": "stream",
          "name": "stdout",
          "text": [
            "Total displacement (km) by definition: 10.5\n"
          ]
        }
      ]
    },
    {
      "cell_type": "markdown",
      "source": [
        "### What is the average velocity during the entire trip?\n"
      ],
      "metadata": {
        "id": "f-IjkC79R00S"
      }
    },
    {
      "cell_type": "code",
      "source": [
        "# Unit conversion !!!\n",
        "time_total  = t_tab[-1]-t_tab[0]    # minutes\n",
        "\n",
        "average_v_total = (delta_x_total *1000) / (time_total * 60)\n",
        "print(\"Average velocity for total motion (m/s):\", average_v_total)\n",
        "print(\"Which is: \", round(average_v_total *3.6, 3), 'km/h')"
      ],
      "metadata": {
        "colab": {
          "base_uri": "https://localhost:8080/"
        },
        "id": "75m_LhHvO6w7",
        "outputId": "3f1bb695-d0bc-4fbd-93e7-9871e58db14f"
      },
      "execution_count": 32,
      "outputs": [
        {
          "output_type": "stream",
          "name": "stdout",
          "text": [
            "Average velocity for total motion (m/s): 17.5\n",
            "Which is:  63.0 km/h\n"
          ]
        }
      ]
    },
    {
      "cell_type": "markdown",
      "source": [
        "### What is the total distance traveled?\n"
      ],
      "metadata": {
        "id": "Lfo5qxaaR46l"
      }
    },
    {
      "cell_type": "markdown",
      "source": [
        "Step-by-step displacement's absolute value is needed\n"
      ],
      "metadata": {
        "id": "RGR2o751STUz"
      }
    },
    {
      "cell_type": "code",
      "source": [
        "# Calculating displacements step-by-step:\n",
        "\n",
        "total_distance = 0.0    # variable to measure total distance (initially 0)\n",
        "\n",
        "N = len(x_tab)           # number of data\n",
        "for i in range(0, N-1):\n",
        "    total_distance += abs(x_tab[i+1]-x_tab[i]) #\n",
        "\n",
        "print(\"Total distance (km)\", total_distance)"
      ],
      "metadata": {
        "id": "5kRJYa_rQBGf",
        "colab": {
          "base_uri": "https://localhost:8080/"
        },
        "outputId": "e063dcd6-fa22-4f77-bc06-6679b98c3045"
      },
      "execution_count": 19,
      "outputs": [
        {
          "output_type": "stream",
          "name": "stdout",
          "text": [
            "Total distance (km) 10.5\n"
          ]
        }
      ]
    },
    {
      "cell_type": "markdown",
      "source": [
        "Or use the right function from kinematics.py!\n",
        "\n"
      ],
      "metadata": {
        "id": "4GTL9BBtSXbs"
      }
    },
    {
      "cell_type": "code",
      "source": [
        "# download and import\n",
        "!wget https://github.com/zoldbirka/colab-eng-phys/raw/refs/heads/main/kinematics.py\n",
        "\n",
        "from kinematics import*"
      ],
      "metadata": {
        "colab": {
          "base_uri": "https://localhost:8080/"
        },
        "id": "B3vfMgTVQrE1",
        "outputId": "d784542d-fb17-4d4c-d041-57e06484c5d0"
      },
      "execution_count": 26,
      "outputs": [
        {
          "output_type": "stream",
          "name": "stdout",
          "text": [
            "--2024-10-30 11:59:41--  https://github.com/zoldbirka/colab-eng-phys/raw/refs/heads/main/kinematics.py\n",
            "Resolving github.com (github.com)... 140.82.113.3\n",
            "Connecting to github.com (github.com)|140.82.113.3|:443... connected.\n",
            "HTTP request sent, awaiting response... 302 Found\n",
            "Location: https://raw.githubusercontent.com/zoldbirka/colab-eng-phys/refs/heads/main/kinematics.py [following]\n",
            "--2024-10-30 11:59:41--  https://raw.githubusercontent.com/zoldbirka/colab-eng-phys/refs/heads/main/kinematics.py\n",
            "Resolving raw.githubusercontent.com (raw.githubusercontent.com)... 185.199.109.133, 185.199.110.133, 185.199.111.133, ...\n",
            "Connecting to raw.githubusercontent.com (raw.githubusercontent.com)|185.199.109.133|:443... connected.\n",
            "HTTP request sent, awaiting response... 200 OK\n",
            "Length: 7350 (7.2K) [text/plain]\n",
            "Saving to: ‘kinematics.py.1’\n",
            "\n",
            "\rkinematics.py.1       0%[                    ]       0  --.-KB/s               \rkinematics.py.1     100%[===================>]   7.18K  --.-KB/s    in 0s      \n",
            "\n",
            "2024-10-30 11:59:41 (37.1 MB/s) - ‘kinematics.py.1’ saved [7350/7350]\n",
            "\n"
          ]
        }
      ]
    },
    {
      "cell_type": "code",
      "source": [
        "# apply calc_distance_covered_1D() function from kinematics\n",
        "disp_tab = calc_distance_covered_1D(x_tab)\n",
        "print(\"Total distance (km)\", disp_tab[-1])"
      ],
      "metadata": {
        "id": "P-hmK2Y8Q3dw",
        "colab": {
          "base_uri": "https://localhost:8080/"
        },
        "outputId": "1a866eba-ccd3-4961-fe60-f231d812f954"
      },
      "execution_count": 29,
      "outputs": [
        {
          "output_type": "stream",
          "name": "stdout",
          "text": [
            "Total distance (km) 10.5\n"
          ]
        }
      ]
    },
    {
      "cell_type": "markdown",
      "source": [
        "### Calculate the average velocities for the separate sections of the car's motion!"
      ],
      "metadata": {
        "id": "uTWEWEntTgnk"
      }
    },
    {
      "cell_type": "markdown",
      "source": [
        "Step-by-step displacement over elapsed time data is needed"
      ],
      "metadata": {
        "id": "gSEAJ3uNVD58"
      }
    },
    {
      "cell_type": "code",
      "source": [
        "# Fisrt we need displacements data for all sections\n",
        "# And we need to devide it with the elapsed time\n",
        "\n",
        "average_v_tab = [0.0] * (N-1)    # initalize list\n",
        "\n",
        "for i in range(0, N-1):        # fill in with data for 0,1,2... range\n",
        "    average_v_tab[i] = (x_tab[i+1]-x_tab[i]) * 1000 / ((t_tab[i+1] - t_tab[i]) *60)\n",
        "\n",
        "print(\"velocities in m/s\" , average_v_tab )"
      ],
      "metadata": {
        "colab": {
          "base_uri": "https://localhost:8080/"
        },
        "id": "Oc2tV3IfTj86",
        "outputId": "f9df336b-3ada-4b53-888c-5b753617bba5"
      },
      "execution_count": 31,
      "outputs": [
        {
          "output_type": "stream",
          "name": "stdout",
          "text": [
            "velocities in m/s [19.444444444444443, 14.583333333333334]\n"
          ]
        }
      ]
    },
    {
      "cell_type": "markdown",
      "source": [
        "### Make a graph of position versus time."
      ],
      "metadata": {
        "id": "nTUz1NojVzv8"
      }
    },
    {
      "cell_type": "code",
      "source": [
        "# Import the graphical library + magic code for inline graphics\n",
        "import matplotlib.pyplot as plt\n",
        "%matplotlib inline"
      ],
      "metadata": {
        "id": "onXrZM6-V1I6"
      },
      "execution_count": 33,
      "outputs": []
    },
    {
      "cell_type": "code",
      "source": [
        "# now the plot\n",
        "fig = plt.plot(figsize=(10,5))   # size: 10 by 5 (inches)\n",
        "plt.grid(True)         # draw a grid\n",
        "plt.xlabel(\"t [min]\")  # horizontal axis title\n",
        "plt.ylabel(\"x [km]\")   # vertical axis title\n",
        "plt.plot(t_tab, x_tab)   # plot the function, lines between points\n",
        "plt.scatter(t_tab,x_tab, color=\"red\")   # plot the points with red\n",
        "\n",
        "# If you want to save the graph to an image file, uncomment next line. (delete the # sign)\n",
        "plt.savefig(\"Problem_Ch3_25.png\")\n",
        "\n",
        "plt.show()"
      ],
      "metadata": {
        "colab": {
          "base_uri": "https://localhost:8080/",
          "height": 449
        },
        "id": "bj03ONYaV5HX",
        "outputId": "a0c63e9a-9daa-460b-cfa5-a8e0a644dd9c"
      },
      "execution_count": 34,
      "outputs": [
        {
          "output_type": "display_data",
          "data": {
            "text/plain": [
              "<Figure size 640x480 with 1 Axes>"
            ],
            "image/png": "[encoded data removed]"
          },
          "metadata": {}
        }
      ]
    },
    {
      "cell_type": "markdown",
      "source": [
        "## Problem 3/28 extended\n",
        "Two cyclist ride 8.0 km east for 20 minutes, then they turn and head west for 8 minutes and 3.2 km. Finally, they ride east for 16 km, which takes 40 minutes.\n",
        "\n",
        "- Collect the position time data in a table!\n",
        "- Calculate the total displacement!\n",
        "- What is the average velocity during the entire trip?\n",
        "- What is the total distance traveled?\n",
        "- Calculate the average velocities for the separate sections of the cyclers motion!\n",
        "- Make a graph of position versus time."
      ],
      "metadata": {
        "id": "teJYtr3jagdU"
      }
    },
    {
      "cell_type": "markdown",
      "source": [
        "### Collect the position time data in a table!"
      ],
      "metadata": {
        "id": "GfKwg7KTlZGI"
      }
    },
    {
      "cell_type": "code",
      "source": [
        "# We have displacemenets data (dx) and elapsed time (dt) given!"
      ],
      "metadata": {
        "id": "nhmfN96DnfO2"
      },
      "execution_count": null,
      "outputs": []
    },
    {
      "cell_type": "code",
      "source": [
        "# Positions:\n",
        "8, 8-3.2, 8-3.2+16"
      ],
      "metadata": {
        "colab": {
          "base_uri": "https://localhost:8080/"
        },
        "id": "gSf9TD2FmnA-",
        "outputId": "1d69b70e-38cf-4aa4-ff3c-45e4158e0807"
      },
      "execution_count": 38,
      "outputs": [
        {
          "output_type": "execute_result",
          "data": {
            "text/plain": [
              "(8, 4.8, 20.8)"
            ]
          },
          "metadata": {},
          "execution_count": 38
        }
      ]
    },
    {
      "cell_type": "code",
      "source": [
        "# Time:\n",
        "20, 20+8, 20+8+40"
      ],
      "metadata": {
        "colab": {
          "base_uri": "https://localhost:8080/"
        },
        "id": "XhqLAtsbm1bU",
        "outputId": "96c62daf-8105-4459-cd60-9b2a438be59e"
      },
      "execution_count": 39,
      "outputs": [
        {
          "output_type": "execute_result",
          "data": {
            "text/plain": [
              "(20, 28, 68)"
            ]
          },
          "metadata": {},
          "execution_count": 39
        }
      ]
    },
    {
      "cell_type": "code",
      "source": [
        "## Using lists - collection of input data\n",
        "# We choose coordinate system to the east origin at start\n",
        "x_tab = [0, 8, 4.8 , 20.8]     # position data (km)\n",
        "t_tab = [0, 20, 28, 68]     # time data (minute)"
      ],
      "metadata": {
        "id": "-O3EeEfKlZGJ"
      },
      "execution_count": 40,
      "outputs": []
    },
    {
      "cell_type": "markdown",
      "source": [
        "Note that first position data is negative, while it is to the west from the origin, and coordinate system points to the east."
      ],
      "metadata": {
        "id": "mArw2zgFlZGJ"
      }
    },
    {
      "cell_type": "markdown",
      "source": [
        "### Calculate the total displacement!"
      ],
      "metadata": {
        "id": "1tvRWjwulZGK"
      }
    },
    {
      "cell_type": "code",
      "source": [
        "# Total displacement: final position - initial position\n",
        "delta_x_total = x_tab[-1] - x_tab[0]       # km\n",
        "print(\"Total displacement (km) by definition:\", delta_x_total)"
      ],
      "metadata": {
        "colab": {
          "base_uri": "https://localhost:8080/"
        },
        "outputId": "5d082883-0d3d-4fe7-80e5-c77e76d32629",
        "id": "5cET0rxHlZGK"
      },
      "execution_count": 41,
      "outputs": [
        {
          "output_type": "stream",
          "name": "stdout",
          "text": [
            "Total displacement (km) by definition: 20.8\n"
          ]
        }
      ]
    },
    {
      "cell_type": "markdown",
      "source": [
        "### What is the average velocity during the entire trip?\n"
      ],
      "metadata": {
        "id": "Pfv5nIwxlZGL"
      }
    },
    {
      "cell_type": "code",
      "source": [
        "# Unit conversion !!!\n",
        "time_total  = t_tab[-1]-t_tab[0]    # minutes\n",
        "\n",
        "average_v_total = (delta_x_total *1000) / (time_total * 60)\n",
        "print(\"Average velocity for total motion (m/s):\", average_v_total)\n",
        "print(\"Which is: \", round(average_v_total *3.6, 3), 'km/h')"
      ],
      "metadata": {
        "colab": {
          "base_uri": "https://localhost:8080/"
        },
        "outputId": "f5b206e6-b873-4069-cc00-7361460ab6fd",
        "id": "kB3BhiWFlZGL"
      },
      "execution_count": 42,
      "outputs": [
        {
          "output_type": "stream",
          "name": "stdout",
          "text": [
            "Average velocity for total motion (m/s): 5.098039215686274\n",
            "Which is:  18.353 km/h\n"
          ]
        }
      ]
    },
    {
      "cell_type": "markdown",
      "source": [
        "### What is the total distance traveled?\n"
      ],
      "metadata": {
        "id": "MjF9UdvylZGM"
      }
    },
    {
      "cell_type": "markdown",
      "source": [
        "Step-by-step displacement's absolute value is needed\n"
      ],
      "metadata": {
        "id": "-yrln1OwlZGM"
      }
    },
    {
      "cell_type": "code",
      "source": [
        "# Calculating displacements step-by-step:\n",
        "\n",
        "total_distance = 0.0    # variable to measure total distance (initially 0)\n",
        "\n",
        "N = len(x_tab)           # number of data\n",
        "for i in range(0, N-1):\n",
        "    total_distance += abs(x_tab[i+1]-x_tab[i]) #\n",
        "\n",
        "print(\"Total distance (km)\", total_distance)"
      ],
      "metadata": {
        "colab": {
          "base_uri": "https://localhost:8080/"
        },
        "outputId": "a0f854d7-65d0-4d68-d2a6-939603406317",
        "id": "V4sIMUPrlZGM"
      },
      "execution_count": 44,
      "outputs": [
        {
          "output_type": "stream",
          "name": "stdout",
          "text": [
            "Total distance (km) 27.2\n"
          ]
        }
      ]
    },
    {
      "cell_type": "markdown",
      "source": [
        "Or use the right function from kinematics.py!\n",
        "\n"
      ],
      "metadata": {
        "id": "J3fCoSzLlZGN"
      }
    },
    {
      "cell_type": "code",
      "source": [
        "# download and import\n",
        "!wget https://github.com/zoldbirka/colab-eng-phys/raw/refs/heads/main/kinematics.py\n",
        "\n",
        "from kinematics import*"
      ],
      "metadata": {
        "colab": {
          "base_uri": "https://localhost:8080/"
        },
        "outputId": "f442feea-b7a9-4b30-e742-7a9dfc940849",
        "id": "PCUlRsnslZGN"
      },
      "execution_count": 45,
      "outputs": [
        {
          "output_type": "stream",
          "name": "stdout",
          "text": [
            "--2024-10-30 13:30:05--  https://github.com/zoldbirka/colab-eng-phys/raw/refs/heads/main/kinematics.py\n",
            "Resolving github.com (github.com)... 140.82.112.3\n",
            "Connecting to github.com (github.com)|140.82.112.3|:443... connected.\n",
            "HTTP request sent, awaiting response... 302 Found\n",
            "Location: https://raw.githubusercontent.com/zoldbirka/colab-eng-phys/refs/heads/main/kinematics.py [following]\n",
            "--2024-10-30 13:30:06--  https://raw.githubusercontent.com/zoldbirka/colab-eng-phys/refs/heads/main/kinematics.py\n",
            "Resolving raw.githubusercontent.com (raw.githubusercontent.com)... 185.199.108.133, 185.199.109.133, 185.199.110.133, ...\n",
            "Connecting to raw.githubusercontent.com (raw.githubusercontent.com)|185.199.108.133|:443... connected.\n",
            "HTTP request sent, awaiting response... 200 OK\n",
            "Length: 7350 (7.2K) [text/plain]\n",
            "Saving to: ‘kinematics.py.2’\n",
            "\n",
            "kinematics.py.2     100%[===================>]   7.18K  --.-KB/s    in 0s      \n",
            "\n",
            "2024-10-30 13:30:06 (55.5 MB/s) - ‘kinematics.py.2’ saved [7350/7350]\n",
            "\n"
          ]
        }
      ]
    },
    {
      "cell_type": "code",
      "source": [
        "# apply calc_distance_covered_1D() function from kinematics\n",
        "disp_tab = calc_distance_covered_1D(x_tab)\n",
        "print(\"Total distance (km)\", disp_tab[-1])"
      ],
      "metadata": {
        "colab": {
          "base_uri": "https://localhost:8080/"
        },
        "outputId": "0cb9d855-2099-4d9e-f381-d6a10a85d02b",
        "id": "olmbdBg8lZGO"
      },
      "execution_count": 46,
      "outputs": [
        {
          "output_type": "stream",
          "name": "stdout",
          "text": [
            "Total distance (km) 27.2\n"
          ]
        }
      ]
    },
    {
      "cell_type": "markdown",
      "source": [
        "### Calculate the average velocities for the separate sections of the car's motion!"
      ],
      "metadata": {
        "id": "PNvLNh8NlZGO"
      }
    },
    {
      "cell_type": "markdown",
      "source": [
        "Step-by-step displacement over elapsed time data is needed"
      ],
      "metadata": {
        "id": "wOfml7zHlZGO"
      }
    },
    {
      "cell_type": "code",
      "source": [
        "# Fisrt we need displacements data for all sections\n",
        "# And we need to devide it with the elapsed time\n",
        "\n",
        "average_v_tab = [0.0] * (N-1)    # initalize list\n",
        "\n",
        "for i in range(0, N-1):        # fill in with data for 0,1,2... range\n",
        "    average_v_tab[i] = (x_tab[i+1]-x_tab[i]) * 1000 / ((t_tab[i+1] - t_tab[i]) *60)\n",
        "\n",
        "print(\"velocities in m/s\" , average_v_tab )"
      ],
      "metadata": {
        "colab": {
          "base_uri": "https://localhost:8080/"
        },
        "outputId": "5483bea2-af17-4ae4-c43a-18d01d6f30e9",
        "id": "b6z5C0JHlZGP"
      },
      "execution_count": 47,
      "outputs": [
        {
          "output_type": "stream",
          "name": "stdout",
          "text": [
            "velocities in m/s [6.666666666666667, -6.666666666666667, 6.666666666666667]\n"
          ]
        }
      ]
    },
    {
      "cell_type": "markdown",
      "source": [
        "### Make a graph of position versus time."
      ],
      "metadata": {
        "id": "ut_MtkkvlZGP"
      }
    },
    {
      "cell_type": "code",
      "source": [
        "# Import the graphical library + magic code for inline graphics\n",
        "import matplotlib.pyplot as plt\n",
        "%matplotlib inline"
      ],
      "metadata": {
        "id": "OpG-QfEtlZGP"
      },
      "execution_count": 48,
      "outputs": []
    },
    {
      "cell_type": "code",
      "source": [
        "# now the plot\n",
        "fig = plt.plot(figsize=(10,5))   # size: 10 by 5 (inches)\n",
        "plt.grid(True)         # draw a grid\n",
        "plt.xlabel(\"t [min]\")  # horizontal axis title\n",
        "plt.ylabel(\"x [km]\")   # vertical axis title\n",
        "plt.plot(t_tab, x_tab)   # plot the function, lines between points\n",
        "plt.scatter(t_tab,x_tab, color=\"red\")   # plot the points with red\n",
        "\n",
        "# If you want to save the graph to an image file, uncomment next line. (delete the # sign)\n",
        "plt.savefig(\"Problem_Ch3_28.png\")\n",
        "\n",
        "plt.show()"
      ],
      "metadata": {
        "colab": {
          "base_uri": "https://localhost:8080/",
          "height": 449
        },
        "outputId": "31de7f9c-28c4-4fe1-a8c8-2fd87fed83c1",
        "id": "715IcaMVlZGQ"
      },
      "execution_count": 50,
      "outputs": [
        {
          "output_type": "display_data",
          "data": {
            "text/plain": [
              "<Figure size 640x480 with 1 Axes>"
            ],
            "image/png": "[encoded data removed]"
          },
          "metadata": {}
        }
      ]
    },
    {
      "cell_type": "code",
      "source": [],
      "metadata": {
        "id": "S0E19CxlnzYl"
      },
      "execution_count": null,
      "outputs": []
    }
  ]
}