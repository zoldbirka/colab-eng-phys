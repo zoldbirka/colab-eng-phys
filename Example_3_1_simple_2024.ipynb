{
  "nbformat": 4,
  "nbformat_minor": 0,
  "metadata": {
    "colab": {
      "provenance": [],
      "collapsed_sections": [
        "0BSFwMpK1nU7",
        "zCPfz-Pv6th6"
      ],
      "authorship_tag": "ABX9TyM6I7O1VogH5rTuT99Vkm1M",
      "include_colab_link": true
    },
    "kernelspec": {
      "name": "python3",
      "display_name": "Python 3"
    },
    "language_info": {
      "name": "python"
    }
  },
  "cells": [
    {
      "cell_type": "markdown",
      "metadata": {
        "id": "view-in-github",
        "colab_type": "text"
      },
      "source": [
        "<a href=\"https://colab.research.google.com/github/zoldbirka/colab-eng-phys/blob/main/Example_3_1_simple_2024.ipynb\" target=\"_parent\"><img src=\"https://colab.research.google.com/assets/colab-badge.svg\" alt=\"Open In Colab\"/></a>"
      ]
    },
    {
      "cell_type": "markdown",
      "source": [
        "## Example 3.1 - Delivering Flyers\n",
        "Jill sets out from her home to deliver flyers for her yard sale, traveling due east along her street lined with houses. At  0.5\n",
        "  km and 9 minutes later she runs out of flyers and has to retrace her steps back to her house to get more. This takes an additional 9 minutes. After picking up more flyers, she sets out again on the same path, continuing where she left off, and ends up 1.0 km from her house. This third leg of her trip takes  15\n",
        "  minutes. At this point she turns back toward her house, heading west. After  1.75\n",
        "  km and  25\n",
        "  minutes she stops to rest.\n",
        "\n",
        "- What is Jill’s total displacement to the point where she stops to rest?\n",
        "- What is the magnitude of the final displacement?\n",
        "- What is the average velocity during her entire trip?\n",
        "- What is the total distance traveled?\n",
        "- Make a graph of position versus time."
      ],
      "metadata": {
        "id": "uQm4wjivYrMz"
      }
    },
    {
      "cell_type": "markdown",
      "source": [
        "### Comment:"
      ],
      "metadata": {
        "id": "0BSFwMpK1nU7"
      }
    },
    {
      "cell_type": "markdown",
      "source": [
        "This cell and the above one are text (markdown) cells.\n",
        "\n",
        "Two modes:\n",
        "1. editing: Click in the cell, or in navigate mode push ```Enter``` when you are on the cell\n",
        "2. navigating between cells: ```up``` and ```down``` arrow. ```Esc``` gets you from editing mode to navigate mode   \n",
        "\n",
        "Useful shortcuts in navigate mode here in Colab (See others at Tools menu):\n",
        "- Ctrl + M A  insert code cell above\n",
        "- Ctrl + M B  insert code cell below\n",
        "- Ctrl + M M  convert code cell to text\n",
        "- Ctrl + M Y  convert text cell to code\n",
        "- Ctrl + M D  delete cell"
      ],
      "metadata": {
        "id": "GqoYseax61EU"
      }
    },
    {
      "cell_type": "markdown",
      "source": [
        "### Position data and displacements"
      ],
      "metadata": {
        "id": "zCPfz-Pv6th6"
      }
    },
    {
      "cell_type": "code",
      "source": [
        "# position (km) and time (minutes) data\n",
        "x0 = 0\n",
        "t0 = 0\n",
        "x1 = 0.5\n",
        "t1 = 9\n",
        "x2 = 0\n",
        "t2 = 18\n",
        "x3 = 1\n",
        "t3 = 33\n",
        "x4 = -0.75\n",
        "t4 = 58"
      ],
      "metadata": {
        "id": "ElDJ9aGkZPpF"
      },
      "execution_count": 5,
      "outputs": []
    },
    {
      "cell_type": "code",
      "source": [
        "# total dispalcement:\n",
        "delta_x = x4 - x0\n",
        "print (\"Total displacement (km):\" ,delta_x)"
      ],
      "metadata": {
        "colab": {
          "base_uri": "https://localhost:8080/"
        },
        "id": "GTm66FyUZtyF",
        "outputId": "7e7db957-14b7-44d6-f5f7-21232aec9211"
      },
      "execution_count": 6,
      "outputs": [
        {
          "output_type": "stream",
          "name": "stdout",
          "text": [
            "Total displacement (km): -0.75\n"
          ]
        }
      ]
    },
    {
      "cell_type": "code",
      "source": [
        "# Note: in a notebook \"last value\" is automatically printed\n",
        "delta_x"
      ],
      "metadata": {
        "colab": {
          "base_uri": "https://localhost:8080/"
        },
        "id": "PH2DbOuLbA3Z",
        "outputId": "c10e9e53-0121-4dcf-85de-c9ef8ccfeb3a"
      },
      "execution_count": 7,
      "outputs": [
        {
          "output_type": "execute_result",
          "data": {
            "text/plain": [
              "-0.75"
            ]
          },
          "metadata": {},
          "execution_count": 7
        }
      ]
    },
    {
      "cell_type": "code",
      "source": [
        "# Dispalcements for the sections of motion (km):\n",
        "delta_x1 = x1 -x0\n",
        "delta_x2 = x2 - x1\n",
        "delta_x3 = x3 - x2\n",
        "delta_x4 = x4 - x3\n",
        "\n",
        "print (\"Displacements (km):\" ,delta_x1, delta_x2, delta_x3, delta_x4)"
      ],
      "metadata": {
        "colab": {
          "base_uri": "https://localhost:8080/"
        },
        "id": "ZDU_14MvbIbR",
        "outputId": "8344b5ab-5ea7-4f0a-e94a-4bc1777895bf"
      },
      "execution_count": 8,
      "outputs": [
        {
          "output_type": "stream",
          "name": "stdout",
          "text": [
            "Displacements (km): 0.5 -0.5 1 -1.75\n"
          ]
        }
      ]
    },
    {
      "cell_type": "code",
      "source": [
        "# Checking total displacement as sum:\n",
        "delta_x1 + delta_x2 + delta_x3 +delta_x4"
      ],
      "metadata": {
        "colab": {
          "base_uri": "https://localhost:8080/"
        },
        "id": "m7xKaIEPcS0K",
        "outputId": "2746f542-964d-4714-e1ac-8eda9da12aed"
      },
      "execution_count": 9,
      "outputs": [
        {
          "output_type": "execute_result",
          "data": {
            "text/plain": [
              "-0.75"
            ]
          },
          "metadata": {},
          "execution_count": 9
        }
      ]
    },
    {
      "cell_type": "code",
      "source": [
        "# total distance covered:\n",
        "# Note: usage of built in function for absolute value\n",
        "x_total = abs(delta_x1) + abs(delta_x2) + abs(delta_x3) + abs(delta_x4)\n",
        "print( 'Total distance (km):', x_total  )"
      ],
      "metadata": {
        "colab": {
          "base_uri": "https://localhost:8080/"
        },
        "id": "b1xnttZLcufd",
        "outputId": "16a6c03b-b883-4623-9967-bf03cb58ef09"
      },
      "execution_count": 13,
      "outputs": [
        {
          "output_type": "stream",
          "name": "stdout",
          "text": [
            "Total distance (km): 3.75\n"
          ]
        }
      ]
    },
    {
      "cell_type": "markdown",
      "source": [
        "### Average velocity calculation"
      ],
      "metadata": {
        "id": "QAT0QSfNdnF4"
      }
    },
    {
      "cell_type": "code",
      "source": [
        "# average velocity for sections of the motion (m/s)\n",
        "# Note: order of operations! '*' versus '/'\n",
        "\n",
        "v_1 = (delta_x1 * 1000) / ((t1 - t0) * 60 )\n",
        "v_2 = (delta_x2 * 1000) / ((t2 - t1) * 60 )\n",
        "v_3 = (delta_x3 * 1000) / ((t3 - t2) * 60 )\n",
        "v_4 = (delta_x4 * 1000) / ((t4 - t3) * 60 )\n",
        "\n",
        "print(\"Average velocities (m/s):\", v_1, v_2, v_3, v_4 )"
      ],
      "metadata": {
        "colab": {
          "base_uri": "https://localhost:8080/"
        },
        "id": "yUhmYAqLd31l",
        "outputId": "d474042d-64a8-4548-cefa-ae7c858b4075"
      },
      "execution_count": 26,
      "outputs": [
        {
          "output_type": "stream",
          "name": "stdout",
          "text": [
            "Average velocities (m/s): 0.9259259259259259 -0.9259259259259259 1.1111111111111112 -1.1666666666666667\n"
          ]
        }
      ]
    },
    {
      "cell_type": "code",
      "source": [
        "# Note: built-in function to round values:\n",
        "round(v_1, 3)"
      ],
      "metadata": {
        "colab": {
          "base_uri": "https://localhost:8080/"
        },
        "id": "bvXUQhFu8W3l",
        "outputId": "d1703d0f-e2b5-4c20-e04c-f39cb82d2b14"
      },
      "execution_count": 15,
      "outputs": [
        {
          "output_type": "execute_result",
          "data": {
            "text/plain": [
              "0.926"
            ]
          },
          "metadata": {},
          "execution_count": 15
        }
      ]
    },
    {
      "cell_type": "code",
      "source": [
        "# Average velocity for total motion\n",
        "v_total = (delta_x * 1000) / ((t4 - t0) * 60 )\n",
        "print(v_total)"
      ],
      "metadata": {
        "colab": {
          "base_uri": "https://localhost:8080/"
        },
        "id": "jiQVWoz3fmGy",
        "outputId": "68540338-3f2d-47fd-ad91-53b124d8ce52"
      },
      "execution_count": 16,
      "outputs": [
        {
          "output_type": "stream",
          "name": "stdout",
          "text": [
            "-0.21551724137931033\n"
          ]
        }
      ]
    },
    {
      "cell_type": "markdown",
      "source": [
        "### Position time plot"
      ],
      "metadata": {
        "id": "p9xF06Rt98D7"
      }
    },
    {
      "cell_type": "code",
      "source": [
        "# Import the graphical library + magic code for inline graphics\n",
        "import matplotlib.pyplot as plt\n",
        "%matplotlib inline"
      ],
      "metadata": {
        "id": "0kS_9JddgXtK"
      },
      "execution_count": 22,
      "outputs": []
    },
    {
      "cell_type": "code",
      "source": [
        "# now the plot\n",
        "fig = plt.plot(figsize=(10,5))   # size: 10 by 5 (inches)\n",
        "plt.grid(True)         # draw a grid\n",
        "plt.xlabel(\"t [min]\")  # horizontal axis title\n",
        "plt.ylabel(\"x [km]\")   # vertical axis title\n",
        "plt.plot([t0,t1,t2,t3,t4],[x0,x1,x2,x3,x4])   # plot the function, lines between points\n",
        "plt.scatter([t0,t1,t2,t3,t4],[x0,x1,x2,x3,x4], color=\"red\")   # plot the points with red\n",
        "\n",
        "# If you want to save the graph to an image file, uncomment next line. (delete the # sign)\n",
        "plt.savefig(\"Example3.1-xt.png\")\n",
        "\n",
        "plt.show()"
      ],
      "metadata": {
        "colab": {
          "base_uri": "https://localhost:8080/",
          "height": 449
        },
        "id": "G5VaQ48uiDqQ",
        "outputId": "c8df83ad-5e69-4c75-b64c-2af7d11eee73"
      },
      "execution_count": 25,
      "outputs": [
        {
          "output_type": "display_data",
          "data": {
            "text/plain": [
              "<Figure size 640x480 with 1 Axes>"
            ],
            "image/png": "[encoded data removed]"
          },
          "metadata": {}
        }
      ]
    },
    {
      "cell_type": "markdown",
      "source": [
        "### More efficient to store data in lists"
      ],
      "metadata": {
        "id": "Y0S5XxK4_jbK"
      }
    },
    {
      "cell_type": "code",
      "source": [
        "## Using lists - collection of data\n",
        "x_tab = [0, 0.5, 0, 1, -0.75]\n",
        "t_tab = [0, 9, 18, 33, 58]"
      ],
      "metadata": {
        "id": "EQeCdgTOicBb"
      },
      "execution_count": null,
      "outputs": []
    },
    {
      "cell_type": "code",
      "source": [
        "# values of elements: indexing starts from 0!!!\n",
        "x_tab[0], x_tab[4]"
      ],
      "metadata": {
        "colab": {
          "base_uri": "https://localhost:8080/"
        },
        "id": "2VY3x-V3jQtQ",
        "outputId": "5f4ba012-a2e9-401e-eee2-d85bc4de1515"
      },
      "execution_count": null,
      "outputs": [
        {
          "output_type": "execute_result",
          "data": {
            "text/plain": [
              "(0, -0.75)"
            ]
          },
          "metadata": {},
          "execution_count": 21
        }
      ]
    },
    {
      "cell_type": "code",
      "source": [
        "# number of elements - 'length'\n",
        "len(x_tab)"
      ],
      "metadata": {
        "colab": {
          "base_uri": "https://localhost:8080/"
        },
        "id": "hCXCLfbuje9u",
        "outputId": "00f840a1-d54e-43b4-b38d-9277bf30ecc3"
      },
      "execution_count": null,
      "outputs": [
        {
          "output_type": "execute_result",
          "data": {
            "text/plain": [
              "5"
            ]
          },
          "metadata": {},
          "execution_count": 22
        }
      ]
    },
    {
      "cell_type": "code",
      "source": [
        "# negative index has meaning (-1 index is for the last element)\n",
        "x_tab[-1]"
      ],
      "metadata": {
        "colab": {
          "base_uri": "https://localhost:8080/"
        },
        "id": "xe8vETfJjo6r",
        "outputId": "7e773f1e-5dbc-4e7b-8fb1-f9a2e349f76a"
      },
      "execution_count": null,
      "outputs": [
        {
          "output_type": "execute_result",
          "data": {
            "text/plain": [
              "-0.75"
            ]
          },
          "metadata": {},
          "execution_count": 23
        }
      ]
    }
  ]
}