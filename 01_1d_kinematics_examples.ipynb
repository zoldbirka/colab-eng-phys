{
 "cells": [
  {
   "cell_type": "code",
   "execution_count": null,
   "id": "0f196bcf",
   "metadata": {},
   "outputs": [],
   "source": [
    "!wget https://github.com/zoldbirka/colab-eng-phys/raw/refs/heads/main/kinematics.py\n",
    "# Make sure kinematics.py is downloaded and copied next to this file!"
   ]
  },
  {
   "cell_type": "code",
   "execution_count": 3,
   "id": "2eed3c86",
   "metadata": {},
   "outputs": [],
   "source": [
    "# importing modules\n",
    "import math   # math functions\n",
    "import matplotlib.pyplot as plt  # graph plot\n",
    "%matplotlib inline   \n",
    "\n",
    "## Solution with pre written 'kinematics.py'\n",
    "from kinematics import*"
   ]
  },
  {
   "cell_type": "markdown",
   "id": "3db49ef8",
   "metadata": {},
   "source": [
    "# How to use Python for solving a textbook problem? "
   ]
  },
  {
   "cell_type": "markdown",
   "id": "9647bdeb",
   "metadata": {},
   "source": [
    "## Example 3.16 from the \"University Physics\" textbook"
   ]
  },
  {
   "cell_type": "markdown",
   "id": "eaa8286e",
   "metadata": {},
   "source": [
    "**Rocket Booster**\n",
    "\n",
    "A small rocket with a booster blasts off and heads straight upward. When at a height of  5.0km and velocity of 200.0 m/s, it releases its booster. \n",
    "\n",
    "[a.] What is the maximum height the booster attains?\n",
    "\n",
    "[b.] What is the velocity of the booster at a height of 6.0 km? Neglect air resistance."
   ]
  },
  {
   "cell_type": "code",
   "execution_count": 14,
   "id": "9cb6b655",
   "metadata": {},
   "outputs": [],
   "source": [
    "# position -time function\n",
    "\n",
    "def xt(t):\n",
    "    x0 = 5000.    # m\n",
    "    v0 = 200.0     # m/s \n",
    "    g = 9.81       # m/s^2\n",
    "    return x0 + v0 * t - g/2 * t**2 \n"
   ]
  },
  {
   "cell_type": "code",
   "execution_count": 15,
   "id": "e290a310",
   "metadata": {},
   "outputs": [
    {
     "name": "stdout",
     "output_type": "stream",
     "text": [
      "[59.82, 59.83, 59.84, 59.85, 59.86, 59.870000000000005, 59.88, 59.89, 59.9, 59.910000000000004, 59.92, 59.93, 59.94, 59.95, 59.96, 59.97, 59.980000000000004, 59.99, 60.0, 60.01]\n"
     ]
    }
   ],
   "source": [
    "# create time data\n",
    "t_tab = fill_list_series(0.0, 60.0, 0.01 )\n",
    "print(t_tab[-20:])"
   ]
  },
  {
   "cell_type": "code",
   "execution_count": 16,
   "id": "31d45776",
   "metadata": {},
   "outputs": [
    {
     "name": "stdout",
     "output_type": "stream",
     "text": [
      "[5000.0, 5001.9995095, 5003.998038, 5005.9955855, 5007.992152, 5009.9877375, 5011.982342, 5013.9759655, 5015.968608, 5017.9602695]\n"
     ]
    }
   ],
   "source": [
    "# create position data\n",
    "x_tab = calc_func_list(t_tab, xt)\n",
    "print(x_tab[:10])"
   ]
  },
  {
   "cell_type": "code",
   "execution_count": 17,
   "id": "d1a7b555",
   "metadata": {},
   "outputs": [
    {
     "name": "stdout",
     "output_type": "stream",
     "text": [
      "[200.00000000009095, 199.9018999999862, 199.80379999997243, 199.70570000000407, 199.60759999999024, 199.50950000002197, 199.41140000000811, 199.3132999999943, 199.21520000002613, 199.1171000000122]\n",
      "[-9.810000015023945, -9.810000005926156, -9.809999999106369, -9.809999999109209, -9.809999999104944, -9.809999999106369, -9.810000001382944, -9.80999999909926, -9.809999999106372, -9.810000001387207]\n"
     ]
    }
   ],
   "source": [
    "# create velocity data\n",
    "v_tab = deriv(t_tab, x_tab)\n",
    "print(v_tab[:10])\n",
    "\n",
    "# create acceleration data\n",
    "a_tab = deriv(t_tab, v_tab)\n",
    "print(a_tab[:10])\n"
   ]
  },
  {
   "cell_type": "markdown",
   "id": "972001c3",
   "metadata": {},
   "source": [
    "### (a) What is the maximum height the booster attains?"
   ]
  },
  {
   "cell_type": "code",
   "execution_count": 18,
   "id": "a738114a",
   "metadata": {},
   "outputs": [
    {
     "name": "stdout",
     "output_type": "stream",
     "text": [
      "This is the max. position in meters: 7038.7359495\n",
      "This is the max. position is 7038.74 meters.\n",
      "This is the max. position is  7038.74 meters.\n"
     ]
    }
   ],
   "source": [
    "# find maximum value in a list \n",
    "x_max = max(x_tab)\n",
    "print('This is the max. position in meters:' ,      x_max)\n",
    "print(f'This is the max. position is {x_max:0.2f} meters.')\n",
    "print('This is the max. position is  %0.2f meters.' %(x_max) )\n"
   ]
  },
  {
   "cell_type": "markdown",
   "id": "ba8e0a35",
   "metadata": {},
   "source": [
    "### (a) Mod - When does the booster reach maximum height?"
   ]
  },
  {
   "cell_type": "code",
   "execution_count": 19,
   "id": "ab106c4e",
   "metadata": {},
   "outputs": [
    {
     "name": "stdout",
     "output_type": "stream",
     "text": [
      "We reach max. position at 20.39 seconds\n"
     ]
    }
   ],
   "source": [
    "max_index = x_tab.index(x_max)\n",
    "print(\"We reach max. position at %0.2f seconds\"%(t_tab[max_index]))"
   ]
  },
  {
   "cell_type": "code",
   "execution_count": 20,
   "id": "d56e0bec",
   "metadata": {},
   "outputs": [
    {
     "name": "stdout",
     "output_type": "stream",
     "text": [
      "Velocity at max. position -0.025900 m/s\n"
     ]
    }
   ],
   "source": [
    "print('Velocity at max. position %f m/s'%(v_tab[max_index]))"
   ]
  },
  {
   "cell_type": "markdown",
   "id": "888e8879",
   "metadata": {},
   "source": [
    "### (b) What is the velocity of the booster at a height of 6.0 km?"
   ]
  },
  {
   "cell_type": "code",
   "execution_count": 21,
   "id": "e7aefb33",
   "metadata": {},
   "outputs": [
    {
     "name": "stdout",
     "output_type": "stream",
     "text": [
      "Velocity at 6000.0 meters first time: 142.81 m/s\n",
      "Velocity at 6000.0 meters second time: -142.66 m/s\n"
     ]
    }
   ],
   "source": [
    "# search index of given position\n",
    "x1 = 6000.0\n",
    "idx1_1, idx1_2 =  find_index(x_tab, x1)\n",
    "\n",
    "print(\"Velocity at %0.1f meters first time: %0.2f m/s\"%(x1, v_tab[idx1_1 ])  )\n",
    "print(\"Velocity at %0.1f meters second time: %0.2f m/s\"%(x1, v_tab[idx1_2 ])  )"
   ]
  },
  {
   "cell_type": "markdown",
   "id": "b8f879b2",
   "metadata": {},
   "source": [
    "### (c) How long does it take for the booster to fall on Earth? \n",
    "### (d) What is the booster's final velocity?"
   ]
  },
  {
   "cell_type": "code",
   "execution_count": 22,
   "id": "08b7efd2",
   "metadata": {},
   "outputs": [
    {
     "name": "stdout",
     "output_type": "stream",
     "text": [
      "Velocity finally: -371.53 m/s\n",
      "This is reached at: 58.26 s\n"
     ]
    }
   ],
   "source": [
    "idx_final = find_index(x_tab, 0.0)[0]\n",
    "print(\"Velocity finally: %0.2f m/s\"%(v_tab[ idx_final])  )\n",
    "print(\"This is reached at: %0.2f s\"%(t_tab[ idx_final])  )"
   ]
  },
  {
   "cell_type": "markdown",
   "id": "9979d2bb",
   "metadata": {},
   "source": [
    "## Problem 71./3. Chapter"
   ]
  },
  {
   "cell_type": "markdown",
   "id": "ca27b71b",
   "metadata": {},
   "source": [
    "**Diver's jump**\n",
    "\n",
    "A diver bounces straight up from a diving board, avoiding the diving board on the way down, and falls feet first into a pool. She starts with a velocity of 4.00 m/s and her takeoff point is 1.80 m above the pool. \n",
    "\n",
    "[a.] What is her highest point above the board?\n",
    "\n",
    "[b.] How long is her feet in the air?\n",
    "\n",
    "[c.] What is her velocity when her feet hit the water?"
   ]
  },
  {
   "cell_type": "code",
   "execution_count": 23,
   "id": "3749f478",
   "metadata": {},
   "outputs": [],
   "source": [
    "# position -time function\n",
    "\n",
    "def xt(t):\n",
    "    x0 = 1.8    # m\n",
    "    v0 = 4.0     # m/s \n",
    "    g = 9.81       # m/s^2\n",
    "    return x0 + v0 * t - g/2 * t**2 \n"
   ]
  },
  {
   "cell_type": "code",
   "execution_count": 24,
   "id": "2615cac5",
   "metadata": {},
   "outputs": [
    {
     "name": "stdout",
     "output_type": "stream",
     "text": [
      "[59.82, 59.83, 59.84, 59.85, 59.86, 59.870000000000005, 59.88, 59.89, 59.9, 59.910000000000004, 59.92, 59.93, 59.94, 59.95, 59.96, 59.97, 59.980000000000004, 59.99, 60.0, 60.01]\n"
     ]
    }
   ],
   "source": [
    "# create time data\n",
    "t_tab = fill_list_series(0.0, 60.0, 0.01 )\n",
    "print(t_tab[-20:])"
   ]
  },
  {
   "cell_type": "code",
   "execution_count": 25,
   "id": "aa497000",
   "metadata": {},
   "outputs": [
    {
     "name": "stdout",
     "output_type": "stream",
     "text": [
      "[1.8, 1.8395095000000001, 1.878038, 1.9155855, 1.9521519999999999, 1.9877375, 2.022342, 2.0559655, 2.0886080000000002, 2.1202695]\n"
     ]
    }
   ],
   "source": [
    "# create position data\n",
    "x_tab = calc_func_list(t_tab, xt)\n",
    "print(x_tab[:10])"
   ]
  },
  {
   "cell_type": "code",
   "execution_count": 26,
   "id": "292f1669",
   "metadata": {},
   "outputs": [
    {
     "name": "stdout",
     "output_type": "stream",
     "text": [
      "[4.000000000000014, 3.9019000000000026, 3.803799999999991, 3.7056999999999896, 3.607599999999999, 3.5095000000000103, 3.4114000000000084, 3.3133000000000075, 3.2151999999999976, 3.1171000000000055]\n",
      "[-9.810000000001162, -9.810000000001162, -9.810000000000652, -9.809999999999608, -9.809999999998961, -9.80999999999952, -9.810000000000139, -9.810000000000539, -9.810000000000102, -9.809999999999095]\n"
     ]
    }
   ],
   "source": [
    "# create velocity data\n",
    "v_tab = deriv(t_tab, x_tab)\n",
    "print(v_tab[:10])\n",
    "\n",
    "# create acceleration data\n",
    "a_tab = deriv(t_tab, v_tab)\n",
    "print(a_tab[:10])"
   ]
  },
  {
   "cell_type": "markdown",
   "id": "f6f753d3",
   "metadata": {},
   "source": [
    "### (a) What is her highest point above the board?"
   ]
  },
  {
   "cell_type": "code",
   "execution_count": 27,
   "id": "f0d1412c",
   "metadata": {},
   "outputs": [
    {
     "name": "stdout",
     "output_type": "stream",
     "text": [
      "Her highest point is  2.62 meters above ground.\n",
      "Which is 0.82 meters above the board.\n"
     ]
    }
   ],
   "source": [
    "# find maximum value in a list \n",
    "x_max = max(x_tab)\n",
    "print('Her highest point is  %0.2f meters above ground.' %(x_max) )\n",
    "print('Which is %0.2f meters above the board.' %(x_max-1.8) )"
   ]
  },
  {
   "cell_type": "markdown",
   "id": "855e19f9",
   "metadata": {},
   "source": [
    "### (b) How long is her feet in the air?"
   ]
  },
  {
   "cell_type": "code",
   "execution_count": 28,
   "id": "857c256f",
   "metadata": {},
   "outputs": [
    {
     "name": "stdout",
     "output_type": "stream",
     "text": [
      "Her feet is in air for 1.13 seconds\n"
     ]
    }
   ],
   "source": [
    "idx_final = find_index(x_tab, 0.0)[0]\n",
    "print(\"Her feet is in air for %0.2f seconds\"%(t_tab[ idx_final])  )"
   ]
  },
  {
   "cell_type": "markdown",
   "id": "3bcbaffb",
   "metadata": {},
   "source": [
    "### (c) What is her velocity when her feet hit the water?"
   ]
  },
  {
   "cell_type": "code",
   "execution_count": 30,
   "id": "0e014829",
   "metadata": {},
   "outputs": [
    {
     "name": "stdout",
     "output_type": "stream",
     "text": [
      "Velocity finally: -7.09 m/s\n"
     ]
    }
   ],
   "source": [
    "print(\"Velocity finally: %0.2f m/s\"%(v_tab[ idx_final])  )"
   ]
  }
 ],
 "metadata": {
  "kernelspec": {
   "display_name": "pylatest",
   "language": "python",
   "name": "python3"
  },
  "language_info": {
   "codemirror_mode": {
    "name": "ipython",
    "version": 3
   },
   "file_extension": ".py",
   "mimetype": "text/x-python",
   "name": "python",
   "nbconvert_exporter": "python",
   "pygments_lexer": "ipython3",
   "version": "3.9.15"
  }
 },
 "nbformat": 4,
 "nbformat_minor": 5
}
