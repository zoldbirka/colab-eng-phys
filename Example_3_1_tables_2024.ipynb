{
  "nbformat": 4,
  "nbformat_minor": 0,
  "metadata": {
    "colab": {
      "provenance": [],
      "authorship_tag": "ABX9TyPOjOHgmCijuIQFND7IrTMx",
      "include_colab_link": true
    },
    "kernelspec": {
      "name": "python3",
      "display_name": "Python 3"
    },
    "language_info": {
      "name": "python"
    }
  },
  "cells": [
    {
      "cell_type": "markdown",
      "metadata": {
        "id": "view-in-github",
        "colab_type": "text"
      },
      "source": [
        "<a href=\"https://colab.research.google.com/github/zoldbirka/colab-eng-phys/blob/main/Example_3_1_tables_2024.ipynb\" target=\"_parent\"><img src=\"https://colab.research.google.com/assets/colab-badge.svg\" alt=\"Open In Colab\"/></a>"
      ]
    },
    {
      "cell_type": "markdown",
      "source": [
        "## Example 3.1 - Delivering Flyers\n",
        "Jill sets out from her home to deliver flyers for her yard sale, traveling due east along her street lined with houses. At  0.5\n",
        "  km and 9 minutes later she runs out of flyers and has to retrace her steps back to her house to get more. This takes an additional 9 minutes. After picking up more flyers, she sets out again on the same path, continuing where she left off, and ends up 1.0 km from her house. This third leg of her trip takes  15\n",
        "  minutes. At this point she turns back toward her house, heading west. After  1.75\n",
        "  km and  25\n",
        "  minutes she stops to rest.\n",
        "\n",
        "- What is Jill’s total displacement to the point where she stops to rest?\n",
        "- What is the magnitude of the final displacement?\n",
        "- What is the average velocity during her entire trip?\n",
        "- What is the total distance traveled?\n",
        "- Make a graph of position versus time."
      ],
      "metadata": {
        "id": "uQm4wjivYrMz"
      }
    },
    {
      "cell_type": "markdown",
      "source": [
        "### More efficient to store data in lists"
      ],
      "metadata": {
        "id": "Y0S5XxK4_jbK"
      }
    },
    {
      "cell_type": "code",
      "source": [
        "## Using lists - collection of data\n",
        "# Position (km) and time (min) data:\n",
        "x_tab = [0, 0.5, 0, 1, -0.75]\n",
        "t_tab = [0, 9,  18, 33, 58  ]"
      ],
      "metadata": {
        "id": "EQeCdgTOicBb"
      },
      "execution_count": 4,
      "outputs": []
    },
    {
      "cell_type": "code",
      "source": [
        "# values of elements: indexing starts from 0!!!\n",
        "print(x_tab[0], x_tab[4])"
      ],
      "metadata": {
        "colab": {
          "base_uri": "https://localhost:8080/"
        },
        "id": "2VY3x-V3jQtQ",
        "outputId": "194d0a20-3700-431c-a35b-af662f728779"
      },
      "execution_count": 5,
      "outputs": [
        {
          "output_type": "stream",
          "name": "stdout",
          "text": [
            "0 -0.75\n"
          ]
        }
      ]
    },
    {
      "cell_type": "code",
      "source": [
        "# number of elements - 'length'\n",
        "len(x_tab)"
      ],
      "metadata": {
        "colab": {
          "base_uri": "https://localhost:8080/"
        },
        "id": "hCXCLfbuje9u",
        "outputId": "79ffaf98-78b3-492e-8596-af2ef87cd605"
      },
      "execution_count": 6,
      "outputs": [
        {
          "output_type": "execute_result",
          "data": {
            "text/plain": [
              "5"
            ]
          },
          "metadata": {},
          "execution_count": 6
        }
      ]
    },
    {
      "cell_type": "code",
      "source": [
        "# negative index has meaning (-1 index is for the last element)\n",
        "x_tab[-1]"
      ],
      "metadata": {
        "colab": {
          "base_uri": "https://localhost:8080/"
        },
        "id": "xe8vETfJjo6r",
        "outputId": "d8058911-d970-4a30-cd96-2475946a37c6"
      },
      "execution_count": 7,
      "outputs": [
        {
          "output_type": "execute_result",
          "data": {
            "text/plain": [
              "-0.75"
            ]
          },
          "metadata": {},
          "execution_count": 7
        }
      ]
    },
    {
      "cell_type": "code",
      "source": [],
      "metadata": {
        "id": "0MR7NqYiBJJ4"
      },
      "execution_count": null,
      "outputs": []
    }
  ]
}