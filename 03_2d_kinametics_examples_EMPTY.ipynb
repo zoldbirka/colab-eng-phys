{
 "cells": [
  {
   "cell_type": "markdown",
   "metadata": {},
   "source": [
    "# Summary on available functions"
   ]
  },
  {
   "cell_type": "markdown",
   "metadata": {},
   "source": [
    "(Just for help)\n",
    "\n",
    "Mathematical functions:\n",
    "* deriv(xx_tab, ff_tab)\n",
    "* integral(xx_tab, ff_tab, F0=0.0)\n",
    "\n",
    "Useful Python functions\n",
    "* fill_list_series(value_0, value_max, delta_value)\n",
    "* calc_func_list(value_list, func)\n",
    "* find_ind(tab, value)\n",
    "* find_max_ind(tab)\n",
    "* find_min_ind(tab)\n",
    "\n",
    "1D:\n",
    "Displacement and distance covered:\n",
    "* calc_displacement_1D(x_tab)\n",
    "* calc_distance_covered_1D(x_tab)\n",
    "\n",
    "2D:\n",
    "* calc_abs_2D(xc_tab, yc_tab)\n",
    "* calc_displacement_2D(x_tab, y_tab)\n",
    "* calc_distance_covered_2D(x_tab, y_tab)"
   ]
  },
  {
   "cell_type": "code",
   "execution_count": null,
   "metadata": {},
   "outputs": [],
   "source": [
    "!wget https://github.com/zoldbirka/colab-eng-phys/raw/refs/heads/main/twodkinematics.py\n",
    "# Make sure twodkinematics.py is downloaded and copied next to this file!\n",
    "# Or copy all functions from template-kinem-2d.ipynb at the start!"
   ]
  },
  {
   "cell_type": "code",
   "execution_count": 32,
   "metadata": {},
   "outputs": [],
   "source": [
    "# importing modules\n",
    "import math   # math functions\n",
    "import matplotlib.pyplot as plt  # graph plot\n",
    "%matplotlib inline\n",
    "\n",
    "## Solution with pre written 'kinematics.py'\n",
    "from twodkinematics import*"
   ]
  },
  {
   "cell_type": "markdown",
   "metadata": {},
   "source": [
    "# 2D Examples"
   ]
  },
  {
   "cell_type": "markdown",
   "metadata": {},
   "source": [
    "## Ball motion with no air resistance"
   ]
  },
  {
   "cell_type": "markdown",
   "metadata": {},
   "source": [
    "Problem:\n",
    "\n",
    "We throw a ball from a $h=20$ m height building with initial speed of $v_0=18$ m/s and inital angle (form the horizontal direction) of $\\alpha=16$° .\n",
    "\n",
    "* Where will the ball hit the ground?\n",
    "* What will be the impact speed?\n",
    "* How long did it take to reach the ground?\n",
    "* What was the maximum height of this ball during the motion?\n",
    "* What is the path length from the start to the impact?\n",
    "* If there is another building at 25 m distance, where will the ball hit it?"
   ]
  },
  {
   "cell_type": "markdown",
   "metadata": {},
   "source": [
    "## Zeroth step: set the coordinate system\n",
    "\n",
    "Origin on the ground below the start point.\n",
    "\n",
    "x points horizontally in the direction of initial velocity.\n",
    "\n",
    "y point upwards."
   ]
  },
  {
   "cell_type": "markdown",
   "metadata": {},
   "source": [
    "## First step: calculate $x(t)$ and $y(t)$"
   ]
  },
  {
   "cell_type": "code",
   "execution_count": 33,
   "metadata": {},
   "outputs": [],
   "source": [
    "# input data as variables\n"
   ]
  },
  {
   "cell_type": "code",
   "execution_count": 34,
   "metadata": {},
   "outputs": [],
   "source": [
    "# calculating initial velocity components\n",
    "\n",
    "# initial position components\n"
   ]
  },
  {
   "cell_type": "code",
   "execution_count": 35,
   "metadata": {},
   "outputs": [],
   "source": [
    "# defining position functions in both directions"
   ]
  },
  {
   "cell_type": "code",
   "execution_count": 36,
   "metadata": {},
   "outputs": [],
   "source": [
    "# Let's define the time values:"
   ]
  },
  {
   "cell_type": "code",
   "execution_count": 37,
   "metadata": {},
   "outputs": [],
   "source": [
    "# Let's calculate the x,y values (position components)"
   ]
  },
  {
   "cell_type": "code",
   "execution_count": 38,
   "metadata": {},
   "outputs": [],
   "source": [
    "# Let's calculate the vx, vy values (velocity components)\n"
   ]
  },
  {
   "cell_type": "code",
   "execution_count": 39,
   "metadata": {},
   "outputs": [],
   "source": [
    "# Let's calculate ax, ay values \n"
   ]
  },
  {
   "cell_type": "code",
   "execution_count": null,
   "metadata": {},
   "outputs": [],
   "source": [
    "# print some values to check\n"
   ]
  },
  {
   "cell_type": "markdown",
   "metadata": {},
   "source": [
    "Find the time, when the body touched the ground on the graph!"
   ]
  },
  {
   "cell_type": "code",
   "execution_count": null,
   "metadata": {},
   "outputs": [],
   "source": [
    "# Plot the path in x-y plane\n",
    "\n"
   ]
  },
  {
   "cell_type": "markdown",
   "metadata": {},
   "source": [
    "## Where will the ball hit the ground?\n",
    "## What will be the impact speed?\n",
    "## How long did it take to reach the ground?"
   ]
  },
  {
   "cell_type": "code",
   "execution_count": 43,
   "metadata": {},
   "outputs": [],
   "source": []
  },
  {
   "cell_type": "markdown",
   "metadata": {},
   "source": [
    "## What was the maximum height of this ball during the motion?"
   ]
  },
  {
   "cell_type": "code",
   "execution_count": null,
   "metadata": {},
   "outputs": [],
   "source": []
  },
  {
   "cell_type": "markdown",
   "metadata": {},
   "source": [
    "## What is the path length from the start to the impact?"
   ]
  },
  {
   "cell_type": "code",
   "execution_count": null,
   "metadata": {},
   "outputs": [],
   "source": []
  },
  {
   "cell_type": "markdown",
   "metadata": {},
   "source": [
    "## If there is another building at 25 m distance, where will the ball hit it?"
   ]
  },
  {
   "cell_type": "code",
   "execution_count": null,
   "metadata": {},
   "outputs": [],
   "source": []
  },
  {
   "cell_type": "markdown",
   "metadata": {},
   "source": [
    "# Other approach: start from acceleration"
   ]
  },
  {
   "cell_type": "code",
   "execution_count": null,
   "metadata": {},
   "outputs": [],
   "source": []
  }
 ],
 "metadata": {
  "kernelspec": {
   "display_name": "pylatest",
   "language": "python",
   "name": "python3"
  },
  "language_info": {
   "codemirror_mode": {
    "name": "ipython",
    "version": 3
   },
   "file_extension": ".py",
   "mimetype": "text/x-python",
   "name": "python",
   "nbconvert_exporter": "python",
   "pygments_lexer": "ipython3",
   "version": "3.9.15"
  }
 },
 "nbformat": 4,
 "nbformat_minor": 2
}
