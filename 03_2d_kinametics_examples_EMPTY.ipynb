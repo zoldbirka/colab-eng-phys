{
  "cells": [
    {
      "cell_type": "markdown",
      "metadata": {
        "id": "b_QbjxRCi3V-"
      },
      "source": [
        "# Summary on available functions"
      ]
    },
    {
      "cell_type": "markdown",
      "metadata": {
        "id": "FtPZSysfi3V_"
      },
      "source": [
        "(Just for help)\n",
        "\n",
        "Mathematical functions:\n",
        "* deriv(xx_tab, ff_tab)\n",
        "* integral(xx_tab, ff_tab, F0=0.0)\n",
        "\n",
        "Useful Python functions\n",
        "* fill_list_series(value_0, value_max, delta_value)\n",
        "* calc_func_list(value_list, func)\n",
        "* find_ind(tab, value)\n",
        "* find_max_ind(tab)\n",
        "* find_min_ind(tab)\n",
        "\n",
        "1D:\n",
        "Displacement and distance covered:\n",
        "* calc_displacement_1D(x_tab)\n",
        "* calc_distance_covered_1D(x_tab)\n",
        "\n",
        "2D:\n",
        "* calc_abs_2D(xc_tab, yc_tab)\n",
        "* calc_displacement_2D(x_tab, y_tab)\n",
        "* calc_distance_covered_2D(x_tab, y_tab)"
      ]
    },
    {
      "cell_type": "code",
      "execution_count": null,
      "metadata": {
        "id": "HGHRZsEAi3WA"
      },
      "outputs": [],
      "source": [
        "!wget https://github.com/zoldbirka/colab-eng-phys/raw/refs/heads/main/twodkinematics.py\n",
        "# Make sure twodkinematics.py is downloaded and copied next to this file!\n",
        "# Or copy all functions from template-kinem-2d.ipynb at the start!"
      ]
    },
    {
      "cell_type": "code",
      "execution_count": null,
      "metadata": {
        "id": "wMs6VkAwi3WB"
      },
      "outputs": [],
      "source": [
        "# importing modules\n",
        "import math   # math functions\n",
        "import matplotlib.pyplot as plt  # graph plot\n",
        "%matplotlib inline\n",
        "\n",
        "## Solution with pre written 'twodkinematics.py'\n",
        "from twodkinematics import*"
      ]
    },
    {
      "cell_type": "markdown",
      "metadata": {
        "id": "82iiFAMmi3WB"
      },
      "source": [
        "# 2D Examples"
      ]
    },
    {
      "cell_type": "markdown",
      "metadata": {
        "id": "ltnUIlYQi3WC"
      },
      "source": [
        "## Ball motion with no air resistance"
      ]
    },
    {
      "cell_type": "markdown",
      "metadata": {
        "id": "yZaLPsn9i3WC"
      },
      "source": [
        "Problem:\n",
        "\n",
        "We throw a ball from a $h=20$ m height building with initial speed of $v_0=18$ m/s and inital angle (form the horizontal direction) of $\\alpha=16$° .\n",
        "\n",
        "* Where will the ball hit the ground?\n",
        "* What will be the impact speed?\n",
        "* How long did it take to reach the ground?\n",
        "* What was the maximum height of this ball during the motion?\n",
        "* What is the path length from the start to the impact?\n",
        "* If there is another building at 25 m distance, where will the ball hit it?"
      ]
    },
    {
      "cell_type": "markdown",
      "metadata": {
        "id": "n58EFhKXi3WD"
      },
      "source": [
        "## Zeroth step: set the coordinate system\n",
        "\n",
        "Origin on the ground below the start point.\n",
        "\n",
        "x points horizontally in the direction of initial velocity.\n",
        "\n",
        "y point upwards."
      ]
    },
    {
      "cell_type": "markdown",
      "metadata": {
        "id": "KkkyhxSLi3WD"
      },
      "source": [
        "## First step: calculate $x(t)$ and $y(t)$"
      ]
    },
    {
      "cell_type": "code",
      "execution_count": null,
      "metadata": {
        "id": "apjrezCti3WD"
      },
      "outputs": [],
      "source": [
        "# input data as variables\n"
      ]
    },
    {
      "cell_type": "code",
      "execution_count": null,
      "metadata": {
        "id": "478_txJ7i3WE"
      },
      "outputs": [],
      "source": [
        "# calculating initial velocity components\n",
        "\n",
        "# initial position components\n"
      ]
    },
    {
      "cell_type": "code",
      "execution_count": null,
      "metadata": {
        "id": "zULdMUJAi3WE"
      },
      "outputs": [],
      "source": [
        "# defining position functions in both directions"
      ]
    },
    {
      "cell_type": "code",
      "execution_count": null,
      "metadata": {
        "id": "g7n0_-2Ki3WE"
      },
      "outputs": [],
      "source": [
        "# Let's define the time values:"
      ]
    },
    {
      "cell_type": "code",
      "execution_count": null,
      "metadata": {
        "id": "a8-jSQL6i3WE"
      },
      "outputs": [],
      "source": [
        "# Let's calculate the x,y values (position components)"
      ]
    },
    {
      "cell_type": "code",
      "execution_count": null,
      "metadata": {
        "id": "nLMT3pH8i3WF"
      },
      "outputs": [],
      "source": [
        "# Let's calculate the vx, vy values (velocity components)\n"
      ]
    },
    {
      "cell_type": "code",
      "execution_count": null,
      "metadata": {
        "id": "GFCd9WCEi3WF"
      },
      "outputs": [],
      "source": [
        "# Let's calculate ax, ay values\n"
      ]
    },
    {
      "cell_type": "code",
      "execution_count": null,
      "metadata": {
        "id": "zxN3yH8ai3WF"
      },
      "outputs": [],
      "source": [
        "# print some values to check\n"
      ]
    },
    {
      "cell_type": "markdown",
      "metadata": {
        "id": "AEh-N461i3WF"
      },
      "source": [
        "Find the time, when the body touched the ground on the graph!"
      ]
    },
    {
      "cell_type": "code",
      "execution_count": null,
      "metadata": {
        "id": "uhoRtS4Ci3WF"
      },
      "outputs": [],
      "source": [
        "# Plot the path in x-y plane\n",
        "\n"
      ]
    },
    {
      "cell_type": "markdown",
      "metadata": {
        "id": "hOXLeDWti3WG"
      },
      "source": [
        "## Where will the ball hit the ground?\n",
        "## What will be the impact speed?\n",
        "## How long did it take to reach the ground?"
      ]
    },
    {
      "cell_type": "code",
      "execution_count": null,
      "metadata": {
        "id": "fd2ZiZUOi3WG"
      },
      "outputs": [],
      "source": []
    },
    {
      "cell_type": "markdown",
      "metadata": {
        "id": "a4GcZ8kGi3WG"
      },
      "source": [
        "## What was the maximum height of this ball during the motion?"
      ]
    },
    {
      "cell_type": "code",
      "execution_count": null,
      "metadata": {
        "id": "lIaJnBqNi3WG"
      },
      "outputs": [],
      "source": []
    },
    {
      "cell_type": "markdown",
      "metadata": {
        "id": "u5C_roTKi3WG"
      },
      "source": [
        "## What is the path length from the start to the impact?"
      ]
    },
    {
      "cell_type": "code",
      "execution_count": null,
      "metadata": {
        "id": "yxB6ijtli3WG"
      },
      "outputs": [],
      "source": []
    },
    {
      "cell_type": "markdown",
      "metadata": {
        "id": "MVs1HK78i3WG"
      },
      "source": [
        "## If there is another building at 25 m distance, where will the ball hit it?"
      ]
    },
    {
      "cell_type": "code",
      "execution_count": null,
      "metadata": {
        "id": "zxLRqQAIi3WG"
      },
      "outputs": [],
      "source": []
    },
    {
      "cell_type": "markdown",
      "metadata": {
        "id": "yKG9I9zki3WG"
      },
      "source": [
        "# Other approach: start from acceleration"
      ]
    },
    {
      "cell_type": "code",
      "execution_count": null,
      "metadata": {
        "id": "Dz9COFBDi3WH"
      },
      "outputs": [],
      "source": []
    }
  ],
  "metadata": {
    "kernelspec": {
      "display_name": "pylatest",
      "language": "python",
      "name": "python3"
    },
    "language_info": {
      "codemirror_mode": {
        "name": "ipython",
        "version": 3
      },
      "file_extension": ".py",
      "mimetype": "text/x-python",
      "name": "python",
      "nbconvert_exporter": "python",
      "pygments_lexer": "ipython3",
      "version": "3.9.15"
    },
    "colab": {
      "provenance": []
    }
  },
  "nbformat": 4,
  "nbformat_minor": 0
}