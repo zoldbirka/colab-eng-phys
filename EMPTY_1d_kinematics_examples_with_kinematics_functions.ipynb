{
 "cells": [
  {
   "cell_type": "code",
   "execution_count": null,
   "id": "0f196bcf",
   "metadata": {},
   "outputs": [],
   "source": [
    "!wget https://github.com/zoldbirka/colab-eng-phys/raw/refs/heads/main/kinematics.py"
   ]
  },
  {
   "cell_type": "code",
   "execution_count": 21,
   "id": "2eed3c86",
   "metadata": {},
   "outputs": [],
   "source": [
    "# importing modules\n",
    "import math   # math functions\n",
    "import matplotlib.pyplot as plt  # graph plot\n",
    "%matplotlib inline   \n",
    "\n",
    "## Solution with pre written 'kinematics.py'\n",
    "from kinematics import*"
   ]
  },
  {
   "cell_type": "markdown",
   "id": "3db49ef8",
   "metadata": {},
   "source": [
    "# How to use Python for solving a textbook problem? "
   ]
  },
  {
   "cell_type": "markdown",
   "id": "9647bdeb",
   "metadata": {},
   "source": [
    "## Example 3.16 from the \"University Physics\" textbook"
   ]
  },
  {
   "cell_type": "markdown",
   "id": "eaa8286e",
   "metadata": {},
   "source": [
    "**Rocket Booster**\n",
    "\n",
    "A small rocket with a booster blasts off and heads straight upward. When at a height of  5.0km and velocity of 200.0 m/s, it releases its booster. \n",
    "\n",
    "[a.] What is the maximum height the booster attains?\n",
    "\n",
    "[b.] What is the velocity of the booster at a height of 6.0 km? Neglect air resistance."
   ]
  },
  {
   "cell_type": "markdown",
   "id": "972001c3",
   "metadata": {},
   "source": [
    "### (a) What is the maximum height the booster attains?"
   ]
  },
  {
   "cell_type": "markdown",
   "id": "ba8e0a35",
   "metadata": {},
   "source": [
    "### (a) Mod - When does the booster reach maximum height?"
   ]
  },
  {
   "cell_type": "markdown",
   "id": "888e8879",
   "metadata": {},
   "source": [
    "### (b) What is the velocity of the booster at a height of 6.0 km?"
   ]
  },
  {
   "cell_type": "markdown",
   "id": "b8f879b2",
   "metadata": {},
   "source": [
    "### (c) How long does it take for the booster to fall on Earth? \n",
    "### (d) What is the booster's final velocity?"
   ]
  },
  {
   "cell_type": "markdown",
   "id": "9979d2bb",
   "metadata": {},
   "source": [
    "## Problem 71./3. Chapter"
   ]
  },
  {
   "cell_type": "markdown",
   "id": "ca27b71b",
   "metadata": {},
   "source": [
    "**Diver's jump**\n",
    "\n",
    "A diver bounces straight up from a diving board, avoiding the diving board on the way down, and falls feet first into a pool. She starts with a velocity of 4.00 m/s and her takeoff point is 1.80 m above the pool. \n",
    "\n",
    "[a.] What is her highest point above the board?\n",
    "\n",
    "[b.] How long is her feet in the air?\n",
    "\n",
    "[c.] What is her velocity when her feet hit the water?"
   ]
  },
  {
   "cell_type": "markdown",
   "id": "f6f753d3",
   "metadata": {},
   "source": [
    "### (a) What is her highest point above the board?"
   ]
  },
  {
   "cell_type": "markdown",
   "id": "855e19f9",
   "metadata": {},
   "source": [
    "### (b) How long is her feet in the air?"
   ]
  },
  {
   "cell_type": "markdown",
   "id": "3bcbaffb",
   "metadata": {},
   "source": [
    "### (c) What is her velocity when her feet hit the water?"
   ]
  },
  {
   "cell_type": "markdown",
   "id": "f8a1cbaf",
   "metadata": {},
   "source": [
    "# More complex examples"
   ]
  },
  {
   "cell_type": "markdown",
   "id": "742d8954",
   "metadata": {},
   "source": [
    "## Calculations with specified x(t)"
   ]
  },
  {
   "cell_type": "markdown",
   "id": "d8b99c81",
   "metadata": {},
   "source": [
    "Problem:\n",
    "\n",
    "A body's position-time function is:\n",
    "$$x(t)=5.6\\cdot e^{-\\frac{(t-3)^2}{2\\cdot0.5^2}}\\cdot \\sin(6\\pi t)$$\n",
    "\n",
    "* Plot $x(t)$, $v(t)$, $a(t)$ function from 0 to 6 s!\n",
    "* Plot displacement and distance covered functions from 0 to 6 s!\n",
    "* When will the body be at $x=2.0$ m ? (multiple solutions possible!)\n",
    "* What is the maximum acceleration magnitude? At what time will the body move with that acceleration?\n",
    "* What is the maximum velocity magnitude? At what time will the body move with that speed?\n",
    "* When will the body move with half of the maximum velocity ? (multiple solutions possible!)"
   ]
  }
 ],
 "metadata": {
  "kernelspec": {
   "display_name": "pylatest",
   "language": "python",
   "name": "python3"
  },
  "language_info": {
   "codemirror_mode": {
    "name": "ipython",
    "version": 3
   },
   "file_extension": ".py",
   "mimetype": "text/x-python",
   "name": "python",
   "nbconvert_exporter": "python",
   "pygments_lexer": "ipython3",
   "version": "3.9.15"
  }
 },
 "nbformat": 4,
 "nbformat_minor": 5
}
