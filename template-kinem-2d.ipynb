{
 "cells": [
  {
   "cell_type": "markdown",
   "metadata": {},
   "source": [
    "This Jupyter Notebook file is a template for 2D kinematics calculation.\n",
    "\n",
    "It assumes we have time, position, velocity and acceleration data in tables (Python lists) and performs approximate calculations. \n",
    "\n",
    "\"Definitions\" section contains definitions of methods for kinematics calculations. Students of the \"Engineering Physics\" course don't have to understand the details because it uses some \"advanced\" Python knowledge.\n",
    "\n",
    "\"Examples\" section shows examples of how to use these routines. This part assumes only basic Python knowledge, an understanding of the concepts of kinematics and intelligent usage of the functions defined in the \"Definitios\" section."
   ]
  },
  {
   "cell_type": "code",
   "execution_count": 1,
   "metadata": {},
   "outputs": [],
   "source": [
    "# importing modules\n",
    "import math   # math functions\n",
    "import matplotlib.pyplot as plt  # graph plot\n",
    "%matplotlib inline    "
   ]
  },
  {
   "cell_type": "markdown",
   "metadata": {},
   "source": [
    "# Definitions"
   ]
  },
  {
   "cell_type": "markdown",
   "metadata": {},
   "source": [
    "You have to understand what the functions do, but it is not neccessary to go into the details or change them."
   ]
  },
  {
   "cell_type": "markdown",
   "metadata": {},
   "source": [
    "## Summary"
   ]
  },
  {
   "cell_type": "markdown",
   "metadata": {},
   "source": [
    "(Just for help)\n",
    "\n",
    "Mathematical functions:\n",
    "* deriv(xx_tab, ff_tab)\n",
    "* integral(xx_tab, ff_tab, F0=0.0)\n",
    "\n",
    "Useful Python functions\n",
    "* fill_list_series(value_0, value_max, delta_value)\n",
    "* calc_func_list(value_list, func)\n",
    "* find_ind(tab, value)\n",
    "* find_max_ind(tab)\n",
    "* find_min_ind(tab)\n",
    "\n",
    "1D:\n",
    "Displacement and distance covered:\n",
    "* calc_displacement_1D(x_tab)\n",
    "* calc_distance_covered_1D(x_tab)\n",
    "\n",
    "2D:\n",
    "* calc_abs_2D(xc_tab, yc_tab)\n",
    "* calc_displacement_2D(x_tab, y_tab)\n",
    "* calc_distance_covered_2D(x_tab, y_tab)"
   ]
  },
  {
   "cell_type": "markdown",
   "metadata": {},
   "source": [
    "## Mathematical methods"
   ]
  },
  {
   "cell_type": "code",
   "execution_count": 2,
   "metadata": {},
   "outputs": [],
   "source": [
    "# Approximate derivative calculation\n",
    "\n",
    "def deriv(xx_tab, ff_tab):  # general math formalism: the function is f(x)\n",
    "    N = len(xx_tab)    # size of array\n",
    "    dff_dxx = [0.0]*N  # array of derivatives\n",
    "    \n",
    "    dff_dxx[0] = (ff_tab[1]-ff_tab[0])/(xx_tab[1]-xx_tab[0])  # first element\n",
    "    dff_dxx[N-1] = (ff_tab[N-1]-ff_tab[N-2])/(xx_tab[N-1]-xx_tab[N-2]) # last element\n",
    "        \n",
    "    for i in range(1, N-1):  # middle elements\n",
    "        dff_dxx[i] = (ff_tab[i+1]-ff_tab[i-1])/(xx_tab[i+1]-xx_tab[i-1])\n",
    "        \n",
    "    # corrections at the edges\n",
    "    dff_dxx[0] = 2*dff_dxx[0] - dff_dxx[1]  \n",
    "    dff_dxx[N-1] = 2*dff_dxx[N-1]-dff_dxx[N-2]\n",
    "    return(dff_dxx)\n",
    "\n",
    "# Usage:\n",
    "# input: xx_tab, ff_tab : two list of floats with the same length\n",
    "#        xx_tab: list of values, usually with a constant delta_x step size, \n",
    "#                example: xx_tab=[0.0, 0.1, 0.2, 0.3, ...]\n",
    "#        ff_tab: values of a function f(x) at the values of xx_tab\n",
    "#                example: ff_tab=[f(0.0), f(0.1), f(0.2), ...]\n",
    "# output: dff_xx: approximate derivative of f(x) at the points of xx_tab:\n",
    "#                dff_xx=[df/dx(x=0.0), df/dx(x=0.1), df/dx(x=0.2), ...]\n",
    "#\n",
    "# Example usage: calculating velocity from position data.\n",
    "#                vx_tab=deriv(t_tab, x_tab)"
   ]
  },
  {
   "cell_type": "code",
   "execution_count": 3,
   "metadata": {},
   "outputs": [],
   "source": [
    "# Approximate integral calculation\n",
    "\n",
    "def integral(xx_tab, ff_tab, F0 = 0.0):  # F0: start value\n",
    "    N = len(xx_tab)     # size of the array\n",
    "    intff = [0.0]*N     # array for integral values\n",
    "    intff[0] = F0       # start value\n",
    "    for i in range(1, N):\n",
    "        intff[i] = intff[i-1]+(xx_tab[i]-xx_tab[i-1])*(ff_tab[i]+ff_tab[i-1])/2.0\n",
    "    return(intff)\n",
    "\n",
    "# Usage:\n",
    "# input: xx_tab, ff_tab: two list of floats with the same length\n",
    "#        xx_tab: list of values, usually with a constant delta_x step size, \n",
    "#                example: xx_tab=[0.0, 0.1, 0.2, 0.3, ...]\n",
    "#        ff_tab: values of a function f(x) at the values of xx_tab\n",
    "#                example: ff_tab=[f(0.0), f(0.1), f(0.2), ...]\n",
    "#        F0: float value\n",
    "#               initial value of integral\n",
    "# output: intff : approximate integral of f(x) function given in the lists with F0 initial value.\n",
    "#        intff = [F0, F0+∫_0.0^0.1 f(x) dx,  F0+∫_0.0^0.2 f(x) dx, ....]\n",
    "#\n",
    "# Example usage: calculating position from velocity and original position data.\n",
    "#                x_tab=integral(t_tab, vx_tab, x0)"
   ]
  },
  {
   "cell_type": "markdown",
   "metadata": {},
   "source": [
    "## Useful Python functions"
   ]
  },
  {
   "cell_type": "code",
   "execution_count": null,
   "metadata": {},
   "outputs": [],
   "source": [
    "# Fill a list with a series of numbers\n",
    "\n",
    "def fill_list_series(value_0, value_max, delta_value):\n",
    "    series = [] # start with empty list\n",
    "    value=value_0\n",
    "    i = 0\n",
    "    while (value <= value_max + delta_value/100):\n",
    "        value = value_0+i*delta_value\n",
    "        series.append(value)\n",
    "        i+=1\n",
    "        \n",
    "    return series\n",
    "\n",
    "# Usage:\n",
    "# input: value_0, value_max, delta_value: floating point numbers\n",
    "# output: series: list of floats\n",
    "#         series=[value_0, value_0+1*delta_value, value_0+2*delta_value, ...]\n",
    "#\n",
    "# Example usage: fill table of time values.\n",
    "#                t_tab=fill_list_series(0.0, 10.0, 0.1)\n",
    "#             output: t_tab=[0.0, 0.1, 0.2, .... , 9.9, 10.0]"
   ]
  },
  {
   "cell_type": "code",
   "execution_count": null,
   "metadata": {},
   "outputs": [],
   "source": [
    "# Calculate function for every element of a list\n",
    "\n",
    "def calc_func_list(value_list, func):\n",
    "    \n",
    "    f_list=[] # start with empty list\n",
    "    \n",
    "    for value in value_list:   # loop over the list\n",
    "        f_list.append(func(value))  # add a new element to the result list\n",
    "    \n",
    "    return f_list\n",
    "\n",
    "# Usage:\n",
    "# input: value_list: list of floats\n",
    "#        func : a function name\n",
    "# output: f_list: list of floats\n",
    "#         f_list=[func(value_list[0]), func(value_list[1]), func(value_list[2]), ... ]\n",
    "#\n",
    "#  Example usage: fill a table for a function \n",
    "#          x_tab=calc_func_list(t_tab, math.sin)\n",
    "#        output=[math.sin(t_tab[0]), math.sin(t_tab[1]), math.sin(t_tab[2]), ...]"
   ]
  },
  {
   "cell_type": "code",
   "execution_count": null,
   "metadata": {},
   "outputs": [],
   "source": [
    "# find index in a table (list), where a specific value is reached\n",
    "\n",
    "def find_ind(tab, value):\n",
    "    ind_list = []  # list of index values, where value is between tab[ind] and tab[ind+1]\n",
    "    for ind in range(len(tab)-1):\n",
    "        if (tab[ind] == value):\n",
    "            ind_list.append(ind)\n",
    "        elif (tab[ind] < value) and (tab[ind+1] > value):   # reach value from small values:\n",
    "            ind_list.append(ind)\n",
    "        elif (tab[ind] > value) and (tab[ind+1] < value):   # reach x_search from large values:\n",
    "            ind_list.append(ind)\n",
    "            \n",
    "    return ind_list\n",
    "\n",
    "# Usage:\n",
    "# input: tab: list of floats\n",
    "#        value: value to search in tab\n",
    "# output: ind_list: list of integers\n",
    "#         for every element 'ind' of ind_list we know, that value is between tab[ind] nad tab[ind+1]\n",
    "#\n",
    "# Examle usage: find the place in the position list, where the body reached a specific postition\n",
    "#         reached_10m=find_int(x_tab, 10.0)\n",
    "#      After this reached_10m will contain the index values where x_tab contains 10.0\n",
    "#      This list can be empty, contain 1 or more elements."
   ]
  },
  {
   "cell_type": "code",
   "execution_count": null,
   "metadata": {},
   "outputs": [],
   "source": [
    "# find index of maximum value in table\n",
    "\n",
    "def find_max_ind(tab):\n",
    "    ind_max = 0\n",
    "    value_max = tab[ind_max]\n",
    "    \n",
    "    for ind in range(1,len(tab)):\n",
    "        value = tab[ind]\n",
    "        if value > value_max:   # new maximum found\n",
    "            value_max = value\n",
    "            ind_max = ind\n",
    "            \n",
    "    return ind_max\n",
    "\n",
    "# Usage:\n",
    "# input: tab: list of floats\n",
    "# output: ind_max: integer\n",
    "#         tab[ind_max] is the (first) maximum of tab values\n",
    "#\n",
    "# Example usage: find maximum position during a motion.\n",
    "#         ind_top=find_max(x_tab)\n",
    "#\n",
    "# Note: This is the index, not the maximum value! x_top=x_tab[ind_top]"
   ]
  },
  {
   "cell_type": "code",
   "execution_count": null,
   "metadata": {},
   "outputs": [],
   "source": [
    "# find index of minimum value in table\n",
    "\n",
    "def find_min_ind(tab):\n",
    "    ind_min = 0\n",
    "    value_min = tab[ind_min]\n",
    "    \n",
    "    for ind in range(1,len(tab)):\n",
    "        value = tab[ind]\n",
    "        if value < value_min:   # new minimum found\n",
    "            value_min = value\n",
    "            ind_min = ind\n",
    "            \n",
    "    return ind_min\n",
    "\n",
    "# Usage:\n",
    "# The same as find_max_ind"
   ]
  },
  {
   "cell_type": "markdown",
   "metadata": {},
   "source": [
    "# 1D special functions"
   ]
  },
  {
   "cell_type": "markdown",
   "metadata": {},
   "source": [
    "## Displacement and distance covered 1D"
   ]
  },
  {
   "cell_type": "code",
   "execution_count": 9,
   "metadata": {},
   "outputs": [],
   "source": [
    "# calculate displacement from the beginning, assuming 1D motion\n",
    "\n",
    "def calc_displacement_1D(x_tab):\n",
    "    N = len(x_tab)     # size of the array\n",
    "    displ_tab = [0.0]*N  \n",
    "    for i in range(1,N):\n",
    "        displ_tab[i] = x_tab[i]-x_tab[0]\n",
    "        \n",
    "    return displ_tab\n",
    "        \n",
    "# Usage:\n",
    "# input: x_tab\n",
    "#        table of x coordinates\n",
    "# output: displ_tab \n",
    "#         table of displacements relative to the start point\n",
    "#\n",
    "# Example usage: calculate displacement from the start point\n",
    "#         displ_tab=calc_displacement(x_tab)"
   ]
  },
  {
   "cell_type": "code",
   "execution_count": 10,
   "metadata": {},
   "outputs": [],
   "source": [
    "# calculate distance covered from the beginning, assuming 1D motion\n",
    "\n",
    "def calc_distance_covered_1D(x_tab):\n",
    "    N = len(x_tab)     # size of the array\n",
    "    distcov_tab = [0.0]*N  \n",
    "    for i in range(1,N):\n",
    "        distcov_tab[i] = distcov_tab[i-1]+abs(x_tab[i]-x_tab[i-1])\n",
    "        \n",
    "    return distcov_tab\n",
    "\n",
    "# Usage:\n",
    "# input: x_tab\n",
    "#        table of x coordinates\n",
    "# output: distcov_tab \n",
    "#         table of total distance covered from the start point\n",
    "#\n",
    "# Example usage: calculate distance coevered from the start point\n",
    "#         dist_tab=calc_distance_coveredt(x_tab)"
   ]
  },
  {
   "cell_type": "markdown",
   "metadata": {},
   "source": [
    "# 2D special functions"
   ]
  },
  {
   "cell_type": "code",
   "execution_count": 11,
   "metadata": {},
   "outputs": [],
   "source": [
    "# calculate magnitude from two components\n",
    "\n",
    "def calc_abs_2D(xc_tab, yc_tab):\n",
    "    N = len(xc_tab)     # size of the array\n",
    "    abs_tab = [0.0]*N \n",
    "    \n",
    "    for i in range(N):\n",
    "        abs_tab[i] = (xc_tab[i]**2 + yc_tab[i]**2)**0.5\n",
    "        \n",
    "    return abs_tab\n",
    "\n",
    "# Usage:\n",
    "# input: xc_tab, yc_tab:\n",
    "#        x and y components of the vector\n",
    "#\n",
    "# Example usage: calculate speed from velocity components\n",
    "#        vabs_tab = calc_abs_2D(vx_tab, vy_tab)"
   ]
  },
  {
   "cell_type": "markdown",
   "metadata": {},
   "source": [
    "## Displacement and distance covered 2D"
   ]
  },
  {
   "cell_type": "code",
   "execution_count": 12,
   "metadata": {},
   "outputs": [],
   "source": [
    "# calculate displacement from the beginning, assuming 2D motion\n",
    "\n",
    "def calc_displacement_2D(x_tab, y_tab):\n",
    "   \n",
    "    displ_x_tab = calc_displacement_1D(x_tab)\n",
    "    displ_y_tab = calc_displacement_1D(y_tab)\n",
    "        \n",
    "    return displ_x_tab, displ_y_tab\n",
    "        \n",
    "# Usage:\n",
    "# input: x_tab, y_tab\n",
    "#        tables of x and y coordinates\n",
    "# output: displ_x_tab, displ_y_tab \n",
    "#         table of displacements relative to the start point\n",
    "#\n",
    "# Example usage: calculate displacement from the start point\n",
    "#         displ_x_tab, displ_y_tab = calc_displacement_2D(x_tab, y_tab)"
   ]
  },
  {
   "cell_type": "code",
   "execution_count": 13,
   "metadata": {},
   "outputs": [],
   "source": [
    "# calculate distance covered from the beginning, assuming 2D motion\n",
    "\n",
    "def calc_distance_covered_2D(x_tab, y_tab):\n",
    "    N = len(x_tab)     # size of the array\n",
    "    distcov_tab = [0.0]*N  \n",
    "    for i in range(1, N):\n",
    "        delta_x = x_tab[i]-x_tab[i-1]\n",
    "        delta_y = y_tab[i]-y_tab[i-1]\n",
    "        distcov_tab[i] = distcov_tab[i-1] + (delta_x**2+delta_y**2)**0.5\n",
    "        \n",
    "    return distcov_tab\n",
    "\n",
    "# Usage:\n",
    "# input: x_tab, y_tab\n",
    "#        table of x and y coordinates\n",
    "# output: distcov_tab \n",
    "#         table of total distance covered from the start point\n",
    "#\n",
    "# Example usage: calculate distance coevered from the start point\n",
    "#         dist_tab = calc_distance_covered_2D(x_tab,y_tab)"
   ]
  },
  {
   "cell_type": "markdown",
   "metadata": {},
   "source": [
    "## Acceleration components and local radius"
   ]
  },
  {
   "cell_type": "code",
   "execution_count": 14,
   "metadata": {},
   "outputs": [],
   "source": [
    "# calculate tangential and centripetal accelerations\n",
    "\n",
    "def calc_acc_components_2D(vx_tab, vy_tab, ax_tab, ay_tab):\n",
    "    \n",
    "    N=len(vx_tab)\n",
    "    at_tab=[0.0]*N\n",
    "    ac_tab=[0.0]*N\n",
    "    \n",
    "    for i in range(N):\n",
    "        vx=vx_tab[i]\n",
    "        vy=vy_tab[i]\n",
    "        ax=ax_tab[i]\n",
    "        ay=ay_tab[i]\n",
    "        v_abs=(vx**2+vy**2)**0.5\n",
    "        \n",
    "        if v_abs<1e-10:  # too slow motion, probably no motion\n",
    "            at=(ax**2+ay**2)**0.5\n",
    "            ac=0.0\n",
    "        else:\n",
    "            at=(ax*vx+ay*vy)/v_abs\n",
    "            ac=(ax*vy-ay*vx)/v_abs\n",
    "            \n",
    "        at_tab[i]=at\n",
    "        ac_tab[i]=ac\n",
    "        \n",
    "    return at_tab, ac_tab\n",
    "        \n",
    "# Usage:\n",
    "# input: vx_tab, vy_tab, ax_tab, ay_tab\n",
    "#        tables of velocity and acceleration components\n",
    "# output: at_tab, ac_tab\n",
    "#         tables of tangential and centripetal acceleration components\n",
    "#\n",
    "# Example usage: \n",
    "#         at_tab, ac_tab=calc_acc_components_2D(vx_tab, vy_tab, ax_tab, ay_tab)"
   ]
  },
  {
   "cell_type": "code",
   "execution_count": 15,
   "metadata": {},
   "outputs": [],
   "source": [
    "# calculate inverse of local radius from centripetal acceleration and velocity magnitude\n",
    "# we calculate 1/R instead R, because in linear motion R=infinity, but 1/R=0, formally\n",
    "\n",
    "def calc_Rinv(vabs_tab, ac_tab):\n",
    "    N=len(vabs_tab)\n",
    "    Rinv_tab=[0.0]*N\n",
    "    \n",
    "    for i in range(N):\n",
    "        if vabs_tab[i]<1e-10:  # too slow motion, probably no motion\n",
    "            Rinv_tab=0.0\n",
    "        else:\n",
    "            Rinv_tab[i]=ac_tab[i]/vabs_tab[i]**2\n",
    "            \n",
    "    return Rinv_tab\n",
    "\n",
    "# Usage:\n",
    "# input: vabs_tab, ac_tab\n",
    "#        tables of velocity magnitude and centripetal acceleration\n",
    "# output: Rinv_tab\n",
    "#         table of ineverse of local path radius\n",
    "#\n",
    "# Example usage: \n",
    "#         vabs_tab=calc_abs_2D(vx_tab, vy_tab)\n",
    "#         at_tab, ac_tab=calc_acc_components_2D(vx_tab, vy_tab, ax_tab, ay_tab)\n",
    "#         Rinv_tab=calc_Rinv(vabs_tab, ac_tab)\n",
    "    "
   ]
  },
  {
   "cell_type": "markdown",
   "metadata": {},
   "source": [
    "## Example for plotting x, v, a functions"
   ]
  },
  {
   "cell_type": "code",
   "execution_count": null,
   "metadata": {},
   "outputs": [],
   "source": [
    "# !!! THIS WILL WORK ONLY IF YOU HAVE t_tab[], x_tab[], v_tab[], a_tab[] lists filled with data!\n",
    "\n",
    "# It is a simple example of plotting. \n",
    "# Use the copy of it and change intelligently to plot what you want. \n",
    "# Sometimes just putting and deleting '#' character for deactivating or activating sepcific parts is enough\n",
    "\n",
    "t_range=[2.0, 3.0]    # for a specific range\n",
    "\n",
    "# initialize plot routine\n",
    "fig=plt.figure(figsize=(20,15))  # plot size\n",
    "\n",
    "# position of three sub-graphs\n",
    "ax1=fig.add_subplot(311) \n",
    "ax2=fig.add_subplot(312)\n",
    "ax3=fig.add_subplot(313)\n",
    "\n",
    "# setting of horizontal axes\n",
    "for ax in [ax1, ax2, ax3]:\n",
    "    ax.set_xlabel(\"t\") # set the label\n",
    "    #ax.set_xlim(t_range) # set the min and max values; comment it out if neccessary\n",
    "    ax.grid()    # draw a grey grid \n",
    "\n",
    "# content of graphs\n",
    "ax1.set_ylabel(\"x(t)\")\n",
    "ax1.plot(t_tab, x_tab, color=\"red\") # x(t) with red\n",
    "ax2.set_ylabel(\"v(t)\")\n",
    "ax2.plot(t_tab, v_tab, color=\"green\") # v(t) with green\n",
    "ax3.set_ylabel(\"a(t)\")\n",
    "ax3.plot(t_tab, a_tab, color=\"blue\") # a(t) with blue\n",
    "\n",
    "# plt.savefig(\"xva-graphs.png\") # comment it out if you want to save to a file"
   ]
  }
 ],
 "metadata": {
  "kernelspec": {
   "display_name": "Python 3 (ipykernel)",
   "language": "python",
   "name": "python3"
  },
  "language_info": {
   "codemirror_mode": {
    "name": "ipython",
    "version": 3
   },
   "file_extension": ".py",
   "mimetype": "text/x-python",
   "name": "python",
   "nbconvert_exporter": "python",
   "pygments_lexer": "ipython3",
   "version": "3.10.12"
  }
 },
 "nbformat": 4,
 "nbformat_minor": 2
}
