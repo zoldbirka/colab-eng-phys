{
 "cells": [
  {
   "cell_type": "markdown",
   "metadata": {},
   "source": [
    "This Jupyter Notebook file is a template for 2D kinematics calculation.\n",
    "\n",
    "It assumes we have time, position, velocity and acceleration data in tables (Python lists) and performs approximate calculations. \n",
    "\n",
    "\"Definitions\" section contains definitions of methods for kinematics calculations. Students of the \"Engineering Physics\" course don't have to understand the details because it uses some \"advanced\" Python knowledge.\n",
    "\n",
    "\"Examples\" section shows examples of how to use these routines. This part assumes only basic Python knowledge, an understanding of the concepts of kinematics and intelligent usage of the functions defined in the \"Definitios\" section."
   ]
  },
  {
   "cell_type": "code",
   "execution_count": 1,
   "metadata": {},
   "outputs": [],
   "source": [
    "# importing modules\n",
    "import math   # math functions\n",
    "import matplotlib.pyplot as plt  # graph plot\n",
    "%matplotlib inline    "
   ]
  },
  {
   "cell_type": "markdown",
   "metadata": {},
   "source": [
    "# Definitions"
   ]
  },
  {
   "cell_type": "markdown",
   "metadata": {},
   "source": [
    "You have to understand what the functions do, but it is not neccessary to go into the details or change them."
   ]
  },
  {
   "cell_type": "markdown",
   "metadata": {},
   "source": [
    "## Summary"
   ]
  },
  {
   "cell_type": "markdown",
   "metadata": {},
   "source": [
    "(Just for help)\n",
    "\n",
    "Mathematical functions:\n",
    "* deriv(xx_tab, ff_tab)\n",
    "* integral(xx_tab, ff_tab, F0=0.0)\n",
    "\n",
    "Useful Python functions\n",
    "* fill_list_series(value_0, value_max, delta_value)\n",
    "* calc_func_list(value_list, func)\n",
    "* find_ind(tab, value)\n",
    "* find_max_ind(tab)\n",
    "* find_min_ind(tab)\n",
    "\n",
    "1D:\n",
    "Displacement and distance covered:\n",
    "* calc_displacement_1D(x_tab)\n",
    "* calc_distance_covered_1D(x_tab)\n",
    "\n",
    "2D:\n",
    "* calc_abs_2D(xc_tab, yc_tab)\n",
    "* calc_displacement_2D(x_tab, y_tab)\n",
    "* calc_distance_covered_2D(x_tab, y_tab)"
   ]
  },
  {
   "cell_type": "markdown",
   "metadata": {},
   "source": [
    "## Mathematical methods"
   ]
  },
  {
   "cell_type": "code",
   "execution_count": 2,
   "metadata": {},
   "outputs": [],
   "source": [
    "# Approximate derivative calculation\n",
    "\n",
    "def deriv(xx_tab, ff_tab):  # general math formalism: the function is f(x)\n",
    "    N = len(xx_tab)    # size of array\n",
    "    dff_dxx = [0.0]*N  # array of derivatives\n",
    "    \n",
    "    dff_dxx[0] = (ff_tab[1]-ff_tab[0])/(xx_tab[1]-xx_tab[0])  # first element\n",
    "    dff_dxx[N-1] = (ff_tab[N-1]-ff_tab[N-2])/(xx_tab[N-1]-xx_tab[N-2]) # last element\n",
    "        \n",
    "    for i in range(1, N-1):  # middle elements\n",
    "        dff_dxx[i] = (ff_tab[i+1]-ff_tab[i-1])/(xx_tab[i+1]-xx_tab[i-1])\n",
    "        \n",
    "    # corrections at the edges\n",
    "    dff_dxx[0] = 2*dff_dxx[0] - dff_dxx[1]  \n",
    "    dff_dxx[N-1] = 2*dff_dxx[N-1]-dff_dxx[N-2]\n",
    "    return(dff_dxx)\n",
    "\n",
    "# Usage:\n",
    "# input: xx_tab, ff_tab : two list of floats with the same length\n",
    "#        xx_tab: list of values, usually with a constant delta_x step size, \n",
    "#                example: xx_tab=[0.0, 0.1, 0.2, 0.3, ...]\n",
    "#        ff_tab: values of a function f(x) at the values of xx_tab\n",
    "#                example: ff_tab=[f(0.0), f(0.1), f(0.2), ...]\n",
    "# output: dff_xx: approximate derivative of f(x) at the points of xx_tab:\n",
    "#                dff_xx=[df/dx(x=0.0), df/dx(x=0.1), df/dx(x=0.2), ...]\n",
    "#\n",
    "# Example usage: calculating velocity from position data.\n",
    "#                vx_tab=deriv(t_tab, x_tab)"
   ]
  },
  {
   "cell_type": "code",
   "execution_count": 3,
   "metadata": {},
   "outputs": [],
   "source": [
    "# Approximate integral calculation\n",
    "\n",
    "def integral(xx_tab, ff_tab, F0 = 0.0):  # F0: start value\n",
    "    N = len(xx_tab)     # size of the array\n",
    "    intff = [0.0]*N     # array for integral values\n",
    "    intff[0] = F0       # start value\n",
    "    for i in range(1, N):\n",
    "        intff[i] = intff[i-1]+(xx_tab[i]-xx_tab[i-1])*(ff_tab[i]+ff_tab[i-1])/2.0\n",
    "    return(intff)\n",
    "\n",
    "# Usage:\n",
    "# input: xx_tab, ff_tab: two list of floats with the same length\n",
    "#        xx_tab: list of values, usually with a constant delta_x step size, \n",
    "#                example: xx_tab=[0.0, 0.1, 0.2, 0.3, ...]\n",
    "#        ff_tab: values of a function f(x) at the values of xx_tab\n",
    "#                example: ff_tab=[f(0.0), f(0.1), f(0.2), ...]\n",
    "#        F0: float value\n",
    "#               initial value of integral\n",
    "# output: intff : approximate integral of f(x) function given in the lists with F0 initial value.\n",
    "#        intff = [F0, F0+∫_0.0^0.1 f(x) dx,  F0+∫_0.0^0.2 f(x) dx, ....]\n",
    "#\n",
    "# Example usage: calculating position from velocity and original position data.\n",
    "#                x_tab=integral(t_tab, vx_tab, x0)"
   ]
  },
  {
   "cell_type": "markdown",
   "metadata": {},
   "source": [
    "## Useful Python functions"
   ]
  },
  {
   "cell_type": "code",
   "execution_count": null,
   "metadata": {},
   "outputs": [],
   "source": [
    "# Fill a list with a series of numbers\n",
    "\n",
    "def fill_list_series(value_0, value_max, delta_value):\n",
    "    series = [] # start with empty list\n",
    "    value=value_0\n",
    "    i = 0\n",
    "    while (value <= value_max + delta_value/100):\n",
    "        value = value_0+i*delta_value\n",
    "        series.append(value)\n",
    "        i+=1\n",
    "        \n",
    "    return series\n",
    "\n",
    "# Usage:\n",
    "# input: value_0, value_max, delta_value: floating point numbers\n",
    "# output: series: list of floats\n",
    "#         series=[value_0, value_0+1*delta_value, value_0+2*delta_value, ...]\n",
    "#\n",
    "# Example usage: fill table of time values.\n",
    "#                t_tab=fill_list_series(0.0, 10.0, 0.1)\n",
    "#             output: t_tab=[0.0, 0.1, 0.2, .... , 9.9, 10.0]"
   ]
  },
  {
   "cell_type": "code",
   "execution_count": null,
   "metadata": {},
   "outputs": [],
   "source": [
    "# Calculate function for every element of a list\n",
    "\n",
    "def calc_func_list(value_list, func):\n",
    "    \n",
    "    f_list=[] # start with empty list\n",
    "    \n",
    "    for value in value_list:   # loop over the list\n",
    "        f_list.append(func(value))  # add a new element to the result list\n",
    "    \n",
    "    return f_list\n",
    "\n",
    "# Usage:\n",
    "# input: value_list: list of floats\n",
    "#        func : a function name\n",
    "# output: f_list: list of floats\n",
    "#         f_list=[func(value_list[0]), func(value_list[1]), func(value_list[2]), ... ]\n",
    "#\n",
    "#  Example usage: fill a table for a function \n",
    "#          x_tab=calc_func_list(t_tab, math.sin)\n",
    "#        output=[math.sin(t_tab[0]), math.sin(t_tab[1]), math.sin(t_tab[2]), ...]"
   ]
  },
  {
   "cell_type": "code",
   "execution_count": null,
   "metadata": {},
   "outputs": [],
   "source": [
    "# find index in a table (list), where a specific value is reached\n",
    "\n",
    "def find_ind(tab, value):\n",
    "    ind_list = []  # list of index values, where value is between tab[ind] and tab[ind+1]\n",
    "    for ind in range(len(tab)-1):\n",
    "        if (tab[ind] == value):\n",
    "            ind_list.append(ind)\n",
    "        elif (tab[ind] < value) and (tab[ind+1] > value):   # reach value from small values:\n",
    "            ind_list.append(ind)\n",
    "        elif (tab[ind] > value) and (tab[ind+1] < value):   # reach x_search from large values:\n",
    "            ind_list.append(ind)\n",
    "            \n",
    "    return ind_list\n",
    "\n",
    "# Usage:\n",
    "# input: tab: list of floats\n",
    "#        value: value to search in tab\n",
    "# output: ind_list: list of integers\n",
    "#         for every element 'ind' of ind_list we know, that value is between tab[ind] nad tab[ind+1]\n",
    "#\n",
    "# Examle usage: find the place in the position list, where the body reached a specific postition\n",
    "#         reached_10m=find_int(x_tab, 10.0)\n",
    "#      After this reached_10m will contain the index values where x_tab contains 10.0\n",
    "#      This list can be empty, contain 1 or more elements."
   ]
  },
  {
   "cell_type": "code",
   "execution_count": null,
   "metadata": {},
   "outputs": [],
   "source": [
    "# find index of maximum value in table\n",
    "\n",
    "def find_max_ind(tab):\n",
    "    ind_max = 0\n",
    "    value_max = tab[ind_max]\n",
    "    \n",
    "    for ind in range(1,len(tab)):\n",
    "        value = tab[ind]\n",
    "        if value > value_max:   # new maximum found\n",
    "            value_max = value\n",
    "            ind_max = ind\n",
    "            \n",
    "    return ind_max\n",
    "\n",
    "# Usage:\n",
    "# input: tab: list of floats\n",
    "# output: ind_max: integer\n",
    "#         tab[ind_max] is the (first) maximum of tab values\n",
    "#\n",
    "# Example usage: find maximum position during a motion.\n",
    "#         ind_top=find_max(x_tab)\n",
    "#\n",
    "# Note: This is the index, not the maximum value! x_top=x_tab[ind_top]"
   ]
  },
  {
   "cell_type": "code",
   "execution_count": null,
   "metadata": {},
   "outputs": [],
   "source": [
    "# find index of minimum value in table\n",
    "\n",
    "def find_min_ind(tab):\n",
    "    ind_min = 0\n",
    "    value_min = tab[ind_min]\n",
    "    \n",
    "    for ind in range(1,len(tab)):\n",
    "        value = tab[ind]\n",
    "        if value < value_min:   # new minimum found\n",
    "            value_min = value\n",
    "            ind_min = ind\n",
    "            \n",
    "    return ind_min\n",
    "\n",
    "# Usage:\n",
    "# The same as find_max_ind"
   ]
  },
  {
   "cell_type": "markdown",
   "metadata": {},
   "source": [
    "# 1D special functions"
   ]
  },
  {
   "cell_type": "markdown",
   "metadata": {},
   "source": [
    "## Displacement and distance covered 1D"
   ]
  },
  {
   "cell_type": "code",
   "execution_count": 9,
   "metadata": {},
   "outputs": [],
   "source": [
    "# calculate displacement from the beginning, assuming 1D motion\n",
    "\n",
    "def calc_displacement_1D(x_tab):\n",
    "    N = len(x_tab)     # size of the array\n",
    "    displ_tab = [0.0]*N  \n",
    "    for i in range(1,N):\n",
    "        displ_tab[i] = x_tab[i]-x_tab[0]\n",
    "        \n",
    "    return displ_tab\n",
    "        \n",
    "# Usage:\n",
    "# input: x_tab\n",
    "#        table of x coordinates\n",
    "# output: displ_tab \n",
    "#         table of displacements relative to the start point\n",
    "#\n",
    "# Example usage: calculate displacement from the start point\n",
    "#         displ_tab=calc_displacement(x_tab)"
   ]
  },
  {
   "cell_type": "code",
   "execution_count": 10,
   "metadata": {},
   "outputs": [],
   "source": [
    "# calculate distance covered from the beginning, assuming 1D motion\n",
    "\n",
    "def calc_distance_covered_1D(x_tab):\n",
    "    N = len(x_tab)     # size of the array\n",
    "    distcov_tab = [0.0]*N  \n",
    "    for i in range(1,N):\n",
    "        distcov_tab[i] = distcov_tab[i-1]+abs(x_tab[i]-x_tab[i-1])\n",
    "        \n",
    "    return distcov_tab\n",
    "\n",
    "# Usage:\n",
    "# input: x_tab\n",
    "#        table of x coordinates\n",
    "# output: distcov_tab \n",
    "#         table of total distance covered from the start point\n",
    "#\n",
    "# Example usage: calculate distance coevered from the start point\n",
    "#         dist_tab=calc_distance_coveredt(x_tab)"
   ]
  },
  {
   "cell_type": "markdown",
   "metadata": {},
   "source": [
    "# 2D special functions"
   ]
  },
  {
   "cell_type": "code",
   "execution_count": 11,
   "metadata": {},
   "outputs": [],
   "source": [
    "# calculate magnitude from two components\n",
    "\n",
    "def calc_abs_2D(xc_tab, yc_tab):\n",
    "    N = len(xc_tab)     # size of the array\n",
    "    abs_tab = [0.0]*N \n",
    "    \n",
    "    for i in range(N):\n",
    "        abs_tab[i] = (xc_tab[i]**2 + yc_tab[i]**2)**0.5\n",
    "        \n",
    "    return abs_tab\n",
    "\n",
    "# Usage:\n",
    "# input: xc_tab, yc_tab:\n",
    "#        x and y components of the vector\n",
    "#\n",
    "# Example usage: calculate speed from velocity components\n",
    "#        vabs_tab = calc_abs_2D(vx_tab, vy_tab)"
   ]
  },
  {
   "cell_type": "markdown",
   "metadata": {},
   "source": [
    "## Displacement and distance covered 2D"
   ]
  },
  {
   "cell_type": "code",
   "execution_count": 12,
   "metadata": {},
   "outputs": [],
   "source": [
    "# calculate displacement from the beginning, assuming 2D motion\n",
    "\n",
    "def calc_displacement_2D(x_tab, y_tab):\n",
    "   \n",
    "    displ_x_tab = calc_displacement_1D(x_tab)\n",
    "    displ_y_tab = calc_displacement_1D(y_tab)\n",
    "        \n",
    "    return displ_x_tab, displ_y_tab\n",
    "        \n",
    "# Usage:\n",
    "# input: x_tab, y_tab\n",
    "#        tables of x and y coordinates\n",
    "# output: displ_x_tab, displ_y_tab \n",
    "#         table of displacements relative to the start point\n",
    "#\n",
    "# Example usage: calculate displacement from the start point\n",
    "#         displ_x_tab, displ_y_tab = calc_displacement_2D(x_tab, y_tab)"
   ]
  },
  {
   "cell_type": "code",
   "execution_count": 13,
   "metadata": {},
   "outputs": [],
   "source": [
    "# calculate distance covered from the beginning, assuming 2D motion\n",
    "\n",
    "def calc_distance_covered_2D(x_tab, y_tab):\n",
    "    N = len(x_tab)     # size of the array\n",
    "    distcov_tab = [0.0]*N  \n",
    "    for i in range(1, N):\n",
    "        delta_x = x_tab[i]-x_tab[i-1]\n",
    "        delta_y = y_tab[i]-y_tab[i-1]\n",
    "        distcov_tab[i] = distcov_tab[i-1] + (delta_x**2+delta_y**2)**0.5\n",
    "        \n",
    "    return distcov_tab\n",
    "\n",
    "# Usage:\n",
    "# input: x_tab, y_tab\n",
    "#        table of x and y coordinates\n",
    "# output: distcov_tab \n",
    "#         table of total distance covered from the start point\n",
    "#\n",
    "# Example usage: calculate distance coevered from the start point\n",
    "#         dist_tab = calc_distance_covered_2D(x_tab,y_tab)"
   ]
  },
  {
   "cell_type": "markdown",
   "metadata": {},
   "source": [
    "## Acceleration components and local radius"
   ]
  },
  {
   "cell_type": "code",
   "execution_count": 14,
   "metadata": {},
   "outputs": [],
   "source": [
    "# calculate tangential and centripetal accelerations\n",
    "\n",
    "def calc_acc_components_2D(vx_tab, vy_tab, ax_tab, ay_tab):\n",
    "    \n",
    "    N=len(vx_tab)\n",
    "    at_tab=[0.0]*N\n",
    "    ac_tab=[0.0]*N\n",
    "    \n",
    "    for i in range(N):\n",
    "        vx=vx_tab[i]\n",
    "        vy=vy_tab[i]\n",
    "        ax=ax_tab[i]\n",
    "        ay=ay_tab[i]\n",
    "        v_abs=(vx**2+vy**2)**0.5\n",
    "        \n",
    "        if v_abs<1e-10:  # too slow motion, probably no motion\n",
    "            at=(ax**2+ay**2)**0.5\n",
    "            ac=0.0\n",
    "        else:\n",
    "            at=(ax*vx+ay*vy)/v_abs\n",
    "            ac=(ax*vy-ay*vx)/v_abs\n",
    "            \n",
    "        at_tab[i]=at\n",
    "        ac_tab[i]=ac\n",
    "        \n",
    "    return at_tab, ac_tab\n",
    "        \n",
    "# Usage:\n",
    "# input: vx_tab, vy_tab, ax_tab, ay_tab\n",
    "#        tables of velocity and acceleration components\n",
    "# output: at_tab, ac_tab\n",
    "#         tables of tangential and centripetal acceleration components\n",
    "#\n",
    "# Example usage: \n",
    "#         at_tab, ac_tab=calc_acc_components_2D(vx_tab, vy_tab, ax_tab, ay_tab)"
   ]
  },
  {
   "cell_type": "code",
   "execution_count": 15,
   "metadata": {},
   "outputs": [],
   "source": [
    "# calculate inverse of local radius from centripetal acceleration and velocity magnitude\n",
    "# we calculate 1/R instead R, because in linear motion R=infinity, but 1/R=0, formally\n",
    "\n",
    "def calc_Rinv(vabs_tab, ac_tab):\n",
    "    N=len(vabs_tab)\n",
    "    Rinv_tab=[0.0]*N\n",
    "    \n",
    "    for i in range(N):\n",
    "        if vabs_tab[i]<1e-10:  # too slow motion, probably no motion\n",
    "            Rinv_tab=0.0\n",
    "        else:\n",
    "            Rinv_tab[i]=ac_tab[i]/vabs_tab[i]**2\n",
    "            \n",
    "    return Rinv_tab\n",
    "\n",
    "# Usage:\n",
    "# input: vabs_tab, ac_tab\n",
    "#        tables of velocity magnitude and centripetal acceleration\n",
    "# output: Rinv_tab\n",
    "#         table of ineverse of local path radius\n",
    "#\n",
    "# Example usage: \n",
    "#         vabs_tab=calc_abs_2D(vx_tab, vy_tab)\n",
    "#         at_tab, ac_tab=calc_acc_components_2D(vx_tab, vy_tab, ax_tab, ay_tab)\n",
    "#         Rinv_tab=calc_Rinv(vabs_tab, ac_tab)\n",
    "    "
   ]
  },
  {
   "cell_type": "markdown",
   "metadata": {},
   "source": [
    "## Example for plotting x, v, a functions"
   ]
  },
  {
   "cell_type": "code",
   "execution_count": null,
   "metadata": {},
   "outputs": [],
   "source": [
    "# !!! THIS WILL WORK ONLY IF YOU HAVE t_tab[], x_tab[], v_tab[], a_tab[] lists filled with data!\n",
    "\n",
    "# It is a simple example of plotting. \n",
    "# Use the copy of it and change intelligently to plot what you want. \n",
    "# Sometimes just putting and deleting '#' character for deactivating or activating sepcific parts is enough\n",
    "\n",
    "t_range=[2.0, 3.0]    # for a specific range\n",
    "\n",
    "# initialize plot routine\n",
    "fig=plt.figure(figsize=(20,15))  # plot size\n",
    "\n",
    "# position of three sub-graphs\n",
    "ax1=fig.add_subplot(311) \n",
    "ax2=fig.add_subplot(312)\n",
    "ax3=fig.add_subplot(313)\n",
    "\n",
    "# setting of horizontal axes\n",
    "for ax in [ax1, ax2, ax3]:\n",
    "    ax.set_xlabel(\"t\") # set the label\n",
    "    #ax.set_xlim(t_range) # set the min and max values; comment it out if neccessary\n",
    "    ax.grid()    # draw a grey grid \n",
    "\n",
    "# content of graphs\n",
    "ax1.set_ylabel(\"x(t)\")\n",
    "ax1.plot(t_tab, x_tab, color=\"red\") # x(t) with red\n",
    "ax2.set_ylabel(\"v(t)\")\n",
    "ax2.plot(t_tab, v_tab, color=\"green\") # v(t) with green\n",
    "ax3.set_ylabel(\"a(t)\")\n",
    "ax3.plot(t_tab, a_tab, color=\"blue\") # a(t) with blue\n",
    "\n",
    "# plt.savefig(\"xva-graphs.png\") # comment it out if you want to save to a file"
   ]
  },
  {
   "cell_type": "markdown",
   "metadata": {},
   "source": [
    "# Examples"
   ]
  },
  {
   "cell_type": "markdown",
   "metadata": {},
   "source": [
    "## Ball motion with no air resistance"
   ]
  },
  {
   "cell_type": "markdown",
   "metadata": {},
   "source": [
    "Problem:\n",
    "\n",
    "We throw a ball from a $h=20$ m height building with initial speed of $v_0=18$ m/s and inital angle (form the horizontal direction) of $\\alpha=16$° .\n",
    "\n",
    "* Where will the ball hit the ground?\n",
    "* What will be the impact speed?\n",
    "* How long did it take to reach the ground?\n",
    "* What was the maximum height of this ball during the motion?\n",
    "* What is the path length from the start to the impact?\n",
    "* If there is another building at 25 m distance, where will the ball hit it?"
   ]
  },
  {
   "cell_type": "markdown",
   "metadata": {},
   "source": [
    "## Zeroth step: set the coordinate system\n",
    "\n",
    "Origin on the ground below the start point.\n",
    "\n",
    "x points horizontally in the direction of initial velocity.\n",
    "\n",
    "y point upwards."
   ]
  },
  {
   "cell_type": "markdown",
   "metadata": {},
   "source": [
    "## First step: calculate $x(t)$ and $y(t)$"
   ]
  },
  {
   "cell_type": "code",
   "execution_count": 17,
   "metadata": {},
   "outputs": [],
   "source": [
    "v0=18.0\n",
    "alpha_deg=16.0\n",
    "h=20.0\n",
    "\n",
    "g=9.81\n",
    "g=9.81\n",
    "#------------\n",
    "alpha=math.radians(alpha_deg)\n",
    "vx0=v0*math.cos(alpha)\n",
    "vy0=v0*math.sin(alpha)\n",
    "x0=0.0\n",
    "y0=h\n",
    "\n",
    "# my x(t) and y(t) functions\n",
    "def my_xt(t):\n",
    "    return vx0*t\n",
    "\n",
    "\n",
    "def my_yt(t):\n",
    "    return y0 + vy0*t -g/2*t**2\n"
   ]
  },
  {
   "cell_type": "code",
   "execution_count": 18,
   "metadata": {},
   "outputs": [],
   "source": [
    "# Let's define the time values:\n",
    "t_tab=fill_list_series(0.0, 5.0, 0.001)  # fill_list_series : see in \"Definitions\" section\n",
    "N=len(t_tab) # Number of time values\n",
    "\n",
    "# t_max=5.0 is a guess. Maybe, we have to increase it, if the body did not touch the ground."
   ]
  },
  {
   "cell_type": "code",
   "execution_count": 19,
   "metadata": {},
   "outputs": [],
   "source": [
    "# Let's calculate the x,y values:\n",
    "x_tab=calc_func_list(t_tab, my_xt)   # calc_func_list : see in \"Definitions\" section\n",
    "y_tab=calc_func_list(t_tab, my_yt) "
   ]
  },
  {
   "cell_type": "code",
   "execution_count": 20,
   "metadata": {},
   "outputs": [],
   "source": [
    "vx_tab=deriv(t_tab, x_tab)  # calculate velocity from position\n",
    "vy_tab=deriv(t_tab, y_tab)"
   ]
  },
  {
   "cell_type": "code",
   "execution_count": 21,
   "metadata": {},
   "outputs": [],
   "source": [
    "ax_tab=deriv(t_tab, vx_tab)  # calculate acceleration from velocity\n",
    "ay_tab=deriv(t_tab, vy_tab)"
   ]
  },
  {
   "cell_type": "code",
   "execution_count": 22,
   "metadata": {},
   "outputs": [
    {
     "name": "stdout",
     "output_type": "stream",
     "text": [
      "x: [0.0, 0.01730271052688974, 0.03460542105377948, 0.051908131580669224, 0.06921084210755896]\n",
      "y: [20.0, 20.004956567404705, 20.00990332480941, 20.01484027221412, 20.019767409618826]\n",
      "vx: [17.30271052688974, 17.30271052688974, 17.302710526889744, 17.30271052688974, 17.302710526889737]\n",
      "vy: [4.961472404703571, 4.951662404705459, 4.9418524047073475, 4.93204240470746, 4.922232404705795]\n"
     ]
    }
   ],
   "source": [
    "# print some values to check\n",
    "# Use the copy and change it intelligently\n",
    "\n",
    "print(\"x:\", x_tab[0:5])\n",
    "print(\"y:\", y_tab[0:5])\n",
    "print(\"vx:\", vx_tab[0:5])\n",
    "print(\"vy:\", vy_tab[0:5])"
   ]
  },
  {
   "cell_type": "code",
   "execution_count": 23,
   "metadata": {},
   "outputs": [
    {
     "data": {
      "text/plain": [
       "[<matplotlib.lines.Line2D at 0x7f7a0017da80>]"
      ]
     },
     "execution_count": 23,
     "metadata": {},
     "output_type": "execute_result"
    },
    {
     "data": {
      "image/png": "[encoded data removed]",
      "text/plain": [
       "<Figure size 2000x1500 with 3 Axes>"
      ]
     },
     "metadata": {},
     "output_type": "display_data"
    }
   ],
   "source": [
    "# It is a simple example of plotting. \n",
    "# Use the copy of it and change intelligently to plot what you want. \n",
    "# Sometimes just putting and deleting '#' character for deactivating or activating sepcific parts is enough\n",
    "\n",
    "t_range=[0.0, 3.0]    # for a specific range. PLAY WITH END TIME!\n",
    "\n",
    "# initialize plot routine\n",
    "fig=plt.figure(figsize=(20,15))  # plot size\n",
    "\n",
    "# position of three sub-graphs\n",
    "ax1=fig.add_subplot(311) \n",
    "ax2=fig.add_subplot(312)\n",
    "ax3=fig.add_subplot(313)\n",
    "\n",
    "# setting of horizontal axes\n",
    "for ax in [ax1, ax2, ax3]:\n",
    "    ax.set_xlabel(\"t\") # set the label\n",
    "    ax.set_xlim(t_range) # set the min and max values; comment it out if neccessary\n",
    "    ax.grid()    # draw a grey grid \n",
    "\n",
    "# content of graphs\n",
    "ax1.set_ylabel(\"postion\")\n",
    "ax1.plot(t_tab, x_tab, color=\"red\") # x(t) with red\n",
    "ax1.plot(t_tab, y_tab, color=\"orange\") # y(t) with orange\n",
    "ax2.set_ylabel(\"velocity\")\n",
    "ax2.plot(t_tab, vx_tab, color=\"green\") # vx(t) with green\n",
    "ax2.plot(t_tab, vy_tab, color=\"cyan\") # vy(t) with cyan\n",
    "ax3.set_ylabel(\"acceleration\")\n",
    "ax3.plot(t_tab, ax_tab, color=\"blue\") # ax(t) with blue\n",
    "ax3.plot(t_tab, ay_tab, color=\"magenta\") # ay(t) with magenta\n",
    "\n",
    "# plt.savefig(....)"
   ]
  },
  {
   "cell_type": "markdown",
   "metadata": {},
   "source": [
    "Find the time, when the body touched the ground on the graph!"
   ]
  },
  {
   "cell_type": "code",
   "execution_count": 24,
   "metadata": {},
   "outputs": [
    {
     "data": {
      "text/plain": [
       "[<matplotlib.lines.Line2D at 0x7f79f3785750>]"
      ]
     },
     "execution_count": 24,
     "metadata": {},
     "output_type": "execute_result"
    },
    {
     "data": {
      "image/png": "[encoded data removed]",
      "text/plain": [
       "<Figure size 2000x1500 with 1 Axes>"
      ]
     },
     "metadata": {},
     "output_type": "display_data"
    }
   ],
   "source": [
    "# Plot the path in x-y plane\n",
    "\n",
    "fig=plt.figure(figsize=(20,15))  # plot size\n",
    "\n",
    "# position of three sub-graphs\n",
    "ax1=fig.add_subplot(111) \n",
    "\n",
    "ax1.set_xlabel(\"x\") # set the label\n",
    "ax1.set_ylabel(\"y\") # set the label\n",
    "ax1.grid()    # draw a grey grid \n",
    "\n",
    "# content of graphs\n",
    "\n",
    "ax1.plot(x_tab, y_tab, color=\"red\")   # plot y over x\n"
   ]
  },
  {
   "cell_type": "markdown",
   "metadata": {},
   "source": [
    "## Where will the ball hit the ground?\n",
    "## What will be the impact speed?\n",
    "## How long did it take to reach the ground?"
   ]
  },
  {
   "cell_type": "code",
   "execution_count": 25,
   "metadata": {},
   "outputs": [],
   "source": [
    "# find the meaning of \"hit the ground:\"\n",
    "#  y=0 (in this coordinate system)\n",
    "\n",
    "impact_ind=find_ind(y_tab, 0.0)"
   ]
  },
  {
   "cell_type": "code",
   "execution_count": 26,
   "metadata": {},
   "outputs": [
    {
     "name": "stdout",
     "output_type": "stream",
     "text": [
      "Number of solutions: 1\n"
     ]
    }
   ],
   "source": [
    "print(\"Number of solutions: %d\"%len(impact_ind))"
   ]
  },
  {
   "cell_type": "code",
   "execution_count": 27,
   "metadata": {},
   "outputs": [
    {
     "name": "stdout",
     "output_type": "stream",
     "text": [
      "Solution #: 0\n",
      "   x postion of the impact: 44.76 m\n",
      "   speed     of the impact: 26.76 m/s\n",
      "   time      of the impact:  2.59 s\n"
     ]
    }
   ],
   "source": [
    "vabs_tab=calc_abs_2D(vx_tab, vy_tab)\n",
    "\n",
    "\n",
    "for i in range(len(impact_ind)):\n",
    "    print(\"Solution #: %d\"%i)\n",
    "    # impact position: x at impact (y=0)\n",
    "    print(\"   x postion of the impact: %5.2f m\"%x_tab[impact_ind[i]])\n",
    "    # impact speed: vabs at impact \n",
    "    print(\"   speed     of the impact: %5.2f m/s\"%vabs_tab[impact_ind[i]])\n",
    "    # impact time: t at impact\n",
    "    print(\"   time      of the impact: %5.2f s\"%t_tab[impact_ind[i]])\n"
   ]
  },
  {
   "cell_type": "markdown",
   "metadata": {},
   "source": [
    "## What was the maximum height of this ball during the motion?"
   ]
  },
  {
   "cell_type": "code",
   "execution_count": 28,
   "metadata": {},
   "outputs": [],
   "source": [
    "# maximum height = y has a maximum\n",
    "\n",
    "maxheight_ind=find_max_ind(y_tab)"
   ]
  },
  {
   "cell_type": "code",
   "execution_count": 29,
   "metadata": {},
   "outputs": [
    {
     "name": "stdout",
     "output_type": "stream",
     "text": [
      "Maximum height: 21.25 m\n"
     ]
    }
   ],
   "source": [
    "print(\"Maximum height: %5.2f m\"%y_tab[maxheight_ind])"
   ]
  },
  {
   "cell_type": "code",
   "execution_count": 30,
   "metadata": {},
   "outputs": [
    {
     "name": "stdout",
     "output_type": "stream",
     "text": [
      "Time    at maximum height:  0.51 s\n",
      "X-coord at maximum height:  8.76 m\n",
      "Speed   at maximum height: 17.30 m/s\n"
     ]
    }
   ],
   "source": [
    "# additional information:\n",
    "\n",
    "print(\"Time    at maximum height: %5.2f s\"%t_tab[maxheight_ind])\n",
    "print(\"X-coord at maximum height: %5.2f m\"%x_tab[maxheight_ind])\n",
    "print(\"Speed   at maximum height: %5.2f m/s\"%vabs_tab[maxheight_ind])"
   ]
  },
  {
   "cell_type": "markdown",
   "metadata": {},
   "source": [
    "## What is the path length from the start to the impact?"
   ]
  },
  {
   "cell_type": "code",
   "execution_count": 31,
   "metadata": {},
   "outputs": [],
   "source": [
    "# calculate distance covered:\n",
    "\n",
    "dist_tab=calc_distance_covered_2D(x_tab, y_tab)"
   ]
  },
  {
   "cell_type": "code",
   "execution_count": 32,
   "metadata": {},
   "outputs": [
    {
     "name": "stdout",
     "output_type": "stream",
     "text": [
      "Path length to the impact: 52.03 m\n"
     ]
    }
   ],
   "source": [
    "print(\"Path length to the impact: %5.2f m\"%(dist_tab[impact_ind[0]]))"
   ]
  },
  {
   "cell_type": "markdown",
   "metadata": {},
   "source": [
    "## If there is another building at 25 m distance, where will the ball hit it?"
   ]
  },
  {
   "cell_type": "code",
   "execution_count": 33,
   "metadata": {},
   "outputs": [],
   "source": [
    "# other building : x=25"
   ]
  },
  {
   "cell_type": "code",
   "execution_count": 34,
   "metadata": {},
   "outputs": [
    {
     "name": "stdout",
     "output_type": "stream",
     "text": [
      "[1444]\n"
     ]
    }
   ],
   "source": [
    "otherbuilding_ind=find_ind(x_tab, 25.0)\n",
    "\n",
    "print(otherbuilding_ind)"
   ]
  },
  {
   "cell_type": "code",
   "execution_count": 35,
   "metadata": {},
   "outputs": [
    {
     "name": "stdout",
     "output_type": "stream",
     "text": [
      "The ball will hit the other buildn at 16.94 m height.\n"
     ]
    }
   ],
   "source": [
    "# 1 solution! OK!\n",
    "\n",
    "print(\"The ball will hit the other buildn at %5.2f m height.\"%(y_tab[otherbuilding_ind[0]]))"
   ]
  },
  {
   "cell_type": "markdown",
   "metadata": {},
   "source": [
    "# Other approach: start from acceleration"
   ]
  },
  {
   "cell_type": "code",
   "execution_count": 36,
   "metadata": {},
   "outputs": [],
   "source": [
    "v0=18.0\n",
    "alpha_deg=16.0\n",
    "h=20.0\n",
    "\n",
    "g=9.81\n",
    "#------------\n",
    "alpha=math.radians(alpha_deg)\n",
    "vx0=v0*math.cos(alpha)\n",
    "vy0=v0*math.sin(alpha)\n",
    "x0=0.0\n",
    "y0=h\n",
    "\n",
    "\n",
    "# my ax(t) and ay(t) functions\n",
    "def my_axt(t):\n",
    "    return 0.0\n",
    "\n",
    "def my_ayt(t):\n",
    "    return -g\n"
   ]
  },
  {
   "cell_type": "code",
   "execution_count": 37,
   "metadata": {},
   "outputs": [],
   "source": [
    "# Let's define the time values:\n",
    "# Use t2, a2, ... to not overwirite the prevoius results\n",
    "\n",
    "t2_tab=fill_list_series(0.0, 5.0, 0.001)  # fill_list_series : see in \"Definitions\" section\n",
    "N=len(t2_tab) # Number of time values\n",
    "\n",
    "\n",
    "# calculate accelerations\n",
    "ax2_tab=calc_func_list(t_tab, my_axt)   # calc_func_list : see in \"Definitions\" section\n",
    "ay2_tab=calc_func_list(t_tab, my_ayt) "
   ]
  },
  {
   "cell_type": "code",
   "execution_count": 38,
   "metadata": {},
   "outputs": [],
   "source": [
    "# a --> v --> x\n",
    "\n",
    "vx2_tab=integral(t2_tab, ax2_tab, vx0)  # don't forget initial velocity!\n",
    "vy2_tab=integral(t2_tab, ay2_tab, vy0)\n",
    "\n",
    "x2_tab=integral(t2_tab, vx2_tab, x0)\n",
    "y2_tab=integral(t2_tab, vy2_tab, y0)\n"
   ]
  },
  {
   "cell_type": "code",
   "execution_count": 39,
   "metadata": {},
   "outputs": [],
   "source": [
    "# Theoretically x_tab = x2_tab, etc."
   ]
  },
  {
   "cell_type": "code",
   "execution_count": 40,
   "metadata": {},
   "outputs": [
    {
     "name": "stdout",
     "output_type": "stream",
     "text": [
      "[1.7302710526889742, 1.7475737632158639, 1.7648764737427536, 1.7821791842696433, 1.7994818947965332, 1.8167846053234227, 1.8340873158503124, 1.851390026377202, 1.868692736904092, 1.8859954474309817]\n",
      "[1.7302710526889729, 1.7475737632158626, 1.7648764737427522, 1.782179184269642, 1.7994818947965316, 1.8167846053234211, 1.8340873158503108, 1.8513900263772005, 1.8686927369040902, 1.88599544743098]\n"
     ]
    }
   ],
   "source": [
    "print(x_tab[100:110])\n",
    "print(x2_tab[100:110])"
   ]
  },
  {
   "cell_type": "code",
   "execution_count": 41,
   "metadata": {},
   "outputs": [
    {
     "data": {
      "text/plain": [
       "[<matplotlib.lines.Line2D at 0x7f79f2530700>]"
      ]
     },
     "execution_count": 41,
     "metadata": {},
     "output_type": "execute_result"
    },
    {
     "data": {
      "image/png": "[encoded data removed]",
      "text/plain": [
       "<Figure size 2000x1500 with 1 Axes>"
      ]
     },
     "metadata": {},
     "output_type": "display_data"
    }
   ],
   "source": [
    "# Plot the two paths in x-y plane\n",
    "\n",
    "fig=plt.figure(figsize=(20,15))  # plot size\n",
    "\n",
    "# position of three sub-graphs\n",
    "ax1=fig.add_subplot(111) \n",
    "\n",
    "ax1.set_xlabel(\"x\") # set the label\n",
    "ax1.set_ylabel(\"y\") # set the label\n",
    "ax1.grid()    # draw a grey grid \n",
    "\n",
    "# content of graphs\n",
    "\n",
    "ax1.plot(x_tab, y_tab, color=\"red\")   # plot y over x\n",
    "ax1.plot(x2_tab, y2_tab, color=\"blue\")   # plot y over x"
   ]
  },
  {
   "cell_type": "code",
   "execution_count": 42,
   "metadata": {},
   "outputs": [],
   "source": [
    "# check the other problem solutions"
   ]
  },
  {
   "cell_type": "code",
   "execution_count": null,
   "metadata": {},
   "outputs": [],
   "source": []
  }
 ],
 "metadata": {
  "kernelspec": {
   "display_name": "Python 3 (ipykernel)",
   "language": "python",
   "name": "python3"
  },
  "language_info": {
   "codemirror_mode": {
    "name": "ipython",
    "version": 3
   },
   "file_extension": ".py",
   "mimetype": "text/x-python",
   "name": "python",
   "nbconvert_exporter": "python",
   "pygments_lexer": "ipython3",
   "version": "3.10.12"
  }
 },
 "nbformat": 4,
 "nbformat_minor": 2
}
