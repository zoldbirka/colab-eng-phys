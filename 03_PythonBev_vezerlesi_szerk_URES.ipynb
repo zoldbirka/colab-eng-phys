{
 "cells": [
  {
   "cell_type": "markdown",
   "metadata": {
    "id": "uKn5TiKO3LHs",
    "jp-MarkdownHeadingCollapsed": true,
    "tags": []
   },
   "source": [
    "# 3. alkalom: Vezérlési szerkezetek I.\n",
    "\n",
    "- Pythonban a vezérlési szerkezetek belsejét behúzással kell jelölni.\n",
    "- Ezt a behúzást a ```Tab``` billenytű lenyomásával érhetjük el\n",
    "- Emiatt garantált, hogy a program megjelenése és logikai jelentése összhangban van."
   ]
  },
  {
   "cell_type": "markdown",
   "metadata": {},
   "source": [
    "## for ciklus:\n",
    "\n",
    "- [for ciklus a Python dokumentációban](https://docs.python.org/3/reference/compound_stmts.html#the-for-statement)\n",
    "\n",
    "- Szintaxis:\n",
    "```\n",
    "  for ELEM in SZEKVENCIA:\n",
    "      UTASÍTÁS\n",
    "```"
   ]
  },
  {
   "cell_type": "markdown",
   "metadata": {},
   "source": [
    "- Megjegyzések:\n",
    "  + A szekvencia lehet egész számok folytonos sorozata, de lehet más is (pl. sztring, tuple, lista, halmaz, szótár, megnyitott fájl).\n",
    "  + Akkor érdemes for ciklust alkalmazni, ha A) a szekvencia már rendelkezésre áll vagy B) a ciklus kezdetekor tudjuk az iterációk számát."
   ]
  },
  {
   "cell_type": "markdown",
   "metadata": {},
   "source": [
    "### 1.példa\n",
    "Írjuk ki az alábbi könyvcímeket egymás alá a képernyőre:\n",
    "\n",
    "Jane Eyre, Shirley, Agnes Grey, Üvöltő Szelek"
   ]
  },
  {
   "cell_type": "code",
   "execution_count": 1,
   "metadata": {},
   "outputs": [
    {
     "name": "stdout",
     "output_type": "stream",
     "text": [
      "Jane Eyre\n",
      "Shirley\n",
      "Agnes Grey\n",
      "Üvöltő szelek\n"
     ]
    }
   ],
   "source": [
    "# ha csak az eddigi tudásunkat alkalmazzuk\n",
    "\n",
    "konyv_lista = ['Jane Eyre', 'Shirley', 'Agnes Grey', 'Üvöltő szelek']\n",
    "\n",
    "print(konyv_lista[0])\n",
    "print(konyv_lista[1])\n",
    "print(konyv_lista[2])\n",
    "print(konyv_lista[3])"
   ]
  },
  {
   "cell_type": "code",
   "execution_count": 2,
   "metadata": {},
   "outputs": [],
   "source": [
    "# Na de mi van, ha bővül a lista tovabbi konyvekkel? \n",
    "uj_konyvek = ['Wildfell asszonya', 'Villette', 'Henry Hastings kapitány']"
   ]
  },
  {
   "cell_type": "code",
   "execution_count": 3,
   "metadata": {},
   "outputs": [],
   "source": [
    "# új könyvek hozzáfűzése az eredeti listához\n",
    "konyv_lista += uj_konyvek"
   ]
  },
  {
   "cell_type": "code",
   "execution_count": 5,
   "metadata": {},
   "outputs": [
    {
     "name": "stdout",
     "output_type": "stream",
     "text": [
      "Jane Eyre\n",
      "Shirley\n",
      "Agnes Grey\n",
      "Üvöltő szelek\n",
      "Wildfell asszonya\n",
      "Villette\n",
      "Henry Hastings kapitány\n"
     ]
    }
   ],
   "source": [
    "# írjuk ki a neveket for ciklussal\n",
    "for name in konyv_lista:\n",
    "    print(name)"
   ]
  },
  {
   "cell_type": "code",
   "execution_count": 8,
   "metadata": {},
   "outputs": [
    {
     "name": "stdout",
     "output_type": "stream",
     "text": [
      "1 Jane Eyre\n",
      "2 Shirley\n",
      "3 Agnes Grey\n",
      "4 Üvöltő szelek\n",
      "5 Wildfell asszonya\n",
      "6 Villette\n",
      "7 Henry Hastings kapitány\n"
     ]
    }
   ],
   "source": [
    "# sorszámozzuk a kiírt könyvcímeket\n",
    "for i in range(len(konyv_lista)):\n",
    "    print(i+1, konyv_lista[i])\n"
   ]
  },
  {
   "cell_type": "markdown",
   "metadata": {},
   "source": [
    "### 1.példa folytatása\n",
    "Írjuk ki az alábbi könyvcímeket egymás alá a képernyőre sorszámozva.\n",
    " - a könyvcímek után tüntessük fel az egyes címek hosszát is zárójelben\n",
    " - mekkora a könyvcímek összhosszúsága?\n",
    " - mekkora a könyvcímek átlagos hossza?"
   ]
  },
  {
   "cell_type": "code",
   "execution_count": null,
   "metadata": {},
   "outputs": [],
   "source": [
    "konyv_lista = ['Jane Eyre', \n",
    "               'Shirley', \n",
    "               'Agnes Grey', \n",
    "               'Üvöltő szelek', \n",
    "               'Wildfell asszonya', \n",
    "               'Villette', \n",
    "               'Henry Hastings kapitány'\n",
    "               ]"
   ]
  },
  {
   "cell_type": "markdown",
   "metadata": {},
   "source": [
    "### 2.példa\n",
    "a) Írjuk ki a képernyőre az első 10 négyzetszámot!\n",
    "\n",
    "b) Gyűjtsük össze egy listába az első 10 négyzetszámot!"
   ]
  },
  {
   "cell_type": "code",
   "execution_count": null,
   "metadata": {},
   "outputs": [],
   "source": [
    "# Értéktartomány (range) létrehozása.\n",
    "list(range(10))"
   ]
  },
  {
   "cell_type": "code",
   "execution_count": null,
   "metadata": {},
   "outputs": [],
   "source": [
    "# 3 paraméter: kezdő érték (1), minél kisebb (11), mekkora lépésközzel (2) \n",
    "list(range(1, 10 + 1, 2))"
   ]
  },
  {
   "cell_type": "code",
   "execution_count": null,
   "metadata": {},
   "outputs": [],
   "source": [
    "# négyzetszámok kiírása"
   ]
  },
  {
   "cell_type": "markdown",
   "metadata": {},
   "source": [
    "### 3.példa\n",
    "a) Írjuk ki a képernyőre n darab * karaktert!\n",
    "\n",
    "b) Készítsünk n-szer n-es háromszöget * karakterekből!\n",
    "```\n",
    "n = 4 \n",
    "*\n",
    "**\n",
    "***\n",
    "****\n",
    "````"
   ]
  },
  {
   "cell_type": "code",
   "execution_count": null,
   "metadata": {},
   "outputs": [],
   "source": [
    "# Példa: n darab * karakter kiírása.\n"
   ]
  },
  {
   "cell_type": "code",
   "execution_count": null,
   "metadata": {},
   "outputs": [],
   "source": [
    "# Példa: n-szer n-es háromszög * karakterekből.\n"
   ]
  },
  {
   "cell_type": "markdown",
   "metadata": {},
   "source": [
    "### 4.példa:\n",
    "a) Számoljuk meg a magánhangzókat egy angol kisbetűs szövegben!\n",
    "\n",
    "b) Készítsünk statisztikát a magánhangzókról! Azaz külön, külön legyen meg minden magánhangzóra a darabszáma."
   ]
  },
  {
   "cell_type": "code",
   "execution_count": null,
   "metadata": {},
   "outputs": [],
   "source": [
    "# a) Magánhangzók megszámolása (angol kisbetűs szövegben).\n",
    "text = 'This is a short text for testing the algorithm.'\n",
    "vowels = {'a', 'e', 'i', 'o', 'u'}"
   ]
  },
  {
   "cell_type": "code",
   "execution_count": null,
   "metadata": {},
   "outputs": [],
   "source": [
    "# b) Magánhangzók statisztikája szótárral (angol kisbetűs szövegben).\n",
    "text = 'This is a short text for testing the algorithm.'\n",
    "vowels = {'a', 'e', 'i', 'o', 'u'}\n"
   ]
  },
  {
   "cell_type": "markdown",
   "metadata": {},
   "source": [
    "## if (ha) utasítás \n",
    " - [if utasítás a Python dokumentációban](https://docs.python.org/3/reference/compound_stmts.html#the-if-statement)\n",
    "\n",
    "- Szintaxis:\n",
    "```\n",
    "  if FELTÉTEL1:\n",
    "      UTASÍTÁS1\n",
    "  elif FELTÉTEL2:\n",
    "      UTASÍTÁS2\n",
    "  else:\n",
    "      UTASÍTÁS3\n",
    "```\n",
    "- Megjegyzések:\n",
    "  + Több elif ág is szerepelhet.\n",
    "  + Az elif ágak és az else ág is elhagyható.\n",
    "  + Ha az utasítás 1 soros, akkor írható az if-fel elif-fel ill. az else-zel azonos sorba."
   ]
  },
  {
   "cell_type": "markdown",
   "metadata": {},
   "source": [
    "### 1.Példa: Kérsz sört?"
   ]
  },
  {
   "cell_type": "code",
   "execution_count": null,
   "metadata": {},
   "outputs": [],
   "source": [
    "kor = 15\n",
    "if kor >= 18:\n",
    "    print(kor,\"éves vagy. Kaphatsz sört!\")\n",
    "else:\n",
    "    print(kor,\"éves vagy. Nem kaphatsz sört!\")"
   ]
  },
  {
   "cell_type": "markdown",
   "metadata": {},
   "source": [
    "### 2.példa: Mennyi 2*4?\n",
    "Az eredmény függvényében adjunk visszajelzést:\n",
    "- \"Ügyes vagy!\"\n",
    "- \"Gyakorold még a szorzótáblát!\""
   ]
  },
  {
   "cell_type": "code",
   "execution_count": null,
   "metadata": {},
   "outputs": [],
   "source": []
  },
  {
   "cell_type": "markdown",
   "metadata": {},
   "source": [
    "## for ciklust if utasításokkal kombinálva"
   ]
  },
  {
   "cell_type": "markdown",
   "metadata": {},
   "source": [
    "### 1.példa: Számlista elemeinek vizsgálata\n",
    "Az alábbi számlistában vizsgáljuk meg az elemeket:\n",
    "- írjuk ki az adott elemet, majd utána \n",
    "- írjuk ki ha negatív\n",
    "- írjuk ki ha egyjegyű \n",
    "- írjuk ki hogy páros, vagy páratlan"
   ]
  },
  {
   "cell_type": "code",
   "execution_count": null,
   "metadata": {},
   "outputs": [],
   "source": [
    "print(\"-\"*42+\"\\nSzámlista elemeinek vizsgálata:\\n\"+\"-\"*42)\n",
    "számlista=[0, 99, -7, 56, 23, 6, 1, -5, 9]"
   ]
  },
  {
   "cell_type": "markdown",
   "metadata": {},
   "source": [
    "### 2.példa: összetett feltételek\n",
    "- Az alábbi számlistából válogassa ki a 2-vel és 3-mal is osztható számokat!\n",
    "- Melyik számok oszthatók 7-tel úgy, hogy a négyzetük 3-mal osztva 1 maradékot ad?"
   ]
  },
  {
   "cell_type": "code",
   "execution_count": null,
   "metadata": {},
   "outputs": [],
   "source": [
    "számlista=[0, 99, -7, 56, 23, 6, 1, -5, 9]"
   ]
  },
  {
   "cell_type": "code",
   "execution_count": null,
   "metadata": {},
   "outputs": [],
   "source": []
  },
  {
   "cell_type": "markdown",
   "metadata": {
    "id": "LlA1VABE3LH1"
   },
   "source": [
    "# Feladatok"
   ]
  },
  {
   "cell_type": "markdown",
   "metadata": {},
   "source": [
    "## 1.Feladat: Másodfokú egyenlet megoldása\n",
    "Oldjuk meg az  $\\ ax^2+bx+c = 0 \\ $ alakú másodfokú egyenletet!"
   ]
  },
  {
   "cell_type": "code",
   "execution_count": null,
   "metadata": {},
   "outputs": [],
   "source": [
    "print(\"Az a*x^2 + b*x + c = 0 egyenlet megoldása.\")\n",
    "\n",
    "# a, b és c bekérése \n",
    "\n",
    "\n",
    "# bekért adatok kiírása \n",
    "\n",
    "\n",
    "# diszkrimináns  kiszámítása\n",
    "\n",
    "\n",
    "# visszajelzés a diszkrimináns értékét vizsgálva \n"
   ]
  },
  {
   "cell_type": "markdown",
   "metadata": {},
   "source": [
    "## 2.Feladat: rövid könyvcímek\n",
    "Az alábbi könyvcímeket tartalmazó listából, keressük ki a rövid (10 karakter vagy annál kevesebb) címeket.\n",
    "\n",
    "A megtalált címeket:\n",
    "- írjuk ki a képernyőre és \n",
    "- gyűjtsük össze egy ```rovid_lista``` nevű listába. "
   ]
  },
  {
   "cell_type": "code",
   "execution_count": null,
   "metadata": {},
   "outputs": [],
   "source": [
    "konyv_lista = ['Jane Eyre', \n",
    "               'Shirley', \n",
    "               'Agnes Grey', \n",
    "               'Üvöltő szelek', \n",
    "               'Wildfell asszonya', \n",
    "               'Villette', \n",
    "               'Henry Hastings kapitány'\n",
    "               ]"
   ]
  },
  {
   "cell_type": "markdown",
   "metadata": {
    "id": "VhCkQ2oY3LH6"
   },
   "source": [
    "## 3.Feladat: (négyzet)számok összege\n",
    "Írjunk programot, ami megadja az első $N$ szám összegét / négyzetösszegét:\n",
    "$$\\sum_{i=1}^{N} i=1+2+\\ldots +N=?\\qquad\\quad \\sum_{i=1}^{N} i^2=1^2+2^2+\\ldots +N^2=?$$"
   ]
  },
  {
   "cell_type": "code",
   "execution_count": null,
   "metadata": {},
   "outputs": [],
   "source": []
  },
  {
   "cell_type": "markdown",
   "metadata": {},
   "source": [
    "## 4.Feladat: Caesar-kódolás\n",
    "Készítsünk programot amely megvalósítja a Caesar kódolást. \n",
    "\n",
    "Ekkor egy számértékkel eltoljuk az abc-t.\n",
    "\n",
    "Például 1-es eltolás esetén:\n",
    "```a --> b; b --> c; ... z --> a```\n",
    "\n",
    "- Feltételezzük, hogy a szöveg latin kisbetűs és szóköz nélküli!\n",
    "- Legyen állítható az eltolás mértéke.\n",
    "\n",
    "Segítség: Ismerkedjünk meg az ```ord()``` és ```chr()``` függvényekkel!"
   ]
  },
  {
   "cell_type": "code",
   "execution_count": null,
   "metadata": {},
   "outputs": [],
   "source": [
    "# ord() karakter --> egészszám  \n",
    "ord(\"a\"), ord(\"z\"), ord(\"z\")-ord(\"a\")"
   ]
  },
  {
   "cell_type": "code",
   "execution_count": null,
   "metadata": {},
   "outputs": [],
   "source": [
    "# chr() egészszám --> karakter\n",
    "chr(100)"
   ]
  },
  {
   "cell_type": "code",
   "execution_count": null,
   "metadata": {},
   "outputs": [],
   "source": [
    "# 1. lépés: [97, 122] intervallumról átképezzük a betűket a [0,25]-re:\n"
   ]
  },
  {
   "cell_type": "code",
   "execution_count": null,
   "metadata": {},
   "outputs": [],
   "source": [
    "# 2. lépés: eltoljuk mondjuk 2-vel a számértéket, \n",
    "# majd maradékos osztással, ami 25-nél nagyobb (vagy negatív) lett az megy a [0,25] intervallum elejére:\n"
   ]
  },
  {
   "cell_type": "code",
   "execution_count": null,
   "metadata": {},
   "outputs": [],
   "source": [
    "# 3. lépés: visszaképezzük a [97,122] intervallumra\n",
    "# majd kiolvassuk a kapott betűt a számkódból chr() függvénnyel\n"
   ]
  },
  {
   "cell_type": "code",
   "execution_count": null,
   "metadata": {},
   "outputs": [],
   "source": [
    "# Példa: Caesar-kódolás (latin kisbetűs szövegre, szóköz nélkül).\n",
    "s = 'venividivici' # az eredeti szöveg\n",
    "t = ''             # a kódolt szöveg\n",
    "eltol = 3         # eltolás\n"
   ]
  },
  {
   "cell_type": "markdown",
   "metadata": {
    "id": "fHCUmX_v3LH1"
   },
   "source": [
    "## 5.Feladat: szorzótábla gyakorló\n",
    "Készítsünk egy szorzótábla gyakorló programot! Az összeszorzandó számokat random módon generáljuk. (Segítség lentebb.)\n",
    "\n",
    "[1] Írjuk ki az aktuális feladványt!\n",
    "\n",
    "[2] Kérjük be a felhasználótól az eredményt!\n",
    "\n",
    "[3] Adjunk visszajelzést az eredmény függvényében:\n",
    " - Dícsérjük meg ha jól számolt: \"Ügyes vagy!\"\n",
    " - Bíztassuk további gyakorlásra ha nem: \"Gyakolrold még a szorzótáblát!\""
   ]
  },
  {
   "cell_type": "code",
   "execution_count": null,
   "metadata": {
    "id": "Tu9JOgh_3LH2"
   },
   "outputs": [],
   "source": [
    "import random as rd"
   ]
  },
  {
   "cell_type": "code",
   "execution_count": null,
   "metadata": {
    "id": "wC58Hiso3LH2"
   },
   "outputs": [],
   "source": [
    "n = rd.randint(1,9)\n",
    "print(n)"
   ]
  },
  {
   "cell_type": "code",
   "execution_count": null,
   "metadata": {
    "id": "CfjgNgaI3LH3"
   },
   "outputs": [],
   "source": []
  },
  {
   "cell_type": "markdown",
   "metadata": {
    "id": "36wBYvMm3LH3"
   },
   "source": [
    "## 6.Feladat: Egyszerű megrendelés kezelő program\n",
    "Online sportboltunkban az alábbi raktárkészlet található. (**raktar** nevű szótár)\n",
    "\n",
    "Írjunk egy programot, ami megkérdezi, hogy mit szeretnénk vásásrolni. Majd utána megkérdezi, hogy abból hány darabot. Ha ez megvalósítható, akkor programunk vegye le raktárkészletről a megvásárolandó termékeket. \n",
    "\n",
    "Kezelje a program az alábbi eseteket is: \n",
    " - Nem is árúsítjuk az adott terméket \n",
    " - Árúsítjuk a terméket, de most nincs raktárkészleten\n",
    " - Túl sokat szeretne rendelni a vevő. Ekkor adjunk visszajelzést az elérhető darabszámról.  "
   ]
  },
  {
   "cell_type": "code",
   "execution_count": null,
   "metadata": {
    "id": "Ag63kg1o3LH3"
   },
   "outputs": [],
   "source": [
    "raktar = {\"focilabda\":10, \"jégcsákány\":1, \"pingpong ütő\": 4, \"tollaslabda\": 9, \"roller\": 3}"
   ]
  },
  {
   "cell_type": "code",
   "execution_count": null,
   "metadata": {
    "id": "SMQFQ7nx3LH4"
   },
   "outputs": [],
   "source": []
  },
  {
   "cell_type": "markdown",
   "metadata": {
    "id": "Ya1fRg9o3LH5"
   },
   "source": [
    "## 7.Feladat: Háromszög oldalak bekérése\n",
    "Írjon egy programot, ami bekéri egy háromszög 3 oldalhosszát. (a,b,c)\n",
    "A program csak a valóban szerkeszthető háromszög oldalakat fogadja el. \n",
    "\n",
    "Azaz ellenőrizze, hogy\n",
    "\n",
    " - lehetnek-e az adatok oldalhosszak? Azaz pozitívak-e a megadott számok? \n",
    " - továbbá teljesül-e a háromszög egyenlőtlenség? (Bármely két oldal összege nagyobb a harmadiknál.)\n",
    "\n",
    "Ha valamelyik feltétel sérül arról adjon visszajelzést!"
   ]
  },
  {
   "cell_type": "code",
   "execution_count": null,
   "metadata": {
    "id": "5dGS7-ku3LH5"
   },
   "outputs": [],
   "source": []
  },
  {
   "cell_type": "markdown",
   "metadata": {
    "id": "1YT20KWv3LH6"
   },
   "source": [
    "## 8. Feladat: Leibniz formula\n",
    "Írjon programot ami az alábbi formula segítségével közelíti $\\pi$ értékét!\n",
    "$$\\boxed{1\\,-\\,{\\frac {1}{3}}\\,+\\,{\\frac {1}{5}}\\,-\\,{\\frac {1}{7}}\\,+\\,{\\frac {1}{9}}\\,-\\,\\cdots \\,=\\,{\\frac {\\pi }{4}}}.$$\n",
    " - Fogalmazzuk át a fönti összeget $\\displaystyle\\sum_{i=0}^{\\infty} a_i$ alakúra.\n",
    " - Tárolja el egy listában a 10, 20, ... , 100 tagig vett összeget a tagok számával párosítva\n",
    " - írja ki a képernyőre a lista elemeit egymás alá"
   ]
  },
  {
   "cell_type": "code",
   "execution_count": null,
   "metadata": {},
   "outputs": [],
   "source": []
  }
 ],
 "metadata": {
  "colab": {
   "provenance": [
    {
     "file_id": "1mi0ka5IXZY5HV5AnBTUzSVTg9sdjwYqS",
     "timestamp": 1683043465192
    },
    {
     "file_id": "1Uw09KEcyRQFDjtf8kY4ODUFCtS_FFAf7",
     "timestamp": 1681980768561
    }
   ]
  },
  "kernelspec": {
   "display_name": "Python 3 (ipykernel)",
   "language": "python",
   "name": "python3"
  },
  "language_info": {
   "codemirror_mode": {
    "name": "ipython",
    "version": 3
   },
   "file_extension": ".py",
   "mimetype": "text/x-python",
   "name": "python",
   "nbconvert_exporter": "python",
   "pygments_lexer": "ipython3",
   "version": "3.9.15"
  }
 },
 "nbformat": 4,
 "nbformat_minor": 4
}
