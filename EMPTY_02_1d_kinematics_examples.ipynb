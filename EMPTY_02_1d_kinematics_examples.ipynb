{
 "cells": [
  {
   "cell_type": "code",
   "execution_count": null,
   "id": "0f196bcf",
   "metadata": {},
   "outputs": [],
   "source": [
    "!wget https://github.com/zoldbirka/colab-eng-phys/raw/refs/heads/main/kinematics.py\n",
    "\n",
    "# Make sure kinematics.py is downloaded and copied next to this file!"
   ]
  },
  {
   "cell_type": "code",
   "execution_count": 2,
   "id": "2eed3c86",
   "metadata": {},
   "outputs": [],
   "source": [
    "# importing modules\n",
    "import math   # math functions\n",
    "import matplotlib.pyplot as plt  # graph plot\n",
    "%matplotlib inline   \n",
    "\n",
    "## Solution with pre written 'kinematics.py'\n",
    "from kinematics import*"
   ]
  },
  {
   "cell_type": "markdown",
   "id": "f8a1cbaf",
   "metadata": {},
   "source": [
    "# More complex examples"
   ]
  },
  {
   "cell_type": "markdown",
   "id": "9065979f",
   "metadata": {},
   "source": [
    "## Calculations with specified x(t)"
   ]
  },
  {
   "cell_type": "markdown",
   "id": "0c8011d1",
   "metadata": {},
   "source": [
    "Problem:\n",
    "\n",
    "A body's position-time function is:\n",
    "$$x(t)=5.6\\cdot e^{-\\frac{(t-3)^2}{2\\cdot0.5^2}}\\cdot \\sin(6\\pi t)$$\n",
    "\n",
    "* Plot $x(t)$, $v(t)$, $a(t)$ function from 0 to 6 s!\n",
    "* Plot displacement and distance covered functions from 0 to 6 s!\n",
    "* When will the body at $x=2.0$\\,m ? (multiple solutions possible!)\n",
    "* What is the maximum acceleration magnitude? At what time will the body move with that acceleration?\n",
    "* What is the maximum velocity magnitude? At what time will the body move with that speed?\n",
    "* When will the body move with half of the maximum velocity ? (multiple solutions possible!)"
   ]
  },
  {
   "cell_type": "markdown",
   "id": "3d809af8",
   "metadata": {},
   "source": [
    "## Plot 𝑥(𝑡), 𝑣(𝑡), 𝑎(𝑡) function from 0 to 6 s!"
   ]
  },
  {
   "cell_type": "code",
   "execution_count": 4,
   "id": "4394bf88",
   "metadata": {},
   "outputs": [],
   "source": [
    "# my x(t) function \n",
    "def my_xt(t):\n",
    "    pass\n",
    "\n",
    "# formula from the problem specification\n",
    "# change it for other problems"
   ]
  },
  {
   "cell_type": "code",
   "execution_count": 3,
   "id": "27b69958",
   "metadata": {},
   "outputs": [],
   "source": [
    "# Let's define the time values:\n",
    "t_tab = fill_list_series(0.0, 6.0, 0.0001)\n",
    "N = len(t_tab) # Number of time values"
   ]
  },
  {
   "cell_type": "code",
   "execution_count": 5,
   "id": "ec30f307",
   "metadata": {},
   "outputs": [],
   "source": [
    "# Let's calculate the x values:\n",
    "x_tab = calc_func_list(t_tab, my_xt)"
   ]
  },
  {
   "cell_type": "code",
   "execution_count": 6,
   "id": "32df7252",
   "metadata": {},
   "outputs": [],
   "source": [
    "# calculate velocity from position\n",
    "v_tab = deriv(t_tab, x_tab)\n",
    " #calculate acceleration from velocity\n",
    "a_tab = deriv(t_tab, v_tab)"
   ]
  },
  {
   "cell_type": "code",
   "execution_count": null,
   "id": "181e9bba",
   "metadata": {},
   "outputs": [],
   "source": [
    "# print some values to check\n",
    "# Use the copy and change it intelligently\n",
    "\n",
    "print(\"** First values **\")\n",
    "print(\"%10s\\t%10s\\t%10s\\t%10s\"%(\"t[i]\", \"x[i]\",\"v[i]\",\"a[i]\"))\n",
    "for i in range(5):\n",
    "    print(\"%10f\\t%10f\\t%10f\\t%10f\"%(t_tab[i], x_tab[i], v_tab[i], a_tab[i]))\n",
    "    \n",
    "print(\"\\n** Middle values **\")\n",
    "print(\"%10s\\t%10s\\t%10s\\t%10s\"%(\"t[i]\", \"x[i]\",\"v[i]\",\"a[i]\"))\n",
    "for i in range(N//2,N//2+5):\n",
    "    print(\"%10f\\t%10f\\t%10f\\t%10f\"%(t_tab[i], x_tab[i], v_tab[i], a_tab[i]))"
   ]
  },
  {
   "cell_type": "code",
   "execution_count": null,
   "id": "2918d7b8",
   "metadata": {},
   "outputs": [],
   "source": [
    "# It is a simple example of plotting. \n",
    "# Use the copy of it and change intelligently to plot what you want. \n",
    "# Sometimes just putting and deleting '#' character for deactivating or activating sepcific parts is enough\n",
    "\n",
    "t_range=[2.0, 3.0]    # for a specific range\n",
    "\n",
    "# initialize plot routine\n",
    "fig=plt.figure(figsize=(20,15))  # plot size\n",
    "\n",
    "# position of three sub-graphs\n",
    "ax1=fig.add_subplot(311) \n",
    "ax2=fig.add_subplot(312)\n",
    "ax3=fig.add_subplot(313)\n",
    "\n",
    "# setting of horizontal axes\n",
    "for ax in [ax1, ax2, ax3]:\n",
    "    ax.set_xlabel(\"t\") # set the label\n",
    "    #ax.set_xlim(t_range) # set the min and max values; comment it out if neccessary\n",
    "    ax.grid()    # draw a grey grid \n",
    "\n",
    "# content of graphs\n",
    "ax1.set_ylabel(\"x(t)\")\n",
    "ax1.plot(t_tab, x_tab, color=\"red\") # x(t) with red\n",
    "ax2.set_ylabel(\"v(t)\")\n",
    "ax2.plot(t_tab, v_tab, color=\"green\") # v(t) with green\n",
    "ax3.set_ylabel(\"a(t)\")\n",
    "ax3.plot(t_tab, a_tab, color=\"blue\") # a(t) with blue\n",
    "\n",
    "# plt.savefig(\"xva-graphs.png\") # comment it out if you want to save to a file"
   ]
  },
  {
   "cell_type": "markdown",
   "id": "9c7e0f1f",
   "metadata": {},
   "source": [
    "## Plot displacement and distance covered functions from 0 to 6 s!"
   ]
  },
  {
   "cell_type": "code",
   "execution_count": null,
   "id": "3557f9ab",
   "metadata": {},
   "outputs": [],
   "source": [
    "# calculations:\n"
   ]
  },
  {
   "cell_type": "code",
   "execution_count": null,
   "id": "6501ef16",
   "metadata": {},
   "outputs": [],
   "source": [
    "# Intelligent change in the 3-graph example above necessary\n"
   ]
  },
  {
   "cell_type": "code",
   "execution_count": null,
   "id": "7469d2f3",
   "metadata": {},
   "outputs": [],
   "source": [
    "# Print total dispacement and distance covered:"
   ]
  },
  {
   "cell_type": "markdown",
   "id": "a3e513f1",
   "metadata": {},
   "source": [
    "## Find interesting points"
   ]
  },
  {
   "cell_type": "markdown",
   "id": "3f58b4a7",
   "metadata": {},
   "source": [
    "### When will the body be at 𝑥=2.0 m ? (multiple solutions possible!)"
   ]
  },
  {
   "cell_type": "code",
   "execution_count": null,
   "id": "acf9657c",
   "metadata": {},
   "outputs": [],
   "source": []
  },
  {
   "cell_type": "markdown",
   "id": "8e3fd444",
   "metadata": {},
   "source": [
    "### What is the maximum acceleration magnitude? At what time will the body move with that acceleration?"
   ]
  },
  {
   "cell_type": "code",
   "execution_count": null,
   "id": "99989ab8",
   "metadata": {},
   "outputs": [],
   "source": [
    "# calculate accelaration magnitude ie. absolute value"
   ]
  },
  {
   "cell_type": "code",
   "execution_count": null,
   "id": "6679ade4",
   "metadata": {},
   "outputs": [],
   "source": [
    "# find index of maximum\n",
    "amag_max_ind = None"
   ]
  },
  {
   "cell_type": "code",
   "execution_count": null,
   "id": "5fa91ba1",
   "metadata": {},
   "outputs": [],
   "source": []
  },
  {
   "cell_type": "code",
   "execution_count": null,
   "id": "353c0007",
   "metadata": {},
   "outputs": [],
   "source": [
    "# Plot of maximum acceleration magnitude was not a question. It's just for fun.\n",
    "# This is a copy of the plot above\n",
    "# Modification: add points at maximum acceleration time\n",
    "# \n",
    "\n",
    "t_range=[2.0, 3.0]    # for a specific range\n",
    "\n",
    "# initialize plot routine\n",
    "fig=plt.figure(figsize=(20,15))  # plot size\n",
    "\n",
    "# position of three sub-graphs\n",
    "ax1=fig.add_subplot(311) \n",
    "ax2=fig.add_subplot(312)\n",
    "ax3=fig.add_subplot(313)\n",
    "\n",
    "# setting of horizontal axes\n",
    "for ax in [ax1, ax2, ax3]:\n",
    "    ax.set_xlabel(\"t\") # set the label\n",
    "    #ax.set_xlim(t_range) # set the min and max values; comment it out if neccessary\n",
    "    ax.grid()    # draw a grey grid \n",
    "\n",
    "# content of graphs\n",
    "ax1.set_ylabel(\"x(t)\")\n",
    "ax1.plot(t_tab, x_tab, color=\"red\") # x(t) with red\n",
    "ax2.set_ylabel(\"v(t)\")\n",
    "ax2.plot(t_tab, v_tab, color=\"green\") # v(t) with green\n",
    "ax3.set_ylabel(\"a(t)\")\n",
    "ax3.plot(t_tab, a_tab, color=\"blue\") # a(t) with blue\n",
    "\n",
    "# additional points at maximum acceleration times\n",
    "ax1.scatter([t_tab[amag_max_ind]], [x_tab[amag_max_ind]], s=100)  # plot the position at maxmimum acceleration\n",
    "ax2.scatter([t_tab[amag_max_ind]], [v_tab[amag_max_ind]], s=100)  # plot the velocity at maxmimum acceleration\n",
    "ax3.scatter([t_tab[amag_max_ind]], [a_tab[amag_max_ind]], s=100)  # plot the acceleration at maxmimum acceleration\n",
    "\n",
    "# plt.savefig(\"xva-graphs-maxaccel.png\") # comment it out if you want to save to a file"
   ]
  },
  {
   "cell_type": "markdown",
   "id": "9922c8b8",
   "metadata": {},
   "source": [
    "### What is the maximum velocity magnitude? At what time will the body move with that speed?"
   ]
  },
  {
   "cell_type": "code",
   "execution_count": null,
   "id": "ff77f545",
   "metadata": {},
   "outputs": [],
   "source": []
  },
  {
   "cell_type": "markdown",
   "id": "7245071c",
   "metadata": {},
   "source": [
    "### When will the body move with half of the maximum velocity ? (multiple solutions possible!)"
   ]
  },
  {
   "cell_type": "code",
   "execution_count": null,
   "id": "db1c72fd",
   "metadata": {},
   "outputs": [],
   "source": []
  },
  {
   "cell_type": "markdown",
   "id": "a6d47921",
   "metadata": {},
   "source": [
    "## Other problem with given $v(t)$"
   ]
  },
  {
   "cell_type": "markdown",
   "id": "f1a61257",
   "metadata": {},
   "source": [
    "Problem:\n",
    "\n",
    "A body's velocity-time function is:\n",
    "$$v(t)=\\frac{5.0}{(t+1.0)^3} - \\frac{25.0}{(t+2.0)^2}$$\n",
    "The body starts its motion at $x(0)=2.5$\\,m.\n",
    "\n",
    "* Plot $x(t)$, $v(t)$, $a(t)$ function from 0 to 10 s!\n",
    "* When will the body at $x=0$ m? (multiple solutions possible!)\n",
    "* What is the maximum acceleration magnitude? At what time will the body move with that acceleration?\n",
    "* What will be the value of maximum speed? What is the time of this case?\n",
    "* When will the acceleration be 0?"
   ]
  },
  {
   "cell_type": "code",
   "execution_count": null,
   "id": "357171de",
   "metadata": {},
   "outputs": [],
   "source": []
  },
  {
   "cell_type": "markdown",
   "id": "7a6ea960",
   "metadata": {},
   "source": [
    "### When will the body at $x=0$ m? (multiple solutions possible!)"
   ]
  },
  {
   "cell_type": "code",
   "execution_count": null,
   "id": "6937baf2",
   "metadata": {},
   "outputs": [],
   "source": []
  },
  {
   "cell_type": "markdown",
   "id": "7ad7c4ed",
   "metadata": {},
   "source": [
    "### What is the maximum acceleration magnitude? At what time will the body move with that acceleration?"
   ]
  },
  {
   "cell_type": "code",
   "execution_count": null,
   "id": "04fc461e",
   "metadata": {},
   "outputs": [],
   "source": []
  },
  {
   "cell_type": "markdown",
   "id": "c024b353",
   "metadata": {},
   "source": [
    "### What will be the value of maximum speed? What is the time of this case?"
   ]
  },
  {
   "cell_type": "code",
   "execution_count": null,
   "id": "250b142a",
   "metadata": {},
   "outputs": [],
   "source": []
  },
  {
   "cell_type": "markdown",
   "id": "90523640",
   "metadata": {},
   "source": [
    "### When will the acceleration be 0?"
   ]
  },
  {
   "cell_type": "code",
   "execution_count": null,
   "id": "a845876f",
   "metadata": {},
   "outputs": [],
   "source": []
  }
 ],
 "metadata": {
  "kernelspec": {
   "display_name": "pylatest",
   "language": "python",
   "name": "python3"
  },
  "language_info": {
   "codemirror_mode": {
    "name": "ipython",
    "version": 3
   },
   "file_extension": ".py",
   "mimetype": "text/x-python",
   "name": "python",
   "nbconvert_exporter": "python",
   "pygments_lexer": "ipython3",
   "version": "3.9.15"
  }
 },
 "nbformat": 4,
 "nbformat_minor": 5
}
